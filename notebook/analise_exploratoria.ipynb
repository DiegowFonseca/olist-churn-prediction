{
 "cells": [
  {
   "cell_type": "markdown",
   "id": "48c90d53",
   "metadata": {},
   "source": [
    "## Análise Exploratória de Dados - Previsão de Churn de Clientes Olist\n",
    "\n",
    "**Autor:** Diego Fonseca\n",
    "\n",
    "**Data:** 11 de julho de 2025\n",
    "\n",
    "---\n",
    "\n",
    "### 1. Objetivo de Negócio\n",
    "\n",
    "O principal objetivo deste projeto é desenvolver uma solução de dados para mitigar a perda de receita causada pelo cancelamento de clientes (churn) na plataforma de e-commerce Olist. Ao identificar proativamente os clientes com alta probabilidade de churn, a empresa pode criar campanhas de retenção direcionadas, aumentando a lealdade e o Lifetime Value (LTV) do cliente.\n",
    "\n",
    "### 2. Objetivo Deste Notebook\n",
    "\n",
    "O objetivo específico deste notebook de Análise Exploratória de Dados (EDA) é realizar uma investigação profunda nos dados para extrair insights e compreender os fatores que influenciam o churn. As principais metas são:\n",
    "* Analisar a distribuição e as características de cada variável.\n",
    "* Identificar padrões e correlações entre as features e a variável alvo (`churn`).\n",
    "* Formular hipóteses que serão testadas e validadas na etapa de modelagem.\n",
    "* Verificar a qualidade dos dados e a necessidade de limpeza ou transformação para a etapa de pré-processamento.\n",
    "\n",
    "### 3. Perguntas a Serem Respondidas\n",
    "\n",
    "Para guiar nossa análise, buscaremos responder às seguintes perguntas:\n",
    "\n",
    "1. Existe alguma relação de um cliente ter dado uma nota ruim e depois ter virado churn?\n",
    "\n",
    "2. Clientes que compram produtos mais caros tem tendência de virar churn? Ou é o contrário?\n",
    "\n",
    "3. O tipo de pagamento tem alguma relação se o cliente virou churn ou não?\n",
    "\n",
    "4. A quantidade de parcelas de uma compra interferiu na decisão de ser churn?\n",
    "\n",
    "5. Das 10 categorias de produtos mais vendidos, quais que deram mais churn? E das 10 categorias de produtos menos vendidos?\n",
    "\n",
    "\n",
    "---"
   ]
  },
  {
   "cell_type": "markdown",
   "id": "5b9185c6",
   "metadata": {},
   "source": [
    "#### Importando as bibliotecas"
   ]
  },
  {
   "cell_type": "code",
   "execution_count": 78,
   "id": "1a525361",
   "metadata": {},
   "outputs": [],
   "source": [
    "import pandas as pd\n",
    "import numpy as np\n",
    "import matplotlib.pyplot as plt\n",
    "import seaborn as sns\n",
    "\n",
    "# Arquivo contendo funções para ajudar na análise exploratória\n",
    "import sys\n",
    "sys.path.append('../utils')\n",
    "\n",
    "# Funções auxiliares para fazer a análise exploratória\n",
    "from eda_funcoes import valores_outliers, mostrar_distribuicao_dados_numericos, gerar_boxplot, regra_sturges, calcular_iv, gerar_tabela_contigencia, segmentar_dados_numericos_categoricos\n",
    "\n",
    "# Refere-se a bibliotecas para calcular estatísticas inferenciais\n",
    "from scipy import stats\n",
    "from scipy.stats import chi2_contingency\n",
    "\n",
    "\n",
    "# Configurar para não exibir warnings\n",
    "from warnings import filterwarnings\n",
    "filterwarnings('ignore')\n",
    "\n",
    "pd.set_option(\"display.max_columns\", None)"
   ]
  },
  {
   "cell_type": "markdown",
   "id": "d31d6ac6",
   "metadata": {},
   "source": [
    "#### Importando as bases de dados que vão compor a análise"
   ]
  },
  {
   "cell_type": "code",
   "execution_count": 79,
   "id": "cdced20a",
   "metadata": {},
   "outputs": [
    {
     "name": "stdout",
     "output_type": "stream",
     "text": [
      "Dados clientes\n"
     ]
    },
    {
     "data": {
      "text/html": [
       "<div>\n",
       "<style scoped>\n",
       "    .dataframe tbody tr th:only-of-type {\n",
       "        vertical-align: middle;\n",
       "    }\n",
       "\n",
       "    .dataframe tbody tr th {\n",
       "        vertical-align: top;\n",
       "    }\n",
       "\n",
       "    .dataframe thead th {\n",
       "        text-align: right;\n",
       "    }\n",
       "</style>\n",
       "<table border=\"1\" class=\"dataframe\">\n",
       "  <thead>\n",
       "    <tr style=\"text-align: right;\">\n",
       "      <th></th>\n",
       "      <th>customer_id</th>\n",
       "      <th>customer_unique_id</th>\n",
       "      <th>customer_zip_code_prefix</th>\n",
       "      <th>customer_city</th>\n",
       "      <th>customer_state</th>\n",
       "    </tr>\n",
       "  </thead>\n",
       "  <tbody>\n",
       "    <tr>\n",
       "      <th>0</th>\n",
       "      <td>06b8999e2fba1a1fbc88172c00ba8bc7</td>\n",
       "      <td>861eff4711a542e4b93843c6dd7febb0</td>\n",
       "      <td>14409</td>\n",
       "      <td>franca</td>\n",
       "      <td>SP</td>\n",
       "    </tr>\n",
       "    <tr>\n",
       "      <th>1</th>\n",
       "      <td>18955e83d337fd6b2def6b18a428ac77</td>\n",
       "      <td>290c77bc529b7ac935b93aa66c333dc3</td>\n",
       "      <td>9790</td>\n",
       "      <td>sao bernardo do campo</td>\n",
       "      <td>SP</td>\n",
       "    </tr>\n",
       "  </tbody>\n",
       "</table>\n",
       "</div>"
      ],
      "text/plain": [
       "                        customer_id                customer_unique_id  \\\n",
       "0  06b8999e2fba1a1fbc88172c00ba8bc7  861eff4711a542e4b93843c6dd7febb0   \n",
       "1  18955e83d337fd6b2def6b18a428ac77  290c77bc529b7ac935b93aa66c333dc3   \n",
       "\n",
       "   customer_zip_code_prefix          customer_city customer_state  \n",
       "0                     14409                 franca             SP  \n",
       "1                      9790  sao bernardo do campo             SP  "
      ]
     },
     "metadata": {},
     "output_type": "display_data"
    },
    {
     "name": "stdout",
     "output_type": "stream",
     "text": [
      "\n",
      "Dados de pedidos\n"
     ]
    },
    {
     "data": {
      "text/html": [
       "<div>\n",
       "<style scoped>\n",
       "    .dataframe tbody tr th:only-of-type {\n",
       "        vertical-align: middle;\n",
       "    }\n",
       "\n",
       "    .dataframe tbody tr th {\n",
       "        vertical-align: top;\n",
       "    }\n",
       "\n",
       "    .dataframe thead th {\n",
       "        text-align: right;\n",
       "    }\n",
       "</style>\n",
       "<table border=\"1\" class=\"dataframe\">\n",
       "  <thead>\n",
       "    <tr style=\"text-align: right;\">\n",
       "      <th></th>\n",
       "      <th>order_id</th>\n",
       "      <th>customer_id</th>\n",
       "      <th>order_status</th>\n",
       "      <th>order_purchase_timestamp</th>\n",
       "      <th>order_approved_at</th>\n",
       "      <th>order_delivered_carrier_date</th>\n",
       "      <th>order_delivered_customer_date</th>\n",
       "      <th>order_estimated_delivery_date</th>\n",
       "    </tr>\n",
       "  </thead>\n",
       "  <tbody>\n",
       "    <tr>\n",
       "      <th>0</th>\n",
       "      <td>e481f51cbdc54678b7cc49136f2d6af7</td>\n",
       "      <td>9ef432eb6251297304e76186b10a928d</td>\n",
       "      <td>delivered</td>\n",
       "      <td>2017-10-02 10:56:33</td>\n",
       "      <td>2017-10-02 11:07:15</td>\n",
       "      <td>2017-10-04 19:55:00</td>\n",
       "      <td>2017-10-10 21:25:13</td>\n",
       "      <td>2017-10-18 00:00:00</td>\n",
       "    </tr>\n",
       "    <tr>\n",
       "      <th>1</th>\n",
       "      <td>53cdb2fc8bc7dce0b6741e2150273451</td>\n",
       "      <td>b0830fb4747a6c6d20dea0b8c802d7ef</td>\n",
       "      <td>delivered</td>\n",
       "      <td>2018-07-24 20:41:37</td>\n",
       "      <td>2018-07-26 03:24:27</td>\n",
       "      <td>2018-07-26 14:31:00</td>\n",
       "      <td>2018-08-07 15:27:45</td>\n",
       "      <td>2018-08-13 00:00:00</td>\n",
       "    </tr>\n",
       "  </tbody>\n",
       "</table>\n",
       "</div>"
      ],
      "text/plain": [
       "                           order_id                       customer_id  \\\n",
       "0  e481f51cbdc54678b7cc49136f2d6af7  9ef432eb6251297304e76186b10a928d   \n",
       "1  53cdb2fc8bc7dce0b6741e2150273451  b0830fb4747a6c6d20dea0b8c802d7ef   \n",
       "\n",
       "  order_status order_purchase_timestamp    order_approved_at  \\\n",
       "0    delivered      2017-10-02 10:56:33  2017-10-02 11:07:15   \n",
       "1    delivered      2018-07-24 20:41:37  2018-07-26 03:24:27   \n",
       "\n",
       "  order_delivered_carrier_date order_delivered_customer_date  \\\n",
       "0          2017-10-04 19:55:00           2017-10-10 21:25:13   \n",
       "1          2018-07-26 14:31:00           2018-08-07 15:27:45   \n",
       "\n",
       "  order_estimated_delivery_date  \n",
       "0           2017-10-18 00:00:00  \n",
       "1           2018-08-13 00:00:00  "
      ]
     },
     "metadata": {},
     "output_type": "display_data"
    },
    {
     "name": "stdout",
     "output_type": "stream",
     "text": [
      "\n",
      "Dados dos itens dos pedidos\n"
     ]
    },
    {
     "data": {
      "text/html": [
       "<div>\n",
       "<style scoped>\n",
       "    .dataframe tbody tr th:only-of-type {\n",
       "        vertical-align: middle;\n",
       "    }\n",
       "\n",
       "    .dataframe tbody tr th {\n",
       "        vertical-align: top;\n",
       "    }\n",
       "\n",
       "    .dataframe thead th {\n",
       "        text-align: right;\n",
       "    }\n",
       "</style>\n",
       "<table border=\"1\" class=\"dataframe\">\n",
       "  <thead>\n",
       "    <tr style=\"text-align: right;\">\n",
       "      <th></th>\n",
       "      <th>order_id</th>\n",
       "      <th>order_item_id</th>\n",
       "      <th>product_id</th>\n",
       "      <th>seller_id</th>\n",
       "      <th>shipping_limit_date</th>\n",
       "      <th>price</th>\n",
       "      <th>freight_value</th>\n",
       "    </tr>\n",
       "  </thead>\n",
       "  <tbody>\n",
       "    <tr>\n",
       "      <th>0</th>\n",
       "      <td>00010242fe8c5a6d1ba2dd792cb16214</td>\n",
       "      <td>1</td>\n",
       "      <td>4244733e06e7ecb4970a6e2683c13e61</td>\n",
       "      <td>48436dade18ac8b2bce089ec2a041202</td>\n",
       "      <td>2017-09-19 09:45:35</td>\n",
       "      <td>58.9</td>\n",
       "      <td>13.29</td>\n",
       "    </tr>\n",
       "    <tr>\n",
       "      <th>1</th>\n",
       "      <td>00018f77f2f0320c557190d7a144bdd3</td>\n",
       "      <td>1</td>\n",
       "      <td>e5f2d52b802189ee658865ca93d83a8f</td>\n",
       "      <td>dd7ddc04e1b6c2c614352b383efe2d36</td>\n",
       "      <td>2017-05-03 11:05:13</td>\n",
       "      <td>239.9</td>\n",
       "      <td>19.93</td>\n",
       "    </tr>\n",
       "  </tbody>\n",
       "</table>\n",
       "</div>"
      ],
      "text/plain": [
       "                           order_id  order_item_id  \\\n",
       "0  00010242fe8c5a6d1ba2dd792cb16214              1   \n",
       "1  00018f77f2f0320c557190d7a144bdd3              1   \n",
       "\n",
       "                         product_id                         seller_id  \\\n",
       "0  4244733e06e7ecb4970a6e2683c13e61  48436dade18ac8b2bce089ec2a041202   \n",
       "1  e5f2d52b802189ee658865ca93d83a8f  dd7ddc04e1b6c2c614352b383efe2d36   \n",
       "\n",
       "   shipping_limit_date  price  freight_value  \n",
       "0  2017-09-19 09:45:35   58.9          13.29  \n",
       "1  2017-05-03 11:05:13  239.9          19.93  "
      ]
     },
     "metadata": {},
     "output_type": "display_data"
    },
    {
     "name": "stdout",
     "output_type": "stream",
     "text": [
      "\n",
      "Dados dos pagamentos dos pedidos\n"
     ]
    },
    {
     "data": {
      "text/html": [
       "<div>\n",
       "<style scoped>\n",
       "    .dataframe tbody tr th:only-of-type {\n",
       "        vertical-align: middle;\n",
       "    }\n",
       "\n",
       "    .dataframe tbody tr th {\n",
       "        vertical-align: top;\n",
       "    }\n",
       "\n",
       "    .dataframe thead th {\n",
       "        text-align: right;\n",
       "    }\n",
       "</style>\n",
       "<table border=\"1\" class=\"dataframe\">\n",
       "  <thead>\n",
       "    <tr style=\"text-align: right;\">\n",
       "      <th></th>\n",
       "      <th>order_id</th>\n",
       "      <th>payment_sequential</th>\n",
       "      <th>payment_type</th>\n",
       "      <th>payment_installments</th>\n",
       "      <th>payment_value</th>\n",
       "    </tr>\n",
       "  </thead>\n",
       "  <tbody>\n",
       "    <tr>\n",
       "      <th>0</th>\n",
       "      <td>b81ef226f3fe1789b1e8b2acac839d17</td>\n",
       "      <td>1</td>\n",
       "      <td>credit_card</td>\n",
       "      <td>8</td>\n",
       "      <td>99.33</td>\n",
       "    </tr>\n",
       "    <tr>\n",
       "      <th>1</th>\n",
       "      <td>a9810da82917af2d9aefd1278f1dcfa0</td>\n",
       "      <td>1</td>\n",
       "      <td>credit_card</td>\n",
       "      <td>1</td>\n",
       "      <td>24.39</td>\n",
       "    </tr>\n",
       "  </tbody>\n",
       "</table>\n",
       "</div>"
      ],
      "text/plain": [
       "                           order_id  payment_sequential payment_type  \\\n",
       "0  b81ef226f3fe1789b1e8b2acac839d17                   1  credit_card   \n",
       "1  a9810da82917af2d9aefd1278f1dcfa0                   1  credit_card   \n",
       "\n",
       "   payment_installments  payment_value  \n",
       "0                     8          99.33  \n",
       "1                     1          24.39  "
      ]
     },
     "metadata": {},
     "output_type": "display_data"
    },
    {
     "name": "stdout",
     "output_type": "stream",
     "text": [
      "\n",
      "Dados dos produtos\n"
     ]
    },
    {
     "data": {
      "text/html": [
       "<div>\n",
       "<style scoped>\n",
       "    .dataframe tbody tr th:only-of-type {\n",
       "        vertical-align: middle;\n",
       "    }\n",
       "\n",
       "    .dataframe tbody tr th {\n",
       "        vertical-align: top;\n",
       "    }\n",
       "\n",
       "    .dataframe thead th {\n",
       "        text-align: right;\n",
       "    }\n",
       "</style>\n",
       "<table border=\"1\" class=\"dataframe\">\n",
       "  <thead>\n",
       "    <tr style=\"text-align: right;\">\n",
       "      <th></th>\n",
       "      <th>product_id</th>\n",
       "      <th>product_category_name</th>\n",
       "      <th>product_name_lenght</th>\n",
       "      <th>product_description_lenght</th>\n",
       "      <th>product_photos_qty</th>\n",
       "      <th>product_weight_g</th>\n",
       "      <th>product_length_cm</th>\n",
       "      <th>product_height_cm</th>\n",
       "      <th>product_width_cm</th>\n",
       "    </tr>\n",
       "  </thead>\n",
       "  <tbody>\n",
       "    <tr>\n",
       "      <th>0</th>\n",
       "      <td>1e9e8ef04dbcff4541ed26657ea517e5</td>\n",
       "      <td>perfumaria</td>\n",
       "      <td>40.0</td>\n",
       "      <td>287.0</td>\n",
       "      <td>1.0</td>\n",
       "      <td>225.0</td>\n",
       "      <td>16.0</td>\n",
       "      <td>10.0</td>\n",
       "      <td>14.0</td>\n",
       "    </tr>\n",
       "    <tr>\n",
       "      <th>1</th>\n",
       "      <td>3aa071139cb16b67ca9e5dea641aaa2f</td>\n",
       "      <td>artes</td>\n",
       "      <td>44.0</td>\n",
       "      <td>276.0</td>\n",
       "      <td>1.0</td>\n",
       "      <td>1000.0</td>\n",
       "      <td>30.0</td>\n",
       "      <td>18.0</td>\n",
       "      <td>20.0</td>\n",
       "    </tr>\n",
       "  </tbody>\n",
       "</table>\n",
       "</div>"
      ],
      "text/plain": [
       "                         product_id product_category_name  \\\n",
       "0  1e9e8ef04dbcff4541ed26657ea517e5            perfumaria   \n",
       "1  3aa071139cb16b67ca9e5dea641aaa2f                 artes   \n",
       "\n",
       "   product_name_lenght  product_description_lenght  product_photos_qty  \\\n",
       "0                 40.0                       287.0                 1.0   \n",
       "1                 44.0                       276.0                 1.0   \n",
       "\n",
       "   product_weight_g  product_length_cm  product_height_cm  product_width_cm  \n",
       "0             225.0               16.0               10.0              14.0  \n",
       "1            1000.0               30.0               18.0              20.0  "
      ]
     },
     "metadata": {},
     "output_type": "display_data"
    },
    {
     "name": "stdout",
     "output_type": "stream",
     "text": [
      "\n",
      "Dados das avaliações dos pedidos\n"
     ]
    },
    {
     "data": {
      "text/html": [
       "<div>\n",
       "<style scoped>\n",
       "    .dataframe tbody tr th:only-of-type {\n",
       "        vertical-align: middle;\n",
       "    }\n",
       "\n",
       "    .dataframe tbody tr th {\n",
       "        vertical-align: top;\n",
       "    }\n",
       "\n",
       "    .dataframe thead th {\n",
       "        text-align: right;\n",
       "    }\n",
       "</style>\n",
       "<table border=\"1\" class=\"dataframe\">\n",
       "  <thead>\n",
       "    <tr style=\"text-align: right;\">\n",
       "      <th></th>\n",
       "      <th>review_id</th>\n",
       "      <th>order_id</th>\n",
       "      <th>review_score</th>\n",
       "      <th>review_comment_title</th>\n",
       "      <th>review_comment_message</th>\n",
       "      <th>review_creation_date</th>\n",
       "      <th>review_answer_timestamp</th>\n",
       "    </tr>\n",
       "  </thead>\n",
       "  <tbody>\n",
       "    <tr>\n",
       "      <th>0</th>\n",
       "      <td>7bc2406110b926393aa56f80a40eba40</td>\n",
       "      <td>73fc7af87114b39712e6da79b0a377eb</td>\n",
       "      <td>4</td>\n",
       "      <td>NaN</td>\n",
       "      <td>NaN</td>\n",
       "      <td>2018-01-18 00:00:00</td>\n",
       "      <td>2018-01-18 21:46:59</td>\n",
       "    </tr>\n",
       "    <tr>\n",
       "      <th>1</th>\n",
       "      <td>80e641a11e56f04c1ad469d5645fdfde</td>\n",
       "      <td>a548910a1c6147796b98fdf73dbeba33</td>\n",
       "      <td>5</td>\n",
       "      <td>NaN</td>\n",
       "      <td>NaN</td>\n",
       "      <td>2018-03-10 00:00:00</td>\n",
       "      <td>2018-03-11 03:05:13</td>\n",
       "    </tr>\n",
       "  </tbody>\n",
       "</table>\n",
       "</div>"
      ],
      "text/plain": [
       "                          review_id                          order_id  \\\n",
       "0  7bc2406110b926393aa56f80a40eba40  73fc7af87114b39712e6da79b0a377eb   \n",
       "1  80e641a11e56f04c1ad469d5645fdfde  a548910a1c6147796b98fdf73dbeba33   \n",
       "\n",
       "   review_score review_comment_title review_comment_message  \\\n",
       "0             4                  NaN                    NaN   \n",
       "1             5                  NaN                    NaN   \n",
       "\n",
       "  review_creation_date review_answer_timestamp  \n",
       "0  2018-01-18 00:00:00     2018-01-18 21:46:59  \n",
       "1  2018-03-10 00:00:00     2018-03-11 03:05:13  "
      ]
     },
     "metadata": {},
     "output_type": "display_data"
    },
    {
     "name": "stdout",
     "output_type": "stream",
     "text": [
      "\n"
     ]
    }
   ],
   "source": [
    "# Base de dados de clientes\n",
    "clientes = pd.read_csv(\"../data/data_raw/olist_customers_dataset.csv\")\n",
    "print(\"Dados clientes\")\n",
    "display(clientes.head(2))\n",
    "print()\n",
    "\n",
    "# Base de dados de pedido (base principal)\n",
    "pedidos = pd.read_csv(\"../data/data_raw/olist_orders_dataset.csv\")\n",
    "print(\"Dados de pedidos\")\n",
    "display(pedidos.head(2))\n",
    "print()\n",
    "\n",
    "# Base de dados dos itens do pedido\n",
    "itens_pedidos = pd.read_csv(\"../data/data_raw/olist_order_items_dataset.csv\")\n",
    "print(\"Dados dos itens dos pedidos\")\n",
    "display(itens_pedidos.head(2))\n",
    "print()\n",
    "\n",
    "# Base de dados de pagamentos dos pedidos\n",
    "pagamentos = pd.read_csv(\"../data/data_raw/olist_order_payments_dataset.csv\")\n",
    "print(\"Dados dos pagamentos dos pedidos\")\n",
    "display(pagamentos.head(2))\n",
    "print()\n",
    "\n",
    "# Base de dados de produtos dos pedidos\n",
    "produtos = pd.read_csv(\"../data/data_raw/olist_products_dataset.csv\")\n",
    "print(\"Dados dos produtos\")\n",
    "display(produtos.head(2))\n",
    "print()\n",
    "\n",
    "# Base de dados das avaliações dos pedidos\n",
    "avaliacoes = pd.read_csv(\"../data/data_raw/olist_order_reviews_dataset.csv\")\n",
    "print(\"Dados das avaliações dos pedidos\")\n",
    "display(avaliacoes.head(2))\n",
    "print()"
   ]
  },
  {
   "cell_type": "markdown",
   "id": "a2b8a10b",
   "metadata": {},
   "source": [
    "- Depois de importar todas as bases de dados, vamos pegar as colunas mais importantes de cada base para juntar em uma base só. Ela será a base principal para fazer os tratamentos e análises."
   ]
  },
  {
   "cell_type": "code",
   "execution_count": 80,
   "id": "c5279f1d",
   "metadata": {},
   "outputs": [],
   "source": [
    "# As colunas das bases que vão integrar a base principal\n",
    "colunas_clientes = ['customer_id', 'customer_unique_id', 'customer_city', 'customer_state']\n",
    "colunas_itens_pedidos = ['order_id', 'order_item_id', 'product_id', 'seller_id', 'price', 'freight_value']\n",
    "colunas_pagamentos = ['order_id', 'payment_type', 'payment_installments']\n",
    "colunas_produtos = ['product_id', 'product_category_name']\n",
    "colunas_avaliacoes = ['order_id', 'review_score', 'review_answer_timestamp']"
   ]
  },
  {
   "cell_type": "code",
   "execution_count": 81,
   "id": "c097e6fa",
   "metadata": {},
   "outputs": [
    {
     "data": {
      "text/html": [
       "<div>\n",
       "<style scoped>\n",
       "    .dataframe tbody tr th:only-of-type {\n",
       "        vertical-align: middle;\n",
       "    }\n",
       "\n",
       "    .dataframe tbody tr th {\n",
       "        vertical-align: top;\n",
       "    }\n",
       "\n",
       "    .dataframe thead th {\n",
       "        text-align: right;\n",
       "    }\n",
       "</style>\n",
       "<table border=\"1\" class=\"dataframe\">\n",
       "  <thead>\n",
       "    <tr style=\"text-align: right;\">\n",
       "      <th></th>\n",
       "      <th>order_id</th>\n",
       "      <th>customer_id</th>\n",
       "      <th>order_status</th>\n",
       "      <th>order_purchase_timestamp</th>\n",
       "      <th>order_approved_at</th>\n",
       "      <th>order_delivered_carrier_date</th>\n",
       "      <th>order_delivered_customer_date</th>\n",
       "      <th>order_estimated_delivery_date</th>\n",
       "      <th>customer_unique_id</th>\n",
       "      <th>customer_city</th>\n",
       "      <th>customer_state</th>\n",
       "      <th>order_item_id</th>\n",
       "      <th>product_id</th>\n",
       "      <th>seller_id</th>\n",
       "      <th>price</th>\n",
       "      <th>freight_value</th>\n",
       "      <th>payment_type</th>\n",
       "      <th>payment_installments</th>\n",
       "      <th>product_category_name</th>\n",
       "      <th>review_score</th>\n",
       "      <th>review_answer_timestamp</th>\n",
       "    </tr>\n",
       "  </thead>\n",
       "  <tbody>\n",
       "    <tr>\n",
       "      <th>0</th>\n",
       "      <td>e481f51cbdc54678b7cc49136f2d6af7</td>\n",
       "      <td>9ef432eb6251297304e76186b10a928d</td>\n",
       "      <td>delivered</td>\n",
       "      <td>2017-10-02 10:56:33</td>\n",
       "      <td>2017-10-02 11:07:15</td>\n",
       "      <td>2017-10-04 19:55:00</td>\n",
       "      <td>2017-10-10 21:25:13</td>\n",
       "      <td>2017-10-18 00:00:00</td>\n",
       "      <td>7c396fd4830fd04220f754e42b4e5bff</td>\n",
       "      <td>sao paulo</td>\n",
       "      <td>SP</td>\n",
       "      <td>1</td>\n",
       "      <td>87285b34884572647811a353c7ac498a</td>\n",
       "      <td>3504c0cb71d7fa48d967e0e4c94d59d9</td>\n",
       "      <td>29.99</td>\n",
       "      <td>8.72</td>\n",
       "      <td>credit_card</td>\n",
       "      <td>1</td>\n",
       "      <td>utilidades_domesticas</td>\n",
       "      <td>4</td>\n",
       "      <td>2017-10-12 03:43:48</td>\n",
       "    </tr>\n",
       "    <tr>\n",
       "      <th>1</th>\n",
       "      <td>e481f51cbdc54678b7cc49136f2d6af7</td>\n",
       "      <td>9ef432eb6251297304e76186b10a928d</td>\n",
       "      <td>delivered</td>\n",
       "      <td>2017-10-02 10:56:33</td>\n",
       "      <td>2017-10-02 11:07:15</td>\n",
       "      <td>2017-10-04 19:55:00</td>\n",
       "      <td>2017-10-10 21:25:13</td>\n",
       "      <td>2017-10-18 00:00:00</td>\n",
       "      <td>7c396fd4830fd04220f754e42b4e5bff</td>\n",
       "      <td>sao paulo</td>\n",
       "      <td>SP</td>\n",
       "      <td>1</td>\n",
       "      <td>87285b34884572647811a353c7ac498a</td>\n",
       "      <td>3504c0cb71d7fa48d967e0e4c94d59d9</td>\n",
       "      <td>29.99</td>\n",
       "      <td>8.72</td>\n",
       "      <td>voucher</td>\n",
       "      <td>1</td>\n",
       "      <td>utilidades_domesticas</td>\n",
       "      <td>4</td>\n",
       "      <td>2017-10-12 03:43:48</td>\n",
       "    </tr>\n",
       "    <tr>\n",
       "      <th>2</th>\n",
       "      <td>e481f51cbdc54678b7cc49136f2d6af7</td>\n",
       "      <td>9ef432eb6251297304e76186b10a928d</td>\n",
       "      <td>delivered</td>\n",
       "      <td>2017-10-02 10:56:33</td>\n",
       "      <td>2017-10-02 11:07:15</td>\n",
       "      <td>2017-10-04 19:55:00</td>\n",
       "      <td>2017-10-10 21:25:13</td>\n",
       "      <td>2017-10-18 00:00:00</td>\n",
       "      <td>7c396fd4830fd04220f754e42b4e5bff</td>\n",
       "      <td>sao paulo</td>\n",
       "      <td>SP</td>\n",
       "      <td>1</td>\n",
       "      <td>87285b34884572647811a353c7ac498a</td>\n",
       "      <td>3504c0cb71d7fa48d967e0e4c94d59d9</td>\n",
       "      <td>29.99</td>\n",
       "      <td>8.72</td>\n",
       "      <td>voucher</td>\n",
       "      <td>1</td>\n",
       "      <td>utilidades_domesticas</td>\n",
       "      <td>4</td>\n",
       "      <td>2017-10-12 03:43:48</td>\n",
       "    </tr>\n",
       "    <tr>\n",
       "      <th>3</th>\n",
       "      <td>53cdb2fc8bc7dce0b6741e2150273451</td>\n",
       "      <td>b0830fb4747a6c6d20dea0b8c802d7ef</td>\n",
       "      <td>delivered</td>\n",
       "      <td>2018-07-24 20:41:37</td>\n",
       "      <td>2018-07-26 03:24:27</td>\n",
       "      <td>2018-07-26 14:31:00</td>\n",
       "      <td>2018-08-07 15:27:45</td>\n",
       "      <td>2018-08-13 00:00:00</td>\n",
       "      <td>af07308b275d755c9edb36a90c618231</td>\n",
       "      <td>barreiras</td>\n",
       "      <td>BA</td>\n",
       "      <td>1</td>\n",
       "      <td>595fac2a385ac33a80bd5114aec74eb8</td>\n",
       "      <td>289cdb325fb7e7f891c38608bf9e0962</td>\n",
       "      <td>118.70</td>\n",
       "      <td>22.76</td>\n",
       "      <td>boleto</td>\n",
       "      <td>1</td>\n",
       "      <td>perfumaria</td>\n",
       "      <td>4</td>\n",
       "      <td>2018-08-08 18:37:50</td>\n",
       "    </tr>\n",
       "    <tr>\n",
       "      <th>4</th>\n",
       "      <td>47770eb9100c2d0c44946d9cf07ec65d</td>\n",
       "      <td>41ce2a54c0b03bf3443c3d931a367089</td>\n",
       "      <td>delivered</td>\n",
       "      <td>2018-08-08 08:38:49</td>\n",
       "      <td>2018-08-08 08:55:23</td>\n",
       "      <td>2018-08-08 13:50:00</td>\n",
       "      <td>2018-08-17 18:06:29</td>\n",
       "      <td>2018-09-04 00:00:00</td>\n",
       "      <td>3a653a41f6f9fc3d2a113cf8398680e8</td>\n",
       "      <td>vianopolis</td>\n",
       "      <td>GO</td>\n",
       "      <td>1</td>\n",
       "      <td>aa4383b373c6aca5d8797843e5594415</td>\n",
       "      <td>4869f7a5dfa277a7dca6462dcf3b52b2</td>\n",
       "      <td>159.90</td>\n",
       "      <td>19.22</td>\n",
       "      <td>credit_card</td>\n",
       "      <td>3</td>\n",
       "      <td>automotivo</td>\n",
       "      <td>5</td>\n",
       "      <td>2018-08-22 19:07:58</td>\n",
       "    </tr>\n",
       "  </tbody>\n",
       "</table>\n",
       "</div>"
      ],
      "text/plain": [
       "                           order_id                       customer_id  \\\n",
       "0  e481f51cbdc54678b7cc49136f2d6af7  9ef432eb6251297304e76186b10a928d   \n",
       "1  e481f51cbdc54678b7cc49136f2d6af7  9ef432eb6251297304e76186b10a928d   \n",
       "2  e481f51cbdc54678b7cc49136f2d6af7  9ef432eb6251297304e76186b10a928d   \n",
       "3  53cdb2fc8bc7dce0b6741e2150273451  b0830fb4747a6c6d20dea0b8c802d7ef   \n",
       "4  47770eb9100c2d0c44946d9cf07ec65d  41ce2a54c0b03bf3443c3d931a367089   \n",
       "\n",
       "  order_status order_purchase_timestamp    order_approved_at  \\\n",
       "0    delivered      2017-10-02 10:56:33  2017-10-02 11:07:15   \n",
       "1    delivered      2017-10-02 10:56:33  2017-10-02 11:07:15   \n",
       "2    delivered      2017-10-02 10:56:33  2017-10-02 11:07:15   \n",
       "3    delivered      2018-07-24 20:41:37  2018-07-26 03:24:27   \n",
       "4    delivered      2018-08-08 08:38:49  2018-08-08 08:55:23   \n",
       "\n",
       "  order_delivered_carrier_date order_delivered_customer_date  \\\n",
       "0          2017-10-04 19:55:00           2017-10-10 21:25:13   \n",
       "1          2017-10-04 19:55:00           2017-10-10 21:25:13   \n",
       "2          2017-10-04 19:55:00           2017-10-10 21:25:13   \n",
       "3          2018-07-26 14:31:00           2018-08-07 15:27:45   \n",
       "4          2018-08-08 13:50:00           2018-08-17 18:06:29   \n",
       "\n",
       "  order_estimated_delivery_date                customer_unique_id  \\\n",
       "0           2017-10-18 00:00:00  7c396fd4830fd04220f754e42b4e5bff   \n",
       "1           2017-10-18 00:00:00  7c396fd4830fd04220f754e42b4e5bff   \n",
       "2           2017-10-18 00:00:00  7c396fd4830fd04220f754e42b4e5bff   \n",
       "3           2018-08-13 00:00:00  af07308b275d755c9edb36a90c618231   \n",
       "4           2018-09-04 00:00:00  3a653a41f6f9fc3d2a113cf8398680e8   \n",
       "\n",
       "  customer_city customer_state  order_item_id  \\\n",
       "0     sao paulo             SP              1   \n",
       "1     sao paulo             SP              1   \n",
       "2     sao paulo             SP              1   \n",
       "3     barreiras             BA              1   \n",
       "4    vianopolis             GO              1   \n",
       "\n",
       "                         product_id                         seller_id   price  \\\n",
       "0  87285b34884572647811a353c7ac498a  3504c0cb71d7fa48d967e0e4c94d59d9   29.99   \n",
       "1  87285b34884572647811a353c7ac498a  3504c0cb71d7fa48d967e0e4c94d59d9   29.99   \n",
       "2  87285b34884572647811a353c7ac498a  3504c0cb71d7fa48d967e0e4c94d59d9   29.99   \n",
       "3  595fac2a385ac33a80bd5114aec74eb8  289cdb325fb7e7f891c38608bf9e0962  118.70   \n",
       "4  aa4383b373c6aca5d8797843e5594415  4869f7a5dfa277a7dca6462dcf3b52b2  159.90   \n",
       "\n",
       "   freight_value payment_type  payment_installments  product_category_name  \\\n",
       "0           8.72  credit_card                     1  utilidades_domesticas   \n",
       "1           8.72      voucher                     1  utilidades_domesticas   \n",
       "2           8.72      voucher                     1  utilidades_domesticas   \n",
       "3          22.76       boleto                     1             perfumaria   \n",
       "4          19.22  credit_card                     3             automotivo   \n",
       "\n",
       "   review_score review_answer_timestamp  \n",
       "0             4     2017-10-12 03:43:48  \n",
       "1             4     2017-10-12 03:43:48  \n",
       "2             4     2017-10-12 03:43:48  \n",
       "3             4     2018-08-08 18:37:50  \n",
       "4             5     2018-08-22 19:07:58  "
      ]
     },
     "execution_count": 81,
     "metadata": {},
     "output_type": "execute_result"
    }
   ],
   "source": [
    "# Juntando a base de dados de clientes na base de pedidos\n",
    "pedidos = pd.merge(\n",
    "            left=pedidos, \n",
    "            right=clientes[colunas_clientes], \n",
    "            how='inner',\n",
    "            on='customer_id')\n",
    "\n",
    "# Juntando a base de dados de itens na base de pedidos\n",
    "pedidos = pd.merge(\n",
    "            left=pedidos, \n",
    "            right=itens_pedidos[colunas_itens_pedidos],\n",
    "            how='inner',\n",
    "            on='order_id')\n",
    "\n",
    "# Juntando a base de dados de pagamentos na base de pedidos\n",
    "pedidos = pd.merge(\n",
    "            left=pedidos, \n",
    "            right=pagamentos[colunas_pagamentos],\n",
    "            how='inner',\n",
    "            on='order_id')  \n",
    "\n",
    "# Juntando a base de dados de produtos na base de pedidos\n",
    "pedidos = pd.merge(\n",
    "            left=pedidos, \n",
    "            right=produtos[colunas_produtos],\n",
    "            how='inner',\n",
    "            on='product_id') \n",
    "\n",
    "# Juntando a base de dados de avaliações na base de pedidos\n",
    "pedidos = pd.merge(\n",
    "            left=pedidos, \n",
    "            right=avaliacoes[colunas_avaliacoes],\n",
    "            how='inner',\n",
    "            on='order_id') \n",
    "\n",
    "pedidos.head()"
   ]
  },
  {
   "cell_type": "markdown",
   "id": "48ef969d",
   "metadata": {},
   "source": [
    "Vamos apagar algumas colunas que não serão necessárias para a análise."
   ]
  },
  {
   "cell_type": "code",
   "execution_count": 82,
   "id": "addb0f9a",
   "metadata": {},
   "outputs": [],
   "source": [
    "# Apagando colunas desnecessárias\n",
    "colunas_remover = ['customer_id', 'order_delivered_carrier_date']\n",
    "pedidos = pedidos.drop(columns=colunas_remover, axis=1)"
   ]
  },
  {
   "cell_type": "markdown",
   "id": "03545d51",
   "metadata": {},
   "source": [
    "Depois de juntar as colunas importantes para a análise, vamos fazer a etapa de entendimento dos dados."
   ]
  },
  {
   "cell_type": "markdown",
   "id": "7c47499f",
   "metadata": {},
   "source": [
    "#### Entendendo os dados"
   ]
  },
  {
   "cell_type": "code",
   "execution_count": 83,
   "id": "ac6db56c",
   "metadata": {},
   "outputs": [
    {
     "name": "stdout",
     "output_type": "stream",
     "text": [
      "Quantidade de linhas: 117329\n",
      "Quantidade de colunas: 19\n"
     ]
    }
   ],
   "source": [
    "# Verificando o tamanho da base de dados\n",
    "print(f'Quantidade de linhas: {pedidos.shape[0]}')\n",
    "print(f'Quantidade de colunas: {pedidos.shape[1]}')"
   ]
  },
  {
   "cell_type": "code",
   "execution_count": 84,
   "id": "3510fa6e",
   "metadata": {},
   "outputs": [
    {
     "name": "stdout",
     "output_type": "stream",
     "text": [
      "<class 'pandas.core.frame.DataFrame'>\n",
      "RangeIndex: 117329 entries, 0 to 117328\n",
      "Data columns (total 19 columns):\n",
      " #   Column                         Non-Null Count   Dtype  \n",
      "---  ------                         --------------   -----  \n",
      " 0   order_id                       117329 non-null  object \n",
      " 1   order_status                   117329 non-null  object \n",
      " 2   order_purchase_timestamp       117329 non-null  object \n",
      " 3   order_approved_at              117314 non-null  object \n",
      " 4   order_delivered_customer_date  114858 non-null  object \n",
      " 5   order_estimated_delivery_date  117329 non-null  object \n",
      " 6   customer_unique_id             117329 non-null  object \n",
      " 7   customer_city                  117329 non-null  object \n",
      " 8   customer_state                 117329 non-null  object \n",
      " 9   order_item_id                  117329 non-null  int64  \n",
      " 10  product_id                     117329 non-null  object \n",
      " 11  seller_id                      117329 non-null  object \n",
      " 12  price                          117329 non-null  float64\n",
      " 13  freight_value                  117329 non-null  float64\n",
      " 14  payment_type                   117329 non-null  object \n",
      " 15  payment_installments           117329 non-null  int64  \n",
      " 16  product_category_name          115634 non-null  object \n",
      " 17  review_score                   117329 non-null  int64  \n",
      " 18  review_answer_timestamp        117329 non-null  object \n",
      "dtypes: float64(2), int64(3), object(14)\n",
      "memory usage: 17.0+ MB\n"
     ]
    }
   ],
   "source": [
    "# Pegando as informações dos dados\n",
    "pedidos.info()"
   ]
  },
  {
   "cell_type": "markdown",
   "id": "91828522",
   "metadata": {},
   "source": [
    "Podemos perceber que as colunas de datas não estão com o tipo datetime e sim como object, vai ser preciso trocar o tipo dessas colunas para datetime."
   ]
  },
  {
   "cell_type": "code",
   "execution_count": 85,
   "id": "0b71d8a5",
   "metadata": {},
   "outputs": [
    {
     "data": {
      "text/plain": [
       "order_id                         0.00\n",
       "order_status                     0.00\n",
       "order_purchase_timestamp         0.00\n",
       "order_approved_at                0.01\n",
       "order_delivered_customer_date    2.11\n",
       "order_estimated_delivery_date    0.00\n",
       "customer_unique_id               0.00\n",
       "customer_city                    0.00\n",
       "customer_state                   0.00\n",
       "order_item_id                    0.00\n",
       "product_id                       0.00\n",
       "seller_id                        0.00\n",
       "price                            0.00\n",
       "freight_value                    0.00\n",
       "payment_type                     0.00\n",
       "payment_installments             0.00\n",
       "product_category_name            1.44\n",
       "review_score                     0.00\n",
       "review_answer_timestamp          0.00\n",
       "dtype: float64"
      ]
     },
     "execution_count": 85,
     "metadata": {},
     "output_type": "execute_result"
    }
   ],
   "source": [
    "# Verificando se possui valores vazios em porcentagem\n",
    "prcentagem_de_vazios = ((pedidos.isna().sum() / pedidos.shape[0]) * 100).round(2)\n",
    "prcentagem_de_vazios"
   ]
  },
  {
   "cell_type": "markdown",
   "id": "cb1fbf0b",
   "metadata": {},
   "source": [
    "Temos 4 colunas com valores vazios, apesar de ser uma porcentagem pouca vamos entender melhor o porque de estarem assim."
   ]
  },
  {
   "cell_type": "code",
   "execution_count": 86,
   "id": "630ffda9",
   "metadata": {},
   "outputs": [
    {
     "name": "stdout",
     "output_type": "stream",
     "text": [
      "Quantidade de valores duplicados: 2310\n"
     ]
    }
   ],
   "source": [
    "# Verificando se possui valores duplicados\n",
    "print(f'Quantidade de valores duplicados: {pedidos.duplicated().sum()}')"
   ]
  },
  {
   "cell_type": "code",
   "execution_count": 87,
   "id": "fbfd9552",
   "metadata": {},
   "outputs": [
    {
     "data": {
      "text/html": [
       "<div>\n",
       "<style scoped>\n",
       "    .dataframe tbody tr th:only-of-type {\n",
       "        vertical-align: middle;\n",
       "    }\n",
       "\n",
       "    .dataframe tbody tr th {\n",
       "        vertical-align: top;\n",
       "    }\n",
       "\n",
       "    .dataframe thead th {\n",
       "        text-align: right;\n",
       "    }\n",
       "</style>\n",
       "<table border=\"1\" class=\"dataframe\">\n",
       "  <thead>\n",
       "    <tr style=\"text-align: right;\">\n",
       "      <th></th>\n",
       "      <th>order_id</th>\n",
       "      <th>order_status</th>\n",
       "      <th>order_purchase_timestamp</th>\n",
       "      <th>order_approved_at</th>\n",
       "      <th>order_delivered_customer_date</th>\n",
       "      <th>order_estimated_delivery_date</th>\n",
       "      <th>customer_unique_id</th>\n",
       "      <th>customer_city</th>\n",
       "      <th>customer_state</th>\n",
       "      <th>order_item_id</th>\n",
       "      <th>product_id</th>\n",
       "      <th>seller_id</th>\n",
       "      <th>price</th>\n",
       "      <th>freight_value</th>\n",
       "      <th>payment_type</th>\n",
       "      <th>payment_installments</th>\n",
       "      <th>product_category_name</th>\n",
       "      <th>review_score</th>\n",
       "      <th>review_answer_timestamp</th>\n",
       "    </tr>\n",
       "  </thead>\n",
       "  <tbody>\n",
       "    <tr>\n",
       "      <th>count</th>\n",
       "      <td>117329</td>\n",
       "      <td>117329</td>\n",
       "      <td>117329</td>\n",
       "      <td>117314</td>\n",
       "      <td>114858</td>\n",
       "      <td>117329</td>\n",
       "      <td>117329</td>\n",
       "      <td>117329</td>\n",
       "      <td>117329</td>\n",
       "      <td>117329.000000</td>\n",
       "      <td>117329</td>\n",
       "      <td>117329</td>\n",
       "      <td>117329.000000</td>\n",
       "      <td>117329.000000</td>\n",
       "      <td>117329</td>\n",
       "      <td>117329.000000</td>\n",
       "      <td>115634</td>\n",
       "      <td>117329.000000</td>\n",
       "      <td>117329</td>\n",
       "    </tr>\n",
       "    <tr>\n",
       "      <th>unique</th>\n",
       "      <td>97916</td>\n",
       "      <td>7</td>\n",
       "      <td>97370</td>\n",
       "      <td>89533</td>\n",
       "      <td>95021</td>\n",
       "      <td>449</td>\n",
       "      <td>94720</td>\n",
       "      <td>4108</td>\n",
       "      <td>27</td>\n",
       "      <td>NaN</td>\n",
       "      <td>32789</td>\n",
       "      <td>3090</td>\n",
       "      <td>NaN</td>\n",
       "      <td>NaN</td>\n",
       "      <td>4</td>\n",
       "      <td>NaN</td>\n",
       "      <td>73</td>\n",
       "      <td>NaN</td>\n",
       "      <td>97546</td>\n",
       "    </tr>\n",
       "    <tr>\n",
       "      <th>top</th>\n",
       "      <td>895ab968e7bb0d5659d16cd74cd1650c</td>\n",
       "      <td>delivered</td>\n",
       "      <td>2017-08-08 20:26:31</td>\n",
       "      <td>2017-08-08 20:43:31</td>\n",
       "      <td>2017-08-14 12:46:18</td>\n",
       "      <td>2017-12-20 00:00:00</td>\n",
       "      <td>9a736b248f67d166d2fbb006bcb877c3</td>\n",
       "      <td>sao paulo</td>\n",
       "      <td>SP</td>\n",
       "      <td>NaN</td>\n",
       "      <td>aca2eb7d00ea1a7b8ebd4e68314663af</td>\n",
       "      <td>4a3ca9315b744ce9f8e9374361493884</td>\n",
       "      <td>NaN</td>\n",
       "      <td>NaN</td>\n",
       "      <td>credit_card</td>\n",
       "      <td>NaN</td>\n",
       "      <td>cama_mesa_banho</td>\n",
       "      <td>NaN</td>\n",
       "      <td>2017-08-17 22:17:55</td>\n",
       "    </tr>\n",
       "    <tr>\n",
       "      <th>freq</th>\n",
       "      <td>63</td>\n",
       "      <td>114859</td>\n",
       "      <td>63</td>\n",
       "      <td>63</td>\n",
       "      <td>63</td>\n",
       "      <td>652</td>\n",
       "      <td>75</td>\n",
       "      <td>18582</td>\n",
       "      <td>49527</td>\n",
       "      <td>NaN</td>\n",
       "      <td>533</td>\n",
       "      <td>2128</td>\n",
       "      <td>NaN</td>\n",
       "      <td>NaN</td>\n",
       "      <td>86520</td>\n",
       "      <td>NaN</td>\n",
       "      <td>11847</td>\n",
       "      <td>NaN</td>\n",
       "      <td>63</td>\n",
       "    </tr>\n",
       "    <tr>\n",
       "      <th>mean</th>\n",
       "      <td>NaN</td>\n",
       "      <td>NaN</td>\n",
       "      <td>NaN</td>\n",
       "      <td>NaN</td>\n",
       "      <td>NaN</td>\n",
       "      <td>NaN</td>\n",
       "      <td>NaN</td>\n",
       "      <td>NaN</td>\n",
       "      <td>NaN</td>\n",
       "      <td>1.194121</td>\n",
       "      <td>NaN</td>\n",
       "      <td>NaN</td>\n",
       "      <td>120.524349</td>\n",
       "      <td>20.027514</td>\n",
       "      <td>NaN</td>\n",
       "      <td>2.940151</td>\n",
       "      <td>NaN</td>\n",
       "      <td>4.031467</td>\n",
       "      <td>NaN</td>\n",
       "    </tr>\n",
       "    <tr>\n",
       "      <th>std</th>\n",
       "      <td>NaN</td>\n",
       "      <td>NaN</td>\n",
       "      <td>NaN</td>\n",
       "      <td>NaN</td>\n",
       "      <td>NaN</td>\n",
       "      <td>NaN</td>\n",
       "      <td>NaN</td>\n",
       "      <td>NaN</td>\n",
       "      <td>NaN</td>\n",
       "      <td>0.684225</td>\n",
       "      <td>NaN</td>\n",
       "      <td>NaN</td>\n",
       "      <td>182.944843</td>\n",
       "      <td>15.828077</td>\n",
       "      <td>NaN</td>\n",
       "      <td>2.775370</td>\n",
       "      <td>NaN</td>\n",
       "      <td>1.387927</td>\n",
       "      <td>NaN</td>\n",
       "    </tr>\n",
       "    <tr>\n",
       "      <th>min</th>\n",
       "      <td>NaN</td>\n",
       "      <td>NaN</td>\n",
       "      <td>NaN</td>\n",
       "      <td>NaN</td>\n",
       "      <td>NaN</td>\n",
       "      <td>NaN</td>\n",
       "      <td>NaN</td>\n",
       "      <td>NaN</td>\n",
       "      <td>NaN</td>\n",
       "      <td>1.000000</td>\n",
       "      <td>NaN</td>\n",
       "      <td>NaN</td>\n",
       "      <td>0.850000</td>\n",
       "      <td>0.000000</td>\n",
       "      <td>NaN</td>\n",
       "      <td>0.000000</td>\n",
       "      <td>NaN</td>\n",
       "      <td>1.000000</td>\n",
       "      <td>NaN</td>\n",
       "    </tr>\n",
       "    <tr>\n",
       "      <th>25%</th>\n",
       "      <td>NaN</td>\n",
       "      <td>NaN</td>\n",
       "      <td>NaN</td>\n",
       "      <td>NaN</td>\n",
       "      <td>NaN</td>\n",
       "      <td>NaN</td>\n",
       "      <td>NaN</td>\n",
       "      <td>NaN</td>\n",
       "      <td>NaN</td>\n",
       "      <td>1.000000</td>\n",
       "      <td>NaN</td>\n",
       "      <td>NaN</td>\n",
       "      <td>39.900000</td>\n",
       "      <td>13.080000</td>\n",
       "      <td>NaN</td>\n",
       "      <td>1.000000</td>\n",
       "      <td>NaN</td>\n",
       "      <td>4.000000</td>\n",
       "      <td>NaN</td>\n",
       "    </tr>\n",
       "    <tr>\n",
       "      <th>50%</th>\n",
       "      <td>NaN</td>\n",
       "      <td>NaN</td>\n",
       "      <td>NaN</td>\n",
       "      <td>NaN</td>\n",
       "      <td>NaN</td>\n",
       "      <td>NaN</td>\n",
       "      <td>NaN</td>\n",
       "      <td>NaN</td>\n",
       "      <td>NaN</td>\n",
       "      <td>1.000000</td>\n",
       "      <td>NaN</td>\n",
       "      <td>NaN</td>\n",
       "      <td>74.900000</td>\n",
       "      <td>16.280000</td>\n",
       "      <td>NaN</td>\n",
       "      <td>2.000000</td>\n",
       "      <td>NaN</td>\n",
       "      <td>5.000000</td>\n",
       "      <td>NaN</td>\n",
       "    </tr>\n",
       "    <tr>\n",
       "      <th>75%</th>\n",
       "      <td>NaN</td>\n",
       "      <td>NaN</td>\n",
       "      <td>NaN</td>\n",
       "      <td>NaN</td>\n",
       "      <td>NaN</td>\n",
       "      <td>NaN</td>\n",
       "      <td>NaN</td>\n",
       "      <td>NaN</td>\n",
       "      <td>NaN</td>\n",
       "      <td>1.000000</td>\n",
       "      <td>NaN</td>\n",
       "      <td>NaN</td>\n",
       "      <td>134.900000</td>\n",
       "      <td>21.180000</td>\n",
       "      <td>NaN</td>\n",
       "      <td>4.000000</td>\n",
       "      <td>NaN</td>\n",
       "      <td>5.000000</td>\n",
       "      <td>NaN</td>\n",
       "    </tr>\n",
       "    <tr>\n",
       "      <th>max</th>\n",
       "      <td>NaN</td>\n",
       "      <td>NaN</td>\n",
       "      <td>NaN</td>\n",
       "      <td>NaN</td>\n",
       "      <td>NaN</td>\n",
       "      <td>NaN</td>\n",
       "      <td>NaN</td>\n",
       "      <td>NaN</td>\n",
       "      <td>NaN</td>\n",
       "      <td>21.000000</td>\n",
       "      <td>NaN</td>\n",
       "      <td>NaN</td>\n",
       "      <td>6735.000000</td>\n",
       "      <td>409.680000</td>\n",
       "      <td>NaN</td>\n",
       "      <td>24.000000</td>\n",
       "      <td>NaN</td>\n",
       "      <td>5.000000</td>\n",
       "      <td>NaN</td>\n",
       "    </tr>\n",
       "  </tbody>\n",
       "</table>\n",
       "</div>"
      ],
      "text/plain": [
       "                                order_id order_status  \\\n",
       "count                             117329       117329   \n",
       "unique                             97916            7   \n",
       "top     895ab968e7bb0d5659d16cd74cd1650c    delivered   \n",
       "freq                                  63       114859   \n",
       "mean                                 NaN          NaN   \n",
       "std                                  NaN          NaN   \n",
       "min                                  NaN          NaN   \n",
       "25%                                  NaN          NaN   \n",
       "50%                                  NaN          NaN   \n",
       "75%                                  NaN          NaN   \n",
       "max                                  NaN          NaN   \n",
       "\n",
       "       order_purchase_timestamp    order_approved_at  \\\n",
       "count                    117329               117314   \n",
       "unique                    97370                89533   \n",
       "top         2017-08-08 20:26:31  2017-08-08 20:43:31   \n",
       "freq                         63                   63   \n",
       "mean                        NaN                  NaN   \n",
       "std                         NaN                  NaN   \n",
       "min                         NaN                  NaN   \n",
       "25%                         NaN                  NaN   \n",
       "50%                         NaN                  NaN   \n",
       "75%                         NaN                  NaN   \n",
       "max                         NaN                  NaN   \n",
       "\n",
       "       order_delivered_customer_date order_estimated_delivery_date  \\\n",
       "count                         114858                        117329   \n",
       "unique                         95021                           449   \n",
       "top              2017-08-14 12:46:18           2017-12-20 00:00:00   \n",
       "freq                              63                           652   \n",
       "mean                             NaN                           NaN   \n",
       "std                              NaN                           NaN   \n",
       "min                              NaN                           NaN   \n",
       "25%                              NaN                           NaN   \n",
       "50%                              NaN                           NaN   \n",
       "75%                              NaN                           NaN   \n",
       "max                              NaN                           NaN   \n",
       "\n",
       "                      customer_unique_id customer_city customer_state  \\\n",
       "count                             117329        117329         117329   \n",
       "unique                             94720          4108             27   \n",
       "top     9a736b248f67d166d2fbb006bcb877c3     sao paulo             SP   \n",
       "freq                                  75         18582          49527   \n",
       "mean                                 NaN           NaN            NaN   \n",
       "std                                  NaN           NaN            NaN   \n",
       "min                                  NaN           NaN            NaN   \n",
       "25%                                  NaN           NaN            NaN   \n",
       "50%                                  NaN           NaN            NaN   \n",
       "75%                                  NaN           NaN            NaN   \n",
       "max                                  NaN           NaN            NaN   \n",
       "\n",
       "        order_item_id                        product_id  \\\n",
       "count   117329.000000                            117329   \n",
       "unique            NaN                             32789   \n",
       "top               NaN  aca2eb7d00ea1a7b8ebd4e68314663af   \n",
       "freq              NaN                               533   \n",
       "mean         1.194121                               NaN   \n",
       "std          0.684225                               NaN   \n",
       "min          1.000000                               NaN   \n",
       "25%          1.000000                               NaN   \n",
       "50%          1.000000                               NaN   \n",
       "75%          1.000000                               NaN   \n",
       "max         21.000000                               NaN   \n",
       "\n",
       "                               seller_id          price  freight_value  \\\n",
       "count                             117329  117329.000000  117329.000000   \n",
       "unique                              3090            NaN            NaN   \n",
       "top     4a3ca9315b744ce9f8e9374361493884            NaN            NaN   \n",
       "freq                                2128            NaN            NaN   \n",
       "mean                                 NaN     120.524349      20.027514   \n",
       "std                                  NaN     182.944843      15.828077   \n",
       "min                                  NaN       0.850000       0.000000   \n",
       "25%                                  NaN      39.900000      13.080000   \n",
       "50%                                  NaN      74.900000      16.280000   \n",
       "75%                                  NaN     134.900000      21.180000   \n",
       "max                                  NaN    6735.000000     409.680000   \n",
       "\n",
       "       payment_type  payment_installments product_category_name  \\\n",
       "count        117329         117329.000000                115634   \n",
       "unique            4                   NaN                    73   \n",
       "top     credit_card                   NaN       cama_mesa_banho   \n",
       "freq          86520                   NaN                 11847   \n",
       "mean            NaN              2.940151                   NaN   \n",
       "std             NaN              2.775370                   NaN   \n",
       "min             NaN              0.000000                   NaN   \n",
       "25%             NaN              1.000000                   NaN   \n",
       "50%             NaN              2.000000                   NaN   \n",
       "75%             NaN              4.000000                   NaN   \n",
       "max             NaN             24.000000                   NaN   \n",
       "\n",
       "         review_score review_answer_timestamp  \n",
       "count   117329.000000                  117329  \n",
       "unique            NaN                   97546  \n",
       "top               NaN     2017-08-17 22:17:55  \n",
       "freq              NaN                      63  \n",
       "mean         4.031467                     NaN  \n",
       "std          1.387927                     NaN  \n",
       "min          1.000000                     NaN  \n",
       "25%          4.000000                     NaN  \n",
       "50%          5.000000                     NaN  \n",
       "75%          5.000000                     NaN  \n",
       "max          5.000000                     NaN  "
      ]
     },
     "execution_count": 87,
     "metadata": {},
     "output_type": "execute_result"
    }
   ],
   "source": [
    "# Informações descritivas dos dos dados\n",
    "pedidos.describe(include='all')"
   ]
  },
  {
   "cell_type": "code",
   "execution_count": 88,
   "id": "a75db434",
   "metadata": {},
   "outputs": [
    {
     "data": {
      "text/html": [
       "<div>\n",
       "<style scoped>\n",
       "    .dataframe tbody tr th:only-of-type {\n",
       "        vertical-align: middle;\n",
       "    }\n",
       "\n",
       "    .dataframe tbody tr th {\n",
       "        vertical-align: top;\n",
       "    }\n",
       "\n",
       "    .dataframe thead th {\n",
       "        text-align: right;\n",
       "    }\n",
       "</style>\n",
       "<table border=\"1\" class=\"dataframe\">\n",
       "  <thead>\n",
       "    <tr style=\"text-align: right;\">\n",
       "      <th></th>\n",
       "      <th>Colunas</th>\n",
       "      <th>Quantidades Valores Distintos</th>\n",
       "    </tr>\n",
       "  </thead>\n",
       "  <tbody>\n",
       "    <tr>\n",
       "      <th>0</th>\n",
       "      <td>order_id</td>\n",
       "      <td>97916</td>\n",
       "    </tr>\n",
       "    <tr>\n",
       "      <th>1</th>\n",
       "      <td>order_status</td>\n",
       "      <td>7</td>\n",
       "    </tr>\n",
       "    <tr>\n",
       "      <th>2</th>\n",
       "      <td>order_purchase_timestamp</td>\n",
       "      <td>97370</td>\n",
       "    </tr>\n",
       "    <tr>\n",
       "      <th>3</th>\n",
       "      <td>order_approved_at</td>\n",
       "      <td>89533</td>\n",
       "    </tr>\n",
       "    <tr>\n",
       "      <th>4</th>\n",
       "      <td>order_delivered_customer_date</td>\n",
       "      <td>95021</td>\n",
       "    </tr>\n",
       "    <tr>\n",
       "      <th>5</th>\n",
       "      <td>order_estimated_delivery_date</td>\n",
       "      <td>449</td>\n",
       "    </tr>\n",
       "    <tr>\n",
       "      <th>6</th>\n",
       "      <td>customer_unique_id</td>\n",
       "      <td>94720</td>\n",
       "    </tr>\n",
       "    <tr>\n",
       "      <th>7</th>\n",
       "      <td>customer_city</td>\n",
       "      <td>4108</td>\n",
       "    </tr>\n",
       "    <tr>\n",
       "      <th>8</th>\n",
       "      <td>customer_state</td>\n",
       "      <td>27</td>\n",
       "    </tr>\n",
       "    <tr>\n",
       "      <th>9</th>\n",
       "      <td>order_item_id</td>\n",
       "      <td>21</td>\n",
       "    </tr>\n",
       "    <tr>\n",
       "      <th>10</th>\n",
       "      <td>product_id</td>\n",
       "      <td>32789</td>\n",
       "    </tr>\n",
       "    <tr>\n",
       "      <th>11</th>\n",
       "      <td>seller_id</td>\n",
       "      <td>3090</td>\n",
       "    </tr>\n",
       "    <tr>\n",
       "      <th>12</th>\n",
       "      <td>price</td>\n",
       "      <td>5948</td>\n",
       "    </tr>\n",
       "    <tr>\n",
       "      <th>13</th>\n",
       "      <td>freight_value</td>\n",
       "      <td>6976</td>\n",
       "    </tr>\n",
       "    <tr>\n",
       "      <th>14</th>\n",
       "      <td>payment_type</td>\n",
       "      <td>4</td>\n",
       "    </tr>\n",
       "    <tr>\n",
       "      <th>15</th>\n",
       "      <td>payment_installments</td>\n",
       "      <td>24</td>\n",
       "    </tr>\n",
       "    <tr>\n",
       "      <th>16</th>\n",
       "      <td>product_category_name</td>\n",
       "      <td>73</td>\n",
       "    </tr>\n",
       "    <tr>\n",
       "      <th>17</th>\n",
       "      <td>review_score</td>\n",
       "      <td>5</td>\n",
       "    </tr>\n",
       "    <tr>\n",
       "      <th>18</th>\n",
       "      <td>review_answer_timestamp</td>\n",
       "      <td>97546</td>\n",
       "    </tr>\n",
       "  </tbody>\n",
       "</table>\n",
       "</div>"
      ],
      "text/plain": [
       "                          Colunas  Quantidades Valores Distintos\n",
       "0                        order_id                          97916\n",
       "1                    order_status                              7\n",
       "2        order_purchase_timestamp                          97370\n",
       "3               order_approved_at                          89533\n",
       "4   order_delivered_customer_date                          95021\n",
       "5   order_estimated_delivery_date                            449\n",
       "6              customer_unique_id                          94720\n",
       "7                   customer_city                           4108\n",
       "8                  customer_state                             27\n",
       "9                   order_item_id                             21\n",
       "10                     product_id                          32789\n",
       "11                      seller_id                           3090\n",
       "12                          price                           5948\n",
       "13                  freight_value                           6976\n",
       "14                   payment_type                              4\n",
       "15           payment_installments                             24\n",
       "16          product_category_name                             73\n",
       "17                   review_score                              5\n",
       "18        review_answer_timestamp                          97546"
      ]
     },
     "execution_count": 88,
     "metadata": {},
     "output_type": "execute_result"
    }
   ],
   "source": [
    "# Verificando a quantidade de valores únicos para cada variável\n",
    "valores_distintos = pd.DataFrame({'Colunas': pedidos.nunique().index, 'Quantidades Valores Distintos': pedidos.nunique().values})\n",
    "valores_distintos"
   ]
  },
  {
   "cell_type": "markdown",
   "id": "e1922a33",
   "metadata": {},
   "source": [
    "Transformando as colunas de datas que estão com o tipo object para o tipo datetime."
   ]
  },
  {
   "cell_type": "code",
   "execution_count": 89,
   "id": "2b993606",
   "metadata": {},
   "outputs": [],
   "source": [
    "# Criando uma lista contendo as colunas que são datas e estão com o tipo de object\n",
    "colunas_de_datas = ['order_purchase_timestamp', 'order_delivered_customer_date','order_estimated_delivery_date',\n",
    "                    'review_answer_timestamp', 'order_approved_at']\n",
    "\n",
    "# Transformando as colunas de datas para o tipo datetime\n",
    "for coluna in colunas_de_datas:\n",
    "    pedidos[coluna] = pd.to_datetime(pedidos[coluna], errors='coerce')"
   ]
  },
  {
   "cell_type": "markdown",
   "id": "7c1d6b0b",
   "metadata": {},
   "source": [
    "Criando a coluna total que vai somar o valor do produto e o frete de cada pedido."
   ]
  },
  {
   "cell_type": "code",
   "execution_count": 90,
   "id": "06828dd3",
   "metadata": {},
   "outputs": [],
   "source": [
    "# Criação da coluna total que soma o preço do produto e o valor do frete\n",
    "pedidos['total'] = pedidos['price'] + pedidos['freight_value']"
   ]
  },
  {
   "cell_type": "markdown",
   "id": "1ac413cd",
   "metadata": {},
   "source": [
    "#### Análise Univariada\n",
    "\n",
    "Separando as colunas por tipo"
   ]
  },
  {
   "cell_type": "code",
   "execution_count": 91,
   "id": "d9679a8f",
   "metadata": {},
   "outputs": [],
   "source": [
    "# Colunas categóricas\n",
    "colunas_categoricas = ['order_id', 'order_status', 'customer_unique_id', 'product_id', 'customer_state',\n",
    "                       'customer_city', 'seller_id', 'payment_type', 'product_category_name']\n",
    "\n",
    "# Colunas numéricas inteiras\n",
    "colunas_numericas_inteiras = ['order_item_id', 'payment_installments', 'review_score']\n",
    "\n",
    "# Colunas numéricas tipo float\n",
    "colunas_numericas_flutuantes = ['price', 'freight_value', 'payment_value']\n",
    "\n",
    "# Colunas de datas\n",
    "colunas_datas = ['order_purchase_timestamp', 'order_approved_at', 'order_delivered_customer_date', \n",
    "                 'order_estimated_delivery_date', 'review_answer_timestamp']"
   ]
  },
  {
   "cell_type": "markdown",
   "id": "a9f10ffc",
   "metadata": {},
   "source": [
    "##### Colunas Categóricas\n",
    "\n",
    "<strong>Coluna order_id</strong>"
   ]
  },
  {
   "cell_type": "code",
   "execution_count": 92,
   "id": "03499f15",
   "metadata": {},
   "outputs": [
    {
     "data": {
      "text/html": [
       "<div>\n",
       "<style scoped>\n",
       "    .dataframe tbody tr th:only-of-type {\n",
       "        vertical-align: middle;\n",
       "    }\n",
       "\n",
       "    .dataframe tbody tr th {\n",
       "        vertical-align: top;\n",
       "    }\n",
       "\n",
       "    .dataframe thead th {\n",
       "        text-align: right;\n",
       "    }\n",
       "</style>\n",
       "<table border=\"1\" class=\"dataframe\">\n",
       "  <thead>\n",
       "    <tr style=\"text-align: right;\">\n",
       "      <th></th>\n",
       "      <th>index</th>\n",
       "      <th>order_id</th>\n",
       "    </tr>\n",
       "  </thead>\n",
       "  <tbody>\n",
       "    <tr>\n",
       "      <th>0</th>\n",
       "      <td>count</td>\n",
       "      <td>117329</td>\n",
       "    </tr>\n",
       "    <tr>\n",
       "      <th>1</th>\n",
       "      <td>unique</td>\n",
       "      <td>97916</td>\n",
       "    </tr>\n",
       "    <tr>\n",
       "      <th>2</th>\n",
       "      <td>top</td>\n",
       "      <td>895ab968e7bb0d5659d16cd74cd1650c</td>\n",
       "    </tr>\n",
       "    <tr>\n",
       "      <th>3</th>\n",
       "      <td>freq</td>\n",
       "      <td>63</td>\n",
       "    </tr>\n",
       "  </tbody>\n",
       "</table>\n",
       "</div>"
      ],
      "text/plain": [
       "    index                          order_id\n",
       "0   count                            117329\n",
       "1  unique                             97916\n",
       "2     top  895ab968e7bb0d5659d16cd74cd1650c\n",
       "3    freq                                63"
      ]
     },
     "execution_count": 92,
     "metadata": {},
     "output_type": "execute_result"
    }
   ],
   "source": [
    "# Verificando a distribuição dos pedidos através da coluna order_id\n",
    "pedidos['order_id'].describe().reset_index()"
   ]
  },
  {
   "cell_type": "markdown",
   "id": "30160204",
   "metadata": {},
   "source": [
    "- Temos um total de 97916 pedidos"
   ]
  },
  {
   "cell_type": "markdown",
   "id": "f70af8b8",
   "metadata": {},
   "source": [
    "<strong>Coluna order_status</strong>"
   ]
  },
  {
   "cell_type": "code",
   "execution_count": 93,
   "id": "b8c58378",
   "metadata": {},
   "outputs": [
    {
     "data": {
      "text/html": [
       "<div>\n",
       "<style scoped>\n",
       "    .dataframe tbody tr th:only-of-type {\n",
       "        vertical-align: middle;\n",
       "    }\n",
       "\n",
       "    .dataframe tbody tr th {\n",
       "        vertical-align: top;\n",
       "    }\n",
       "\n",
       "    .dataframe thead th {\n",
       "        text-align: right;\n",
       "    }\n",
       "</style>\n",
       "<table border=\"1\" class=\"dataframe\">\n",
       "  <thead>\n",
       "    <tr style=\"text-align: right;\">\n",
       "      <th></th>\n",
       "      <th>index</th>\n",
       "      <th>order_status</th>\n",
       "    </tr>\n",
       "  </thead>\n",
       "  <tbody>\n",
       "    <tr>\n",
       "      <th>0</th>\n",
       "      <td>count</td>\n",
       "      <td>117329</td>\n",
       "    </tr>\n",
       "    <tr>\n",
       "      <th>1</th>\n",
       "      <td>unique</td>\n",
       "      <td>7</td>\n",
       "    </tr>\n",
       "    <tr>\n",
       "      <th>2</th>\n",
       "      <td>top</td>\n",
       "      <td>delivered</td>\n",
       "    </tr>\n",
       "    <tr>\n",
       "      <th>3</th>\n",
       "      <td>freq</td>\n",
       "      <td>114859</td>\n",
       "    </tr>\n",
       "  </tbody>\n",
       "</table>\n",
       "</div>"
      ],
      "text/plain": [
       "    index order_status\n",
       "0   count       117329\n",
       "1  unique            7\n",
       "2     top    delivered\n",
       "3    freq       114859"
      ]
     },
     "execution_count": 93,
     "metadata": {},
     "output_type": "execute_result"
    }
   ],
   "source": [
    "# Pegando mais informações sobre o order_status\n",
    "pedidos['order_status'].describe().reset_index()"
   ]
  },
  {
   "cell_type": "code",
   "execution_count": 94,
   "id": "3653f848",
   "metadata": {},
   "outputs": [
    {
     "data": {
      "text/html": [
       "<div>\n",
       "<style scoped>\n",
       "    .dataframe tbody tr th:only-of-type {\n",
       "        vertical-align: middle;\n",
       "    }\n",
       "\n",
       "    .dataframe tbody tr th {\n",
       "        vertical-align: top;\n",
       "    }\n",
       "\n",
       "    .dataframe thead th {\n",
       "        text-align: right;\n",
       "    }\n",
       "</style>\n",
       "<table border=\"1\" class=\"dataframe\">\n",
       "  <thead>\n",
       "    <tr style=\"text-align: right;\">\n",
       "      <th></th>\n",
       "      <th>order_status</th>\n",
       "      <th>Qtd por Status</th>\n",
       "    </tr>\n",
       "  </thead>\n",
       "  <tbody>\n",
       "    <tr>\n",
       "      <th>0</th>\n",
       "      <td>approved</td>\n",
       "      <td>3</td>\n",
       "    </tr>\n",
       "    <tr>\n",
       "      <th>1</th>\n",
       "      <td>canceled</td>\n",
       "      <td>553</td>\n",
       "    </tr>\n",
       "    <tr>\n",
       "      <th>2</th>\n",
       "      <td>delivered</td>\n",
       "      <td>114859</td>\n",
       "    </tr>\n",
       "    <tr>\n",
       "      <th>3</th>\n",
       "      <td>invoiced</td>\n",
       "      <td>370</td>\n",
       "    </tr>\n",
       "    <tr>\n",
       "      <th>4</th>\n",
       "      <td>processing</td>\n",
       "      <td>370</td>\n",
       "    </tr>\n",
       "    <tr>\n",
       "      <th>5</th>\n",
       "      <td>shipped</td>\n",
       "      <td>1167</td>\n",
       "    </tr>\n",
       "    <tr>\n",
       "      <th>6</th>\n",
       "      <td>unavailable</td>\n",
       "      <td>7</td>\n",
       "    </tr>\n",
       "  </tbody>\n",
       "</table>\n",
       "</div>"
      ],
      "text/plain": [
       "  order_status  Qtd por Status\n",
       "0     approved               3\n",
       "1     canceled             553\n",
       "2    delivered          114859\n",
       "3     invoiced             370\n",
       "4   processing             370\n",
       "5      shipped            1167\n",
       "6  unavailable               7"
      ]
     },
     "execution_count": 94,
     "metadata": {},
     "output_type": "execute_result"
    }
   ],
   "source": [
    "# Verificando a quantidade de pedidos por status\n",
    "pedidos.groupby('order_status')['order_status'].count().reset_index(name='Qtd por Status')"
   ]
  },
  {
   "cell_type": "markdown",
   "id": "fd4d1188",
   "metadata": {},
   "source": [
    "- Possui 7 status do pedido;\n",
    "- O status delivered é o que mais teve, significando que quase todos os pedidos foram entregues.\n",
    "- Tem 553 pedidos cancelados e 7 indisponíveis."
   ]
  },
  {
   "cell_type": "markdown",
   "id": "27e97e2b",
   "metadata": {},
   "source": [
    "<strong>Coluna customer_unique_id</strong>"
   ]
  },
  {
   "cell_type": "code",
   "execution_count": 95,
   "id": "431d193c",
   "metadata": {},
   "outputs": [
    {
     "data": {
      "text/html": [
       "<div>\n",
       "<style scoped>\n",
       "    .dataframe tbody tr th:only-of-type {\n",
       "        vertical-align: middle;\n",
       "    }\n",
       "\n",
       "    .dataframe tbody tr th {\n",
       "        vertical-align: top;\n",
       "    }\n",
       "\n",
       "    .dataframe thead th {\n",
       "        text-align: right;\n",
       "    }\n",
       "</style>\n",
       "<table border=\"1\" class=\"dataframe\">\n",
       "  <thead>\n",
       "    <tr style=\"text-align: right;\">\n",
       "      <th></th>\n",
       "      <th>index</th>\n",
       "      <th>customer_unique_id</th>\n",
       "    </tr>\n",
       "  </thead>\n",
       "  <tbody>\n",
       "    <tr>\n",
       "      <th>0</th>\n",
       "      <td>count</td>\n",
       "      <td>117329</td>\n",
       "    </tr>\n",
       "    <tr>\n",
       "      <th>1</th>\n",
       "      <td>unique</td>\n",
       "      <td>94720</td>\n",
       "    </tr>\n",
       "    <tr>\n",
       "      <th>2</th>\n",
       "      <td>top</td>\n",
       "      <td>9a736b248f67d166d2fbb006bcb877c3</td>\n",
       "    </tr>\n",
       "    <tr>\n",
       "      <th>3</th>\n",
       "      <td>freq</td>\n",
       "      <td>75</td>\n",
       "    </tr>\n",
       "  </tbody>\n",
       "</table>\n",
       "</div>"
      ],
      "text/plain": [
       "    index                customer_unique_id\n",
       "0   count                            117329\n",
       "1  unique                             94720\n",
       "2     top  9a736b248f67d166d2fbb006bcb877c3\n",
       "3    freq                                75"
      ]
     },
     "execution_count": 95,
     "metadata": {},
     "output_type": "execute_result"
    }
   ],
   "source": [
    "# Mais informações sobre o cliente\n",
    "pedidos['customer_unique_id'].describe().reset_index()"
   ]
  },
  {
   "cell_type": "markdown",
   "id": "6304bb9a",
   "metadata": {},
   "source": [
    "- Temos um total de 94720 clientes."
   ]
  },
  {
   "cell_type": "markdown",
   "id": "e334c19d",
   "metadata": {},
   "source": [
    "<strong>Coluna product_id</strong>"
   ]
  },
  {
   "cell_type": "code",
   "execution_count": 96,
   "id": "c9588388",
   "metadata": {},
   "outputs": [
    {
     "data": {
      "text/html": [
       "<div>\n",
       "<style scoped>\n",
       "    .dataframe tbody tr th:only-of-type {\n",
       "        vertical-align: middle;\n",
       "    }\n",
       "\n",
       "    .dataframe tbody tr th {\n",
       "        vertical-align: top;\n",
       "    }\n",
       "\n",
       "    .dataframe thead th {\n",
       "        text-align: right;\n",
       "    }\n",
       "</style>\n",
       "<table border=\"1\" class=\"dataframe\">\n",
       "  <thead>\n",
       "    <tr style=\"text-align: right;\">\n",
       "      <th></th>\n",
       "      <th>index</th>\n",
       "      <th>product_id</th>\n",
       "    </tr>\n",
       "  </thead>\n",
       "  <tbody>\n",
       "    <tr>\n",
       "      <th>0</th>\n",
       "      <td>count</td>\n",
       "      <td>117329</td>\n",
       "    </tr>\n",
       "    <tr>\n",
       "      <th>1</th>\n",
       "      <td>unique</td>\n",
       "      <td>32789</td>\n",
       "    </tr>\n",
       "    <tr>\n",
       "      <th>2</th>\n",
       "      <td>top</td>\n",
       "      <td>aca2eb7d00ea1a7b8ebd4e68314663af</td>\n",
       "    </tr>\n",
       "    <tr>\n",
       "      <th>3</th>\n",
       "      <td>freq</td>\n",
       "      <td>533</td>\n",
       "    </tr>\n",
       "  </tbody>\n",
       "</table>\n",
       "</div>"
      ],
      "text/plain": [
       "    index                        product_id\n",
       "0   count                            117329\n",
       "1  unique                             32789\n",
       "2     top  aca2eb7d00ea1a7b8ebd4e68314663af\n",
       "3    freq                               533"
      ]
     },
     "execution_count": 96,
     "metadata": {},
     "output_type": "execute_result"
    }
   ],
   "source": [
    "# Mais informações sobre os produtos\n",
    "pedidos['product_id'].describe().reset_index()"
   ]
  },
  {
   "cell_type": "markdown",
   "id": "0723d0f8",
   "metadata": {},
   "source": [
    "- Temos um total de 32789 produtos."
   ]
  },
  {
   "cell_type": "markdown",
   "id": "b5764fa4",
   "metadata": {},
   "source": [
    "<strong>Coluna payment_type</strong>"
   ]
  },
  {
   "cell_type": "code",
   "execution_count": 97,
   "id": "7768a221",
   "metadata": {},
   "outputs": [
    {
     "data": {
      "text/html": [
       "<div>\n",
       "<style scoped>\n",
       "    .dataframe tbody tr th:only-of-type {\n",
       "        vertical-align: middle;\n",
       "    }\n",
       "\n",
       "    .dataframe tbody tr th {\n",
       "        vertical-align: top;\n",
       "    }\n",
       "\n",
       "    .dataframe thead th {\n",
       "        text-align: right;\n",
       "    }\n",
       "</style>\n",
       "<table border=\"1\" class=\"dataframe\">\n",
       "  <thead>\n",
       "    <tr style=\"text-align: right;\">\n",
       "      <th></th>\n",
       "      <th>payment_type</th>\n",
       "      <th>Qtd por Tipo de Pagamento</th>\n",
       "    </tr>\n",
       "  </thead>\n",
       "  <tbody>\n",
       "    <tr>\n",
       "      <th>0</th>\n",
       "      <td>boleto</td>\n",
       "      <td>22835</td>\n",
       "    </tr>\n",
       "    <tr>\n",
       "      <th>1</th>\n",
       "      <td>credit_card</td>\n",
       "      <td>86520</td>\n",
       "    </tr>\n",
       "    <tr>\n",
       "      <th>2</th>\n",
       "      <td>debit_card</td>\n",
       "      <td>1692</td>\n",
       "    </tr>\n",
       "    <tr>\n",
       "      <th>3</th>\n",
       "      <td>voucher</td>\n",
       "      <td>6282</td>\n",
       "    </tr>\n",
       "  </tbody>\n",
       "</table>\n",
       "</div>"
      ],
      "text/plain": [
       "  payment_type  Qtd por Tipo de Pagamento\n",
       "0       boleto                      22835\n",
       "1  credit_card                      86520\n",
       "2   debit_card                       1692\n",
       "3      voucher                       6282"
      ]
     },
     "execution_count": 97,
     "metadata": {},
     "output_type": "execute_result"
    }
   ],
   "source": [
    "# Verificando a quantidade de pedidos por tipos de pagamentos\n",
    "pedidos.groupby('payment_type')['payment_type'].count().reset_index(name='Qtd por Tipo de Pagamento')"
   ]
  },
  {
   "cell_type": "markdown",
   "id": "25e09178",
   "metadata": {},
   "source": [
    "- A grande maioria dos pedidos foram pagos usando o cartão de crédito e boleto."
   ]
  },
  {
   "cell_type": "markdown",
   "id": "c7470e46",
   "metadata": {},
   "source": [
    "<strong>Coluna customer_city</strong>"
   ]
  },
  {
   "cell_type": "code",
   "execution_count": 98,
   "id": "eb126c69",
   "metadata": {},
   "outputs": [
    {
     "data": {
      "text/html": [
       "<div>\n",
       "<style scoped>\n",
       "    .dataframe tbody tr th:only-of-type {\n",
       "        vertical-align: middle;\n",
       "    }\n",
       "\n",
       "    .dataframe tbody tr th {\n",
       "        vertical-align: top;\n",
       "    }\n",
       "\n",
       "    .dataframe thead th {\n",
       "        text-align: right;\n",
       "    }\n",
       "</style>\n",
       "<table border=\"1\" class=\"dataframe\">\n",
       "  <thead>\n",
       "    <tr style=\"text-align: right;\">\n",
       "      <th></th>\n",
       "      <th>index</th>\n",
       "      <th>customer_city</th>\n",
       "    </tr>\n",
       "  </thead>\n",
       "  <tbody>\n",
       "    <tr>\n",
       "      <th>0</th>\n",
       "      <td>count</td>\n",
       "      <td>117329</td>\n",
       "    </tr>\n",
       "    <tr>\n",
       "      <th>1</th>\n",
       "      <td>unique</td>\n",
       "      <td>4108</td>\n",
       "    </tr>\n",
       "    <tr>\n",
       "      <th>2</th>\n",
       "      <td>top</td>\n",
       "      <td>sao paulo</td>\n",
       "    </tr>\n",
       "    <tr>\n",
       "      <th>3</th>\n",
       "      <td>freq</td>\n",
       "      <td>18582</td>\n",
       "    </tr>\n",
       "  </tbody>\n",
       "</table>\n",
       "</div>"
      ],
      "text/plain": [
       "    index customer_city\n",
       "0   count        117329\n",
       "1  unique          4108\n",
       "2     top     sao paulo\n",
       "3    freq         18582"
      ]
     },
     "execution_count": 98,
     "metadata": {},
     "output_type": "execute_result"
    }
   ],
   "source": [
    "# Verificar as informações da cidade\n",
    "pedidos['customer_city'].describe().reset_index()"
   ]
  },
  {
   "cell_type": "markdown",
   "id": "3b6867b3",
   "metadata": {},
   "source": [
    "- Temos um total de 4108 cidades."
   ]
  },
  {
   "cell_type": "markdown",
   "id": "6387e343",
   "metadata": {},
   "source": [
    "<strong>Coluna customer_state</strong>"
   ]
  },
  {
   "cell_type": "code",
   "execution_count": 99,
   "id": "c32e85e7",
   "metadata": {},
   "outputs": [
    {
     "data": {
      "text/html": [
       "<div>\n",
       "<style scoped>\n",
       "    .dataframe tbody tr th:only-of-type {\n",
       "        vertical-align: middle;\n",
       "    }\n",
       "\n",
       "    .dataframe tbody tr th {\n",
       "        vertical-align: top;\n",
       "    }\n",
       "\n",
       "    .dataframe thead th {\n",
       "        text-align: right;\n",
       "    }\n",
       "</style>\n",
       "<table border=\"1\" class=\"dataframe\">\n",
       "  <thead>\n",
       "    <tr style=\"text-align: right;\">\n",
       "      <th></th>\n",
       "      <th>customer_state</th>\n",
       "      <th>Qtd de Pedidos por Estado</th>\n",
       "    </tr>\n",
       "  </thead>\n",
       "  <tbody>\n",
       "    <tr>\n",
       "      <th>0</th>\n",
       "      <td>AC</td>\n",
       "      <td>95</td>\n",
       "    </tr>\n",
       "    <tr>\n",
       "      <th>1</th>\n",
       "      <td>AL</td>\n",
       "      <td>459</td>\n",
       "    </tr>\n",
       "    <tr>\n",
       "      <th>2</th>\n",
       "      <td>AM</td>\n",
       "      <td>170</td>\n",
       "    </tr>\n",
       "    <tr>\n",
       "      <th>3</th>\n",
       "      <td>AP</td>\n",
       "      <td>83</td>\n",
       "    </tr>\n",
       "    <tr>\n",
       "      <th>4</th>\n",
       "      <td>BA</td>\n",
       "      <td>4014</td>\n",
       "    </tr>\n",
       "    <tr>\n",
       "      <th>5</th>\n",
       "      <td>CE</td>\n",
       "      <td>1545</td>\n",
       "    </tr>\n",
       "    <tr>\n",
       "      <th>6</th>\n",
       "      <td>DF</td>\n",
       "      <td>2482</td>\n",
       "    </tr>\n",
       "    <tr>\n",
       "      <th>7</th>\n",
       "      <td>ES</td>\n",
       "      <td>2319</td>\n",
       "    </tr>\n",
       "    <tr>\n",
       "      <th>8</th>\n",
       "      <td>GO</td>\n",
       "      <td>2416</td>\n",
       "    </tr>\n",
       "    <tr>\n",
       "      <th>9</th>\n",
       "      <td>MA</td>\n",
       "      <td>843</td>\n",
       "    </tr>\n",
       "    <tr>\n",
       "      <th>10</th>\n",
       "      <td>MG</td>\n",
       "      <td>13616</td>\n",
       "    </tr>\n",
       "    <tr>\n",
       "      <th>11</th>\n",
       "      <td>MS</td>\n",
       "      <td>854</td>\n",
       "    </tr>\n",
       "    <tr>\n",
       "      <th>12</th>\n",
       "      <td>MT</td>\n",
       "      <td>1117</td>\n",
       "    </tr>\n",
       "    <tr>\n",
       "      <th>13</th>\n",
       "      <td>PA</td>\n",
       "      <td>1102</td>\n",
       "    </tr>\n",
       "    <tr>\n",
       "      <th>14</th>\n",
       "      <td>PB</td>\n",
       "      <td>629</td>\n",
       "    </tr>\n",
       "    <tr>\n",
       "      <th>15</th>\n",
       "      <td>PE</td>\n",
       "      <td>1876</td>\n",
       "    </tr>\n",
       "    <tr>\n",
       "      <th>16</th>\n",
       "      <td>PI</td>\n",
       "      <td>568</td>\n",
       "    </tr>\n",
       "    <tr>\n",
       "      <th>17</th>\n",
       "      <td>PR</td>\n",
       "      <td>5959</td>\n",
       "    </tr>\n",
       "    <tr>\n",
       "      <th>18</th>\n",
       "      <td>RJ</td>\n",
       "      <td>15220</td>\n",
       "    </tr>\n",
       "    <tr>\n",
       "      <th>19</th>\n",
       "      <td>RN</td>\n",
       "      <td>566</td>\n",
       "    </tr>\n",
       "    <tr>\n",
       "      <th>20</th>\n",
       "      <td>RO</td>\n",
       "      <td>285</td>\n",
       "    </tr>\n",
       "    <tr>\n",
       "      <th>21</th>\n",
       "      <td>RR</td>\n",
       "      <td>52</td>\n",
       "    </tr>\n",
       "    <tr>\n",
       "      <th>22</th>\n",
       "      <td>RS</td>\n",
       "      <td>6516</td>\n",
       "    </tr>\n",
       "    <tr>\n",
       "      <th>23</th>\n",
       "      <td>SC</td>\n",
       "      <td>4283</td>\n",
       "    </tr>\n",
       "    <tr>\n",
       "      <th>24</th>\n",
       "      <td>SE</td>\n",
       "      <td>395</td>\n",
       "    </tr>\n",
       "    <tr>\n",
       "      <th>25</th>\n",
       "      <td>SP</td>\n",
       "      <td>49527</td>\n",
       "    </tr>\n",
       "    <tr>\n",
       "      <th>26</th>\n",
       "      <td>TO</td>\n",
       "      <td>338</td>\n",
       "    </tr>\n",
       "  </tbody>\n",
       "</table>\n",
       "</div>"
      ],
      "text/plain": [
       "   customer_state  Qtd de Pedidos por Estado\n",
       "0              AC                         95\n",
       "1              AL                        459\n",
       "2              AM                        170\n",
       "3              AP                         83\n",
       "4              BA                       4014\n",
       "5              CE                       1545\n",
       "6              DF                       2482\n",
       "7              ES                       2319\n",
       "8              GO                       2416\n",
       "9              MA                        843\n",
       "10             MG                      13616\n",
       "11             MS                        854\n",
       "12             MT                       1117\n",
       "13             PA                       1102\n",
       "14             PB                        629\n",
       "15             PE                       1876\n",
       "16             PI                        568\n",
       "17             PR                       5959\n",
       "18             RJ                      15220\n",
       "19             RN                        566\n",
       "20             RO                        285\n",
       "21             RR                         52\n",
       "22             RS                       6516\n",
       "23             SC                       4283\n",
       "24             SE                        395\n",
       "25             SP                      49527\n",
       "26             TO                        338"
      ]
     },
     "execution_count": 99,
     "metadata": {},
     "output_type": "execute_result"
    }
   ],
   "source": [
    "pedidos.groupby('customer_state')['customer_state'].count().reset_index(name='Qtd de Pedidos por Estado')"
   ]
  },
  {
   "cell_type": "markdown",
   "id": "5d85941f",
   "metadata": {},
   "source": [
    "- Os estados que mais tiveram pedidos foi SP, RJ e MG."
   ]
  },
  {
   "cell_type": "markdown",
   "id": "cc8d9e05",
   "metadata": {},
   "source": [
    "##### Colunas Numéricas\n",
    "\n",
    "<strong>Coluna review_score</strong>"
   ]
  },
  {
   "cell_type": "code",
   "execution_count": 100,
   "id": "9ee6b073",
   "metadata": {},
   "outputs": [
    {
     "data": {
      "text/html": [
       "<div>\n",
       "<style scoped>\n",
       "    .dataframe tbody tr th:only-of-type {\n",
       "        vertical-align: middle;\n",
       "    }\n",
       "\n",
       "    .dataframe tbody tr th {\n",
       "        vertical-align: top;\n",
       "    }\n",
       "\n",
       "    .dataframe thead th {\n",
       "        text-align: right;\n",
       "    }\n",
       "</style>\n",
       "<table border=\"1\" class=\"dataframe\">\n",
       "  <thead>\n",
       "    <tr style=\"text-align: right;\">\n",
       "      <th></th>\n",
       "      <th>index</th>\n",
       "      <th>review_score</th>\n",
       "    </tr>\n",
       "  </thead>\n",
       "  <tbody>\n",
       "    <tr>\n",
       "      <th>0</th>\n",
       "      <td>count</td>\n",
       "      <td>117329.000000</td>\n",
       "    </tr>\n",
       "    <tr>\n",
       "      <th>1</th>\n",
       "      <td>mean</td>\n",
       "      <td>4.031467</td>\n",
       "    </tr>\n",
       "    <tr>\n",
       "      <th>2</th>\n",
       "      <td>std</td>\n",
       "      <td>1.387927</td>\n",
       "    </tr>\n",
       "    <tr>\n",
       "      <th>3</th>\n",
       "      <td>min</td>\n",
       "      <td>1.000000</td>\n",
       "    </tr>\n",
       "    <tr>\n",
       "      <th>4</th>\n",
       "      <td>25%</td>\n",
       "      <td>4.000000</td>\n",
       "    </tr>\n",
       "    <tr>\n",
       "      <th>5</th>\n",
       "      <td>50%</td>\n",
       "      <td>5.000000</td>\n",
       "    </tr>\n",
       "    <tr>\n",
       "      <th>6</th>\n",
       "      <td>75%</td>\n",
       "      <td>5.000000</td>\n",
       "    </tr>\n",
       "    <tr>\n",
       "      <th>7</th>\n",
       "      <td>max</td>\n",
       "      <td>5.000000</td>\n",
       "    </tr>\n",
       "  </tbody>\n",
       "</table>\n",
       "</div>"
      ],
      "text/plain": [
       "   index   review_score\n",
       "0  count  117329.000000\n",
       "1   mean       4.031467\n",
       "2    std       1.387927\n",
       "3    min       1.000000\n",
       "4    25%       4.000000\n",
       "5    50%       5.000000\n",
       "6    75%       5.000000\n",
       "7    max       5.000000"
      ]
     },
     "execution_count": 100,
     "metadata": {},
     "output_type": "execute_result"
    }
   ],
   "source": [
    "# Verificando a distribuição dos review score\n",
    "pedidos['review_score'].describe().reset_index()"
   ]
  },
  {
   "cell_type": "code",
   "execution_count": 101,
   "id": "e75f9af7",
   "metadata": {},
   "outputs": [
    {
     "data": {
      "text/html": [
       "<div>\n",
       "<style scoped>\n",
       "    .dataframe tbody tr th:only-of-type {\n",
       "        vertical-align: middle;\n",
       "    }\n",
       "\n",
       "    .dataframe tbody tr th {\n",
       "        vertical-align: top;\n",
       "    }\n",
       "\n",
       "    .dataframe thead th {\n",
       "        text-align: right;\n",
       "    }\n",
       "</style>\n",
       "<table border=\"1\" class=\"dataframe\">\n",
       "  <thead>\n",
       "    <tr style=\"text-align: right;\">\n",
       "      <th></th>\n",
       "      <th>review_score</th>\n",
       "      <th>Qtd por Review Score</th>\n",
       "      <th>Freq Relativa</th>\n",
       "    </tr>\n",
       "  </thead>\n",
       "  <tbody>\n",
       "    <tr>\n",
       "      <th>0</th>\n",
       "      <td>1</td>\n",
       "      <td>14854</td>\n",
       "      <td>12.66</td>\n",
       "    </tr>\n",
       "    <tr>\n",
       "      <th>1</th>\n",
       "      <td>2</td>\n",
       "      <td>4085</td>\n",
       "      <td>3.48</td>\n",
       "    </tr>\n",
       "    <tr>\n",
       "      <th>2</th>\n",
       "      <td>3</td>\n",
       "      <td>9840</td>\n",
       "      <td>8.39</td>\n",
       "    </tr>\n",
       "    <tr>\n",
       "      <th>3</th>\n",
       "      <td>4</td>\n",
       "      <td>22286</td>\n",
       "      <td>18.99</td>\n",
       "    </tr>\n",
       "    <tr>\n",
       "      <th>4</th>\n",
       "      <td>5</td>\n",
       "      <td>66264</td>\n",
       "      <td>56.48</td>\n",
       "    </tr>\n",
       "  </tbody>\n",
       "</table>\n",
       "</div>"
      ],
      "text/plain": [
       "   review_score  Qtd por Review Score  Freq Relativa\n",
       "0             1                 14854          12.66\n",
       "1             2                  4085           3.48\n",
       "2             3                  9840           8.39\n",
       "3             4                 22286          18.99\n",
       "4             5                 66264          56.48"
      ]
     },
     "execution_count": 101,
     "metadata": {},
     "output_type": "execute_result"
    }
   ],
   "source": [
    "# Verificando a quantidade de pedidos por status\n",
    "review_score = pedidos.groupby('review_score')['review_score'].count().reset_index(name='Qtd por Review Score')\n",
    "review_score['Freq Relativa'] = ((review_score['Qtd por Review Score'] / np.sum(review_score['Qtd por Review Score'])) * 100).round(2)\n",
    "review_score"
   ]
  },
  {
   "cell_type": "code",
   "execution_count": 102,
   "id": "2dae9b11",
   "metadata": {},
   "outputs": [
    {
     "data": {
      "image/png": "[encoded data removed]",
      "text/plain": [
       "<Figure size 640x480 with 1 Axes>"
      ]
     },
     "metadata": {},
     "output_type": "display_data"
    }
   ],
   "source": [
    "sns.countplot(pedidos, x=\"review_score\")\n",
    "plt.title(\"Quantidade de pedidos de acordo com review score\")\n",
    "plt.xlabel(\"Review Score\")\n",
    "plt.show()"
   ]
  },
  {
   "cell_type": "markdown",
   "id": "8b9b0529",
   "metadata": {},
   "source": [
    "- A maioria dos pedidos tiveram um review score com a nota máxima de 5 que equivale a 56,48%.\n",
    "- O segundo maior review score é a nota 4 e depois a nota 1, que equivale respectivamente 18,99% e 12,66%.\n",
    "- Apesar de muitos pedidos com a nota 5, ainda temos muitos pedidos com notas baixas."
   ]
  },
  {
   "cell_type": "markdown",
   "id": "85ee0318",
   "metadata": {},
   "source": [
    "<strong>Coluna price</strong>"
   ]
  },
  {
   "cell_type": "code",
   "execution_count": 103,
   "id": "d73fb053",
   "metadata": {},
   "outputs": [
    {
     "data": {
      "text/html": [
       "<div>\n",
       "<style scoped>\n",
       "    .dataframe tbody tr th:only-of-type {\n",
       "        vertical-align: middle;\n",
       "    }\n",
       "\n",
       "    .dataframe tbody tr th {\n",
       "        vertical-align: top;\n",
       "    }\n",
       "\n",
       "    .dataframe thead th {\n",
       "        text-align: right;\n",
       "    }\n",
       "</style>\n",
       "<table border=\"1\" class=\"dataframe\">\n",
       "  <thead>\n",
       "    <tr style=\"text-align: right;\">\n",
       "      <th></th>\n",
       "      <th>index</th>\n",
       "      <th>price</th>\n",
       "    </tr>\n",
       "  </thead>\n",
       "  <tbody>\n",
       "    <tr>\n",
       "      <th>0</th>\n",
       "      <td>count</td>\n",
       "      <td>117329.000000</td>\n",
       "    </tr>\n",
       "    <tr>\n",
       "      <th>1</th>\n",
       "      <td>mean</td>\n",
       "      <td>120.524349</td>\n",
       "    </tr>\n",
       "    <tr>\n",
       "      <th>2</th>\n",
       "      <td>std</td>\n",
       "      <td>182.944843</td>\n",
       "    </tr>\n",
       "    <tr>\n",
       "      <th>3</th>\n",
       "      <td>min</td>\n",
       "      <td>0.850000</td>\n",
       "    </tr>\n",
       "    <tr>\n",
       "      <th>4</th>\n",
       "      <td>25%</td>\n",
       "      <td>39.900000</td>\n",
       "    </tr>\n",
       "    <tr>\n",
       "      <th>5</th>\n",
       "      <td>50%</td>\n",
       "      <td>74.900000</td>\n",
       "    </tr>\n",
       "    <tr>\n",
       "      <th>6</th>\n",
       "      <td>75%</td>\n",
       "      <td>134.900000</td>\n",
       "    </tr>\n",
       "    <tr>\n",
       "      <th>7</th>\n",
       "      <td>max</td>\n",
       "      <td>6735.000000</td>\n",
       "    </tr>\n",
       "  </tbody>\n",
       "</table>\n",
       "</div>"
      ],
      "text/plain": [
       "   index          price\n",
       "0  count  117329.000000\n",
       "1   mean     120.524349\n",
       "2    std     182.944843\n",
       "3    min       0.850000\n",
       "4    25%      39.900000\n",
       "5    50%      74.900000\n",
       "6    75%     134.900000\n",
       "7    max    6735.000000"
      ]
     },
     "execution_count": 103,
     "metadata": {},
     "output_type": "execute_result"
    }
   ],
   "source": [
    "# Verificando a distribuição dos preços\n",
    "pedidos['price'].describe().reset_index()"
   ]
  },
  {
   "cell_type": "code",
   "execution_count": 104,
   "id": "db61e001",
   "metadata": {},
   "outputs": [
    {
     "data": {
      "image/png": "[encoded data removed]",
      "text/plain": [
       "<Figure size 1500x500 with 2 Axes>"
      ]
     },
     "metadata": {},
     "output_type": "display_data"
    }
   ],
   "source": [
    "# Verificando a distribuição dos dados da coluna price\n",
    "mostrar_distribuicao_dados_numericos(pedidos, 'price')"
   ]
  },
  {
   "cell_type": "markdown",
   "id": "a58c89b8",
   "metadata": {},
   "source": [
    "- Percebemos que a coluna ``price`` possui muitos valores considerados outliers.\n",
    "- E devido esses outliers, está puxando a média dos preços para cima.\n",
    "- A mediano do preço é 74,90 enquanto a média está 120,52.\n",
    "- O menor preço é 0,85 e o maior preço é 6735."
   ]
  },
  {
   "cell_type": "code",
   "execution_count": 105,
   "id": "38bf2511",
   "metadata": {},
   "outputs": [
    {
     "name": "stdout",
     "output_type": "stream",
     "text": [
      "Valores abaixo de -102.6 são outliers.\n",
      "Valores acima de 277.4 são outliers.\n"
     ]
    }
   ],
   "source": [
    "# Verificando quais são esses valores outliers\n",
    "outliers, (limite_inferior, limite_superior) = valores_outliers(pedidos, 'price')\n",
    "print(f\"Valores abaixo de {limite_inferior} são outliers.\")\n",
    "print(f\"Valores acima de {limite_superior} são outliers.\")"
   ]
  },
  {
   "cell_type": "markdown",
   "id": "005db8ed",
   "metadata": {},
   "source": [
    "<strong>Coluna freight_value</strong>"
   ]
  },
  {
   "cell_type": "code",
   "execution_count": 106,
   "id": "2fdace80",
   "metadata": {},
   "outputs": [
    {
     "data": {
      "text/html": [
       "<div>\n",
       "<style scoped>\n",
       "    .dataframe tbody tr th:only-of-type {\n",
       "        vertical-align: middle;\n",
       "    }\n",
       "\n",
       "    .dataframe tbody tr th {\n",
       "        vertical-align: top;\n",
       "    }\n",
       "\n",
       "    .dataframe thead th {\n",
       "        text-align: right;\n",
       "    }\n",
       "</style>\n",
       "<table border=\"1\" class=\"dataframe\">\n",
       "  <thead>\n",
       "    <tr style=\"text-align: right;\">\n",
       "      <th></th>\n",
       "      <th>index</th>\n",
       "      <th>freight_value</th>\n",
       "    </tr>\n",
       "  </thead>\n",
       "  <tbody>\n",
       "    <tr>\n",
       "      <th>0</th>\n",
       "      <td>count</td>\n",
       "      <td>117329.000000</td>\n",
       "    </tr>\n",
       "    <tr>\n",
       "      <th>1</th>\n",
       "      <td>mean</td>\n",
       "      <td>20.027514</td>\n",
       "    </tr>\n",
       "    <tr>\n",
       "      <th>2</th>\n",
       "      <td>std</td>\n",
       "      <td>15.828077</td>\n",
       "    </tr>\n",
       "    <tr>\n",
       "      <th>3</th>\n",
       "      <td>min</td>\n",
       "      <td>0.000000</td>\n",
       "    </tr>\n",
       "    <tr>\n",
       "      <th>4</th>\n",
       "      <td>25%</td>\n",
       "      <td>13.080000</td>\n",
       "    </tr>\n",
       "    <tr>\n",
       "      <th>5</th>\n",
       "      <td>50%</td>\n",
       "      <td>16.280000</td>\n",
       "    </tr>\n",
       "    <tr>\n",
       "      <th>6</th>\n",
       "      <td>75%</td>\n",
       "      <td>21.180000</td>\n",
       "    </tr>\n",
       "    <tr>\n",
       "      <th>7</th>\n",
       "      <td>max</td>\n",
       "      <td>409.680000</td>\n",
       "    </tr>\n",
       "  </tbody>\n",
       "</table>\n",
       "</div>"
      ],
      "text/plain": [
       "   index  freight_value\n",
       "0  count  117329.000000\n",
       "1   mean      20.027514\n",
       "2    std      15.828077\n",
       "3    min       0.000000\n",
       "4    25%      13.080000\n",
       "5    50%      16.280000\n",
       "6    75%      21.180000\n",
       "7    max     409.680000"
      ]
     },
     "execution_count": 106,
     "metadata": {},
     "output_type": "execute_result"
    }
   ],
   "source": [
    "# Verificando a distribuição dos fretes\n",
    "pedidos['freight_value'].describe().reset_index()"
   ]
  },
  {
   "cell_type": "code",
   "execution_count": 107,
   "id": "990d93d7",
   "metadata": {},
   "outputs": [
    {
     "data": {
      "image/png": "[encoded data removed]",
      "text/plain": [
       "<Figure size 1500x500 with 2 Axes>"
      ]
     },
     "metadata": {},
     "output_type": "display_data"
    }
   ],
   "source": [
    "# Verificando a distribuição dos dados da coluna freight_value\n",
    "mostrar_distribuicao_dados_numericos(pedidos, 'freight_value')"
   ]
  },
  {
   "cell_type": "markdown",
   "id": "7aeed641",
   "metadata": {},
   "source": [
    "- A coluna do valor do frete também possui muitos outliers.\n",
    "- A média está sendo impactada por esses outliers, pois a mediana é 16,28 e a média é 20,02.\n",
    "- O menor valor de frete é 0,00 e o maior é 409,68."
   ]
  },
  {
   "cell_type": "code",
   "execution_count": 108,
   "id": "55e0923f",
   "metadata": {},
   "outputs": [
    {
     "name": "stdout",
     "output_type": "stream",
     "text": [
      "Valores abaixo de 0.93 são outliers.\n",
      "Valores acima de 33.33 são outliers.\n"
     ]
    }
   ],
   "source": [
    "# Verificando quais são esses valores outliers\n",
    "outliers_frete, (limite_inferior_frete, limite_superior_frete) = valores_outliers(pedidos, 'freight_value')\n",
    "print(f\"Valores abaixo de {limite_inferior_frete:.2f} são outliers.\")\n",
    "print(f\"Valores acima de {limite_superior_frete} são outliers.\")"
   ]
  },
  {
   "cell_type": "markdown",
   "id": "85c59569",
   "metadata": {},
   "source": [
    "#### Análise Bivariada\n",
    "\n",
    "<strong>Colunas price e freight_value</strong>"
   ]
  },
  {
   "cell_type": "code",
   "execution_count": 109,
   "id": "a68e2c8c",
   "metadata": {},
   "outputs": [
    {
     "data": {
      "text/html": [
       "<div>\n",
       "<style scoped>\n",
       "    .dataframe tbody tr th:only-of-type {\n",
       "        vertical-align: middle;\n",
       "    }\n",
       "\n",
       "    .dataframe tbody tr th {\n",
       "        vertical-align: top;\n",
       "    }\n",
       "\n",
       "    .dataframe thead th {\n",
       "        text-align: right;\n",
       "    }\n",
       "</style>\n",
       "<table border=\"1\" class=\"dataframe\">\n",
       "  <thead>\n",
       "    <tr style=\"text-align: right;\">\n",
       "      <th></th>\n",
       "      <th>price</th>\n",
       "      <th>freight_value</th>\n",
       "    </tr>\n",
       "  </thead>\n",
       "  <tbody>\n",
       "    <tr>\n",
       "      <th>price</th>\n",
       "      <td>1.000000</td>\n",
       "      <td>0.414014</td>\n",
       "    </tr>\n",
       "    <tr>\n",
       "      <th>freight_value</th>\n",
       "      <td>0.414014</td>\n",
       "      <td>1.000000</td>\n",
       "    </tr>\n",
       "  </tbody>\n",
       "</table>\n",
       "</div>"
      ],
      "text/plain": [
       "                  price  freight_value\n",
       "price          1.000000       0.414014\n",
       "freight_value  0.414014       1.000000"
      ]
     },
     "execution_count": 109,
     "metadata": {},
     "output_type": "execute_result"
    }
   ],
   "source": [
    "# Verificando a correlação entre o preço e o valor do frete\n",
    "pedidos[['price', 'freight_value']].corr()"
   ]
  },
  {
   "cell_type": "code",
   "execution_count": 110,
   "id": "5d6bac14",
   "metadata": {},
   "outputs": [
    {
     "data": {
      "image/png": "[encoded data removed]",
      "text/plain": [
       "<Figure size 640x480 with 1 Axes>"
      ]
     },
     "metadata": {},
     "output_type": "display_data"
    }
   ],
   "source": [
    "# Verificando se possui uma relação o preço com o valor do frete\n",
    "sns.regplot(data=pedidos, x=\"price\", y=\"freight_value\")\n",
    "\n",
    "plt.title(\"Relação entre o Preço do Produto e o Valor do Frete\")\n",
    "plt.xlabel(\"Preço do Produto\")\n",
    "plt.ylabel(\"Valor do Frete\")\n",
    "plt.show()"
   ]
  },
  {
   "cell_type": "markdown",
   "id": "c5e78c09",
   "metadata": {},
   "source": [
    "- Percebe-se que o preço do produto e o valor do frete possui uma correlação fraca.\n",
    "- Mostra que nem sempre que o preço do produto é maior que o valor do frete também vai ser maior."
   ]
  },
  {
   "cell_type": "markdown",
   "id": "60d81547",
   "metadata": {},
   "source": [
    "<strong>Colunas price e review_score</strong>"
   ]
  },
  {
   "cell_type": "code",
   "execution_count": 111,
   "id": "f8ef54ec",
   "metadata": {},
   "outputs": [
    {
     "data": {
      "text/html": [
       "<div>\n",
       "<style scoped>\n",
       "    .dataframe tbody tr th:only-of-type {\n",
       "        vertical-align: middle;\n",
       "    }\n",
       "\n",
       "    .dataframe tbody tr th {\n",
       "        vertical-align: top;\n",
       "    }\n",
       "\n",
       "    .dataframe thead th {\n",
       "        text-align: right;\n",
       "    }\n",
       "</style>\n",
       "<table border=\"1\" class=\"dataframe\">\n",
       "  <thead>\n",
       "    <tr style=\"text-align: right;\">\n",
       "      <th></th>\n",
       "      <th>price</th>\n",
       "      <th>review_score</th>\n",
       "    </tr>\n",
       "  </thead>\n",
       "  <tbody>\n",
       "    <tr>\n",
       "      <th>price</th>\n",
       "      <td>1.000000</td>\n",
       "      <td>-0.004515</td>\n",
       "    </tr>\n",
       "    <tr>\n",
       "      <th>review_score</th>\n",
       "      <td>-0.004515</td>\n",
       "      <td>1.000000</td>\n",
       "    </tr>\n",
       "  </tbody>\n",
       "</table>\n",
       "</div>"
      ],
      "text/plain": [
       "                 price  review_score\n",
       "price         1.000000     -0.004515\n",
       "review_score -0.004515      1.000000"
      ]
     },
     "execution_count": 111,
     "metadata": {},
     "output_type": "execute_result"
    }
   ],
   "source": [
    "# Verificando se possui uma correlação entre o preço e a pontuação dada pelo cliente\n",
    "pedidos[['price', 'review_score']].corr()"
   ]
  },
  {
   "cell_type": "code",
   "execution_count": 112,
   "id": "bf62c4ce",
   "metadata": {},
   "outputs": [
    {
     "data": {
      "image/png": "[encoded data removed]",
      "text/plain": [
       "<Figure size 640x480 with 1 Axes>"
      ]
     },
     "metadata": {},
     "output_type": "display_data"
    }
   ],
   "source": [
    "# Verificando uma relação entre o preço do produto e a pontuação dada pelo cliente\n",
    "sns.scatterplot(data=pedidos, x=\"review_score\", y=\"price\")\n",
    "\n",
    "plt.title(\"Relação entre o Preço do Produto e a Pontuação do Cliente\")\n",
    "plt.ylabel(\"Preço do Produto\")\n",
    "plt.xlabel(\"Pontuação do Cliente\")\n",
    "plt.show()"
   ]
  },
  {
   "cell_type": "markdown",
   "id": "6b1f3145",
   "metadata": {},
   "source": [
    "- Percebe-se que não possui uma correlação entre o preço e a nota do cliente.\n",
    "- Produtos mais caros tiveram uma pontuação melhor."
   ]
  },
  {
   "cell_type": "markdown",
   "id": "faf63f73",
   "metadata": {},
   "source": [
    "<strong>Colunas order_status e review_score</strong>"
   ]
  },
  {
   "cell_type": "code",
   "execution_count": 113,
   "id": "75327deb",
   "metadata": {},
   "outputs": [
    {
     "data": {
      "image/png": "[encoded data removed]",
      "text/plain": [
       "<Figure size 800x500 with 1 Axes>"
      ]
     },
     "metadata": {},
     "output_type": "display_data"
    }
   ],
   "source": [
    "# Verificando a distribuição da nota do produto dado pelo cliente e o status do pedido\n",
    "plt.figure(figsize=(8, 5))\n",
    "sns.boxplot(data=pedidos, x='order_status', y='review_score')\n",
    "plt.title('Distribuição da Nota do Produto por Status do Pedido')\n",
    "plt.xlabel(\"Status do Pedido\")\n",
    "plt.ylabel(\"Nota do Produto\")\n",
    "plt.show()"
   ]
  },
  {
   "cell_type": "markdown",
   "id": "d568f42e",
   "metadata": {},
   "source": [
    "- A grande maioria dos produtos que foram entregues tiveram notas mais altas.\n",
    "- Pedidos cancelados tiveram notas mais baixas, como era de se esperar.\n",
    "- Percebe-se que contas aprovadas está com notas mais baixas."
   ]
  },
  {
   "cell_type": "code",
   "execution_count": 114,
   "id": "c750fc7e",
   "metadata": {},
   "outputs": [
    {
     "data": {
      "image/png": "[encoded data removed]",
      "text/plain": [
       "<Figure size 800x500 with 1 Axes>"
      ]
     },
     "metadata": {},
     "output_type": "display_data"
    }
   ],
   "source": [
    "plt.figure(figsize=(8, 5))\n",
    "sns.barplot(data=pedidos, x='order_status', y='review_score', ci='sd')\n",
    "plt.title('Distribuição da Nota do Produto por Status do Pedido')\n",
    "plt.xlabel(\"Status do Pedido\")\n",
    "plt.ylabel(\"Nota do Produto\")\n",
    "plt.show()"
   ]
  },
  {
   "cell_type": "markdown",
   "id": "4aa1a82f",
   "metadata": {},
   "source": [
    "- Nesse gráfico percebemos o mesmo comportamento, a diferença é que nesse conseguimos ver o quanto os dados estão dispersos em cada status do pedido."
   ]
  },
  {
   "cell_type": "markdown",
   "id": "2f8e7751",
   "metadata": {},
   "source": [
    "<strong>Colunas product_category_name e review_score</strong>\n",
    "\n",
    "Vamos pegar as 10 categorias de produtos mais vendidos e vamos analisar com a pontuação do produto"
   ]
  },
  {
   "cell_type": "code",
   "execution_count": 115,
   "id": "3da6d835",
   "metadata": {},
   "outputs": [
    {
     "data": {
      "text/html": [
       "<div>\n",
       "<style scoped>\n",
       "    .dataframe tbody tr th:only-of-type {\n",
       "        vertical-align: middle;\n",
       "    }\n",
       "\n",
       "    .dataframe tbody tr th {\n",
       "        vertical-align: top;\n",
       "    }\n",
       "\n",
       "    .dataframe thead th {\n",
       "        text-align: right;\n",
       "    }\n",
       "</style>\n",
       "<table border=\"1\" class=\"dataframe\">\n",
       "  <thead>\n",
       "    <tr style=\"text-align: right;\">\n",
       "      <th></th>\n",
       "      <th>mean</th>\n",
       "      <th>median</th>\n",
       "      <th>count</th>\n",
       "      <th>std</th>\n",
       "    </tr>\n",
       "    <tr>\n",
       "      <th>product_category_name</th>\n",
       "      <th></th>\n",
       "      <th></th>\n",
       "      <th></th>\n",
       "      <th></th>\n",
       "    </tr>\n",
       "  </thead>\n",
       "  <tbody>\n",
       "    <tr>\n",
       "      <th>automotivo</th>\n",
       "      <td>4.064279</td>\n",
       "      <td>5.0</td>\n",
       "      <td>4356</td>\n",
       "      <td>1.354162</td>\n",
       "    </tr>\n",
       "    <tr>\n",
       "      <th>beleza_saude</th>\n",
       "      <td>4.137973</td>\n",
       "      <td>5.0</td>\n",
       "      <td>9944</td>\n",
       "      <td>1.335905</td>\n",
       "    </tr>\n",
       "    <tr>\n",
       "      <th>cama_mesa_banho</th>\n",
       "      <td>3.890605</td>\n",
       "      <td>5.0</td>\n",
       "      <td>11847</td>\n",
       "      <td>1.451397</td>\n",
       "    </tr>\n",
       "    <tr>\n",
       "      <th>esporte_lazer</th>\n",
       "      <td>4.107470</td>\n",
       "      <td>5.0</td>\n",
       "      <td>8942</td>\n",
       "      <td>1.352101</td>\n",
       "    </tr>\n",
       "    <tr>\n",
       "      <th>ferramentas_jardim</th>\n",
       "      <td>4.023914</td>\n",
       "      <td>5.0</td>\n",
       "      <td>4558</td>\n",
       "      <td>1.399112</td>\n",
       "    </tr>\n",
       "    <tr>\n",
       "      <th>informatica_acessorios</th>\n",
       "      <td>3.936089</td>\n",
       "      <td>5.0</td>\n",
       "      <td>8105</td>\n",
       "      <td>1.446346</td>\n",
       "    </tr>\n",
       "    <tr>\n",
       "      <th>moveis_decoracao</th>\n",
       "      <td>3.912158</td>\n",
       "      <td>5.0</td>\n",
       "      <td>8743</td>\n",
       "      <td>1.462352</td>\n",
       "    </tr>\n",
       "    <tr>\n",
       "      <th>relogios_presentes</th>\n",
       "      <td>4.017692</td>\n",
       "      <td>5.0</td>\n",
       "      <td>6161</td>\n",
       "      <td>1.391012</td>\n",
       "    </tr>\n",
       "    <tr>\n",
       "      <th>telefonia</th>\n",
       "      <td>3.948849</td>\n",
       "      <td>5.0</td>\n",
       "      <td>4692</td>\n",
       "      <td>1.386333</td>\n",
       "    </tr>\n",
       "    <tr>\n",
       "      <th>utilidades_domesticas</th>\n",
       "      <td>4.060428</td>\n",
       "      <td>5.0</td>\n",
       "      <td>7331</td>\n",
       "      <td>1.366039</td>\n",
       "    </tr>\n",
       "  </tbody>\n",
       "</table>\n",
       "</div>"
      ],
      "text/plain": [
       "                            mean  median  count       std\n",
       "product_category_name                                    \n",
       "automotivo              4.064279     5.0   4356  1.354162\n",
       "beleza_saude            4.137973     5.0   9944  1.335905\n",
       "cama_mesa_banho         3.890605     5.0  11847  1.451397\n",
       "esporte_lazer           4.107470     5.0   8942  1.352101\n",
       "ferramentas_jardim      4.023914     5.0   4558  1.399112\n",
       "informatica_acessorios  3.936089     5.0   8105  1.446346\n",
       "moveis_decoracao        3.912158     5.0   8743  1.462352\n",
       "relogios_presentes      4.017692     5.0   6161  1.391012\n",
       "telefonia               3.948849     5.0   4692  1.386333\n",
       "utilidades_domesticas   4.060428     5.0   7331  1.366039"
      ]
     },
     "execution_count": 115,
     "metadata": {},
     "output_type": "execute_result"
    }
   ],
   "source": [
    "# Pegar as 10 categorias que mais teve pedidos\n",
    "top_10_categorias= pedidos['product_category_name'].value_counts().head(10).index\n",
    "\n",
    "pedidos_top_categorias = pedidos[pedidos['product_category_name'].isin(top_10_categorias)]\n",
    "\n",
    "pedidos_top_categorias.groupby('product_category_name')['review_score'].agg(['mean', 'median', 'count', 'std'])\n"
   ]
  },
  {
   "cell_type": "markdown",
   "id": "65b3592e",
   "metadata": {},
   "source": [
    "- Possível ver que as 10 maiores categorias de produtos tiveram nota máxima de acordo com a mediana.\n",
    "- De acordo com a média essas notas variaram um pouco.\n",
    "- Mostra que categorias mais vendidas tiveram notas mais altas."
   ]
  },
  {
   "cell_type": "code",
   "execution_count": 116,
   "id": "04f4d113",
   "metadata": {},
   "outputs": [
    {
     "data": {
      "image/png": "[encoded data removed]",
      "text/plain": [
       "<Figure size 1200x600 with 1 Axes>"
      ]
     },
     "metadata": {},
     "output_type": "display_data"
    }
   ],
   "source": [
    "# Verificando a distribuição das top 10 categorias de produtos pela nota dado ao pedido pelo cliente\n",
    "plt.figure(figsize=(12, 6))\n",
    "sns.boxplot(data=pedidos_top_categorias, x='product_category_name', y='review_score')\n",
    "plt.xticks(rotation=90)\n",
    "plt.title('Distribuição das Notas por Categoria de Produto (Top 10)')\n",
    "plt.ylabel('Nota do Produto')\n",
    "plt.xlabel('Categoria de Produto')\n",
    "plt.tight_layout()\n",
    "plt.show()"
   ]
  },
  {
   "cell_type": "markdown",
   "id": "c5f85954",
   "metadata": {},
   "source": [
    "- O gráfico mostra que todas as top 10 categorias tiveram algumas notas baixas, mas que no todo elas tiraram notas mais altas.\n",
    "- Para algumas categorias as notas baixas se tornaram valores outliers."
   ]
  },
  {
   "cell_type": "markdown",
   "id": "42703d91",
   "metadata": {},
   "source": [
    "<strong>Colunas seller_id e review_score</strong>\n",
    "\n",
    "Vamos pegar os 10 vendedores que mais venderam e vamos analisar a relação que eles tiveram com a nota do pedido."
   ]
  },
  {
   "cell_type": "code",
   "execution_count": 117,
   "id": "fd5d94be",
   "metadata": {},
   "outputs": [
    {
     "data": {
      "text/html": [
       "<div>\n",
       "<style scoped>\n",
       "    .dataframe tbody tr th:only-of-type {\n",
       "        vertical-align: middle;\n",
       "    }\n",
       "\n",
       "    .dataframe tbody tr th {\n",
       "        vertical-align: top;\n",
       "    }\n",
       "\n",
       "    .dataframe thead th {\n",
       "        text-align: right;\n",
       "    }\n",
       "</style>\n",
       "<table border=\"1\" class=\"dataframe\">\n",
       "  <thead>\n",
       "    <tr style=\"text-align: right;\">\n",
       "      <th></th>\n",
       "      <th>mean</th>\n",
       "      <th>median</th>\n",
       "      <th>count</th>\n",
       "      <th>std</th>\n",
       "    </tr>\n",
       "    <tr>\n",
       "      <th>seller_id</th>\n",
       "      <th></th>\n",
       "      <th></th>\n",
       "      <th></th>\n",
       "      <th></th>\n",
       "    </tr>\n",
       "  </thead>\n",
       "  <tbody>\n",
       "    <tr>\n",
       "      <th>1025f0e2d44d7041d6cf58b6550e0bfa</th>\n",
       "      <td>3.862116</td>\n",
       "      <td>5.0</td>\n",
       "      <td>1465</td>\n",
       "      <td>1.480785</td>\n",
       "    </tr>\n",
       "    <tr>\n",
       "      <th>1f50f920176fa81dab994f9023523100</th>\n",
       "      <td>3.981583</td>\n",
       "      <td>5.0</td>\n",
       "      <td>2009</td>\n",
       "      <td>1.447336</td>\n",
       "    </tr>\n",
       "    <tr>\n",
       "      <th>4a3ca9315b744ce9f8e9374361493884</th>\n",
       "      <td>3.801692</td>\n",
       "      <td>4.0</td>\n",
       "      <td>2128</td>\n",
       "      <td>1.456518</td>\n",
       "    </tr>\n",
       "    <tr>\n",
       "      <th>6560211a19b47992c3666cc44a7e94c0</th>\n",
       "      <td>3.909522</td>\n",
       "      <td>5.0</td>\n",
       "      <td>2111</td>\n",
       "      <td>1.405763</td>\n",
       "    </tr>\n",
       "    <tr>\n",
       "      <th>7a67c85e85bb2ce8582c35f2203ad736</th>\n",
       "      <td>4.226537</td>\n",
       "      <td>5.0</td>\n",
       "      <td>1236</td>\n",
       "      <td>1.215477</td>\n",
       "    </tr>\n",
       "    <tr>\n",
       "      <th>7c67e1448b00f6e969d365cea6b010ab</th>\n",
       "      <td>3.394773</td>\n",
       "      <td>4.0</td>\n",
       "      <td>1454</td>\n",
       "      <td>1.546125</td>\n",
       "    </tr>\n",
       "    <tr>\n",
       "      <th>955fee9216a65b617aa5c0531780ce60</th>\n",
       "      <td>4.054713</td>\n",
       "      <td>5.0</td>\n",
       "      <td>1517</td>\n",
       "      <td>1.307190</td>\n",
       "    </tr>\n",
       "    <tr>\n",
       "      <th>cc419e0650a3c5ba77189a1882b7556a</th>\n",
       "      <td>4.050928</td>\n",
       "      <td>5.0</td>\n",
       "      <td>1885</td>\n",
       "      <td>1.381772</td>\n",
       "    </tr>\n",
       "    <tr>\n",
       "      <th>da8622b14eb17ae2831f4ac5b9dab84a</th>\n",
       "      <td>4.071256</td>\n",
       "      <td>5.0</td>\n",
       "      <td>1656</td>\n",
       "      <td>1.347616</td>\n",
       "    </tr>\n",
       "    <tr>\n",
       "      <th>ea8482cd71df3c1969d7b9473ff13abc</th>\n",
       "      <td>3.957015</td>\n",
       "      <td>5.0</td>\n",
       "      <td>1233</td>\n",
       "      <td>1.379559</td>\n",
       "    </tr>\n",
       "  </tbody>\n",
       "</table>\n",
       "</div>"
      ],
      "text/plain": [
       "                                      mean  median  count       std\n",
       "seller_id                                                          \n",
       "1025f0e2d44d7041d6cf58b6550e0bfa  3.862116     5.0   1465  1.480785\n",
       "1f50f920176fa81dab994f9023523100  3.981583     5.0   2009  1.447336\n",
       "4a3ca9315b744ce9f8e9374361493884  3.801692     4.0   2128  1.456518\n",
       "6560211a19b47992c3666cc44a7e94c0  3.909522     5.0   2111  1.405763\n",
       "7a67c85e85bb2ce8582c35f2203ad736  4.226537     5.0   1236  1.215477\n",
       "7c67e1448b00f6e969d365cea6b010ab  3.394773     4.0   1454  1.546125\n",
       "955fee9216a65b617aa5c0531780ce60  4.054713     5.0   1517  1.307190\n",
       "cc419e0650a3c5ba77189a1882b7556a  4.050928     5.0   1885  1.381772\n",
       "da8622b14eb17ae2831f4ac5b9dab84a  4.071256     5.0   1656  1.347616\n",
       "ea8482cd71df3c1969d7b9473ff13abc  3.957015     5.0   1233  1.379559"
      ]
     },
     "execution_count": 117,
     "metadata": {},
     "output_type": "execute_result"
    }
   ],
   "source": [
    "# Pegar os 10 vendedores que mais teve pedidos\n",
    "top_10_vendedores= pedidos['seller_id'].value_counts().head(10).index\n",
    "\n",
    "pedidos_top_vendedores = pedidos[pedidos['seller_id'].isin(top_10_vendedores)]\n",
    "\n",
    "pedidos_top_vendedores.groupby('seller_id')['review_score'].agg(['mean', 'median', 'count', 'std'])"
   ]
  },
  {
   "cell_type": "code",
   "execution_count": 118,
   "id": "1f499938",
   "metadata": {},
   "outputs": [
    {
     "data": {
      "image/png": "[encoded data removed]",
      "text/plain": [
       "<Figure size 1200x800 with 1 Axes>"
      ]
     },
     "metadata": {},
     "output_type": "display_data"
    }
   ],
   "source": [
    "# Verificando a distribuição dos top 10 vendedores pela nota dado ao pedido pelo cliente\n",
    "plt.figure(figsize=(12, 8))\n",
    "sns.boxplot(data=pedidos_top_vendedores, x='seller_id', y='review_score')\n",
    "plt.xticks(rotation=90)\n",
    "plt.title('Distribuição das Notas por Vendedores (Top 10)')\n",
    "plt.ylabel('Nota do Produto')\n",
    "plt.xlabel('Vendedores')\n",
    "plt.tight_layout()\n",
    "plt.show()"
   ]
  },
  {
   "cell_type": "markdown",
   "id": "2137789e",
   "metadata": {},
   "source": [
    "- Os vendedores que mais venderam tiraram notas mais altas, mas também tirou notas baixas.\n",
    "- Quando olha para os vendedores as notas variaram mais e tiveram mais notas baixas."
   ]
  },
  {
   "cell_type": "markdown",
   "id": "2e7d718c",
   "metadata": {},
   "source": [
    "<strong>Colunas order_delivered_customer_date, order_estimated_delivery_date e review_score</strong>\n",
    "\n",
    "Vamos criar uma coluna que contém a diferença da data que foi entregue o pedido com a estimativa de entrega na hora da compra. Ver se possui alguma relação o atraso ou adiantamento do pedido com a nota recebida do pedido. Valores positivos significa que a entrega do pedido adiantou e valores negativos significa que a entrega atrasou."
   ]
  },
  {
   "cell_type": "code",
   "execution_count": 119,
   "id": "c6eda936",
   "metadata": {},
   "outputs": [
    {
     "data": {
      "text/html": [
       "<div>\n",
       "<style scoped>\n",
       "    .dataframe tbody tr th:only-of-type {\n",
       "        vertical-align: middle;\n",
       "    }\n",
       "\n",
       "    .dataframe tbody tr th {\n",
       "        vertical-align: top;\n",
       "    }\n",
       "\n",
       "    .dataframe thead th {\n",
       "        text-align: right;\n",
       "    }\n",
       "</style>\n",
       "<table border=\"1\" class=\"dataframe\">\n",
       "  <thead>\n",
       "    <tr style=\"text-align: right;\">\n",
       "      <th></th>\n",
       "      <th>index</th>\n",
       "      <th>difference_between_delivery_and_estimated_date</th>\n",
       "    </tr>\n",
       "  </thead>\n",
       "  <tbody>\n",
       "    <tr>\n",
       "      <th>0</th>\n",
       "      <td>count</td>\n",
       "      <td>114858.000000</td>\n",
       "    </tr>\n",
       "    <tr>\n",
       "      <th>1</th>\n",
       "      <td>mean</td>\n",
       "      <td>11.084574</td>\n",
       "    </tr>\n",
       "    <tr>\n",
       "      <th>2</th>\n",
       "      <td>std</td>\n",
       "      <td>10.094451</td>\n",
       "    </tr>\n",
       "    <tr>\n",
       "      <th>3</th>\n",
       "      <td>min</td>\n",
       "      <td>-189.000000</td>\n",
       "    </tr>\n",
       "    <tr>\n",
       "      <th>4</th>\n",
       "      <td>25%</td>\n",
       "      <td>6.000000</td>\n",
       "    </tr>\n",
       "    <tr>\n",
       "      <th>5</th>\n",
       "      <td>50%</td>\n",
       "      <td>12.000000</td>\n",
       "    </tr>\n",
       "    <tr>\n",
       "      <th>6</th>\n",
       "      <td>75%</td>\n",
       "      <td>16.000000</td>\n",
       "    </tr>\n",
       "    <tr>\n",
       "      <th>7</th>\n",
       "      <td>max</td>\n",
       "      <td>146.000000</td>\n",
       "    </tr>\n",
       "  </tbody>\n",
       "</table>\n",
       "</div>"
      ],
      "text/plain": [
       "   index  difference_between_delivery_and_estimated_date\n",
       "0  count                                   114858.000000\n",
       "1   mean                                       11.084574\n",
       "2    std                                       10.094451\n",
       "3    min                                     -189.000000\n",
       "4    25%                                        6.000000\n",
       "5    50%                                       12.000000\n",
       "6    75%                                       16.000000\n",
       "7    max                                      146.000000"
      ]
     },
     "execution_count": 119,
     "metadata": {},
     "output_type": "execute_result"
    }
   ],
   "source": [
    "# Criando uma coluna que ver a diferença de dias na data estimada de entrega no dia da compra com a data que foi entregue\n",
    "pedidos['difference_between_delivery_and_estimated_date'] = (pedidos['order_estimated_delivery_date'] - pedidos['order_delivered_customer_date']).dt.days\n",
    "\n",
    "# Verificar a distribuição dessa nova coluna de dias\n",
    "pedidos['difference_between_delivery_and_estimated_date'].describe().reset_index()"
   ]
  },
  {
   "cell_type": "code",
   "execution_count": 120,
   "id": "27dd9474",
   "metadata": {},
   "outputs": [
    {
     "name": "stdout",
     "output_type": "stream",
     "text": [
      "10% dos valores dos dias de adiantamento ou atraso das entregas está abaixo ou igual a 1.0\n"
     ]
    }
   ],
   "source": [
    "percentil_10 = pedidos['difference_between_delivery_and_estimated_date'].quantile(0.10)\n",
    "print(f\"10% dos valores dos dias de adiantamento ou atraso das entregas está abaixo ou igual a {percentil_10}\")"
   ]
  },
  {
   "cell_type": "code",
   "execution_count": 121,
   "id": "8fe6293a",
   "metadata": {},
   "outputs": [
    {
     "data": {
      "image/png": "[encoded data removed]",
      "text/plain": [
       "<Figure size 640x480 with 1 Axes>"
      ]
     },
     "metadata": {},
     "output_type": "display_data"
    }
   ],
   "source": [
    "sns.scatterplot(data=pedidos, y='difference_between_delivery_and_estimated_date', x='review_score')\n",
    "plt.title(\"Relação entre os dias de atraso ou adiantamento das entregas e nota do pedido\")\n",
    "plt.xlabel(\"Nota do Pedido\")\n",
    "plt.ylabel(\"Dias de Atraso ou Adiantamento do Pedido\")\n",
    "plt.show()"
   ]
  },
  {
   "cell_type": "markdown",
   "id": "fd1171d5",
   "metadata": {},
   "source": [
    "- Percebe-se que mesmo tendo atraso na entrega, alguns pedidos ainda assim tiraram nota máxima.\n",
    "- Menos de 10% dos valores tiveram atraso na entrega.\n",
    "- Olhando para os dados descritivos e para gráfico não é possível ver uma relação de atrasos com notas baixas."
   ]
  },
  {
   "cell_type": "markdown",
   "id": "6c91793e",
   "metadata": {},
   "source": [
    "#### Respondendo Algumas Perguntas\n",
    "\n",
    "Antes de responder algumas perguntas é preciso ser criada a coluna de clientes que são churn. Para a criação dessa coluna vamos pegar a recência e depois estipular o período desde a última compra para declarar se o cliente é churn ou não."
   ]
  },
  {
   "cell_type": "code",
   "execution_count": 122,
   "id": "b08dc38a",
   "metadata": {},
   "outputs": [
    {
     "data": {
      "text/html": [
       "<div>\n",
       "<style scoped>\n",
       "    .dataframe tbody tr th:only-of-type {\n",
       "        vertical-align: middle;\n",
       "    }\n",
       "\n",
       "    .dataframe tbody tr th {\n",
       "        vertical-align: top;\n",
       "    }\n",
       "\n",
       "    .dataframe thead th {\n",
       "        text-align: right;\n",
       "    }\n",
       "</style>\n",
       "<table border=\"1\" class=\"dataframe\">\n",
       "  <thead>\n",
       "    <tr style=\"text-align: right;\">\n",
       "      <th></th>\n",
       "      <th>order_id</th>\n",
       "      <th>order_status</th>\n",
       "      <th>order_purchase_timestamp</th>\n",
       "      <th>order_approved_at</th>\n",
       "      <th>order_delivered_customer_date</th>\n",
       "      <th>order_estimated_delivery_date</th>\n",
       "      <th>customer_unique_id</th>\n",
       "      <th>customer_city</th>\n",
       "      <th>customer_state</th>\n",
       "      <th>order_item_id</th>\n",
       "      <th>product_id</th>\n",
       "      <th>seller_id</th>\n",
       "      <th>price</th>\n",
       "      <th>freight_value</th>\n",
       "      <th>payment_type</th>\n",
       "      <th>payment_installments</th>\n",
       "      <th>product_category_name</th>\n",
       "      <th>review_score</th>\n",
       "      <th>review_answer_timestamp</th>\n",
       "      <th>total</th>\n",
       "      <th>difference_between_delivery_and_estimated_date</th>\n",
       "      <th>recency</th>\n",
       "      <th>churn</th>\n",
       "    </tr>\n",
       "  </thead>\n",
       "  <tbody>\n",
       "    <tr>\n",
       "      <th>0</th>\n",
       "      <td>e481f51cbdc54678b7cc49136f2d6af7</td>\n",
       "      <td>delivered</td>\n",
       "      <td>2017-10-02 10:56:33</td>\n",
       "      <td>2017-10-02 11:07:15</td>\n",
       "      <td>2017-10-10 21:25:13</td>\n",
       "      <td>2017-10-18</td>\n",
       "      <td>7c396fd4830fd04220f754e42b4e5bff</td>\n",
       "      <td>sao paulo</td>\n",
       "      <td>SP</td>\n",
       "      <td>1</td>\n",
       "      <td>87285b34884572647811a353c7ac498a</td>\n",
       "      <td>3504c0cb71d7fa48d967e0e4c94d59d9</td>\n",
       "      <td>29.99</td>\n",
       "      <td>8.72</td>\n",
       "      <td>credit_card</td>\n",
       "      <td>1</td>\n",
       "      <td>utilidades_domesticas</td>\n",
       "      <td>4</td>\n",
       "      <td>2017-10-12 03:43:48</td>\n",
       "      <td>38.71</td>\n",
       "      <td>7.0</td>\n",
       "      <td>335</td>\n",
       "      <td>0</td>\n",
       "    </tr>\n",
       "    <tr>\n",
       "      <th>1</th>\n",
       "      <td>e481f51cbdc54678b7cc49136f2d6af7</td>\n",
       "      <td>delivered</td>\n",
       "      <td>2017-10-02 10:56:33</td>\n",
       "      <td>2017-10-02 11:07:15</td>\n",
       "      <td>2017-10-10 21:25:13</td>\n",
       "      <td>2017-10-18</td>\n",
       "      <td>7c396fd4830fd04220f754e42b4e5bff</td>\n",
       "      <td>sao paulo</td>\n",
       "      <td>SP</td>\n",
       "      <td>1</td>\n",
       "      <td>87285b34884572647811a353c7ac498a</td>\n",
       "      <td>3504c0cb71d7fa48d967e0e4c94d59d9</td>\n",
       "      <td>29.99</td>\n",
       "      <td>8.72</td>\n",
       "      <td>voucher</td>\n",
       "      <td>1</td>\n",
       "      <td>utilidades_domesticas</td>\n",
       "      <td>4</td>\n",
       "      <td>2017-10-12 03:43:48</td>\n",
       "      <td>38.71</td>\n",
       "      <td>7.0</td>\n",
       "      <td>335</td>\n",
       "      <td>0</td>\n",
       "    </tr>\n",
       "    <tr>\n",
       "      <th>2</th>\n",
       "      <td>e481f51cbdc54678b7cc49136f2d6af7</td>\n",
       "      <td>delivered</td>\n",
       "      <td>2017-10-02 10:56:33</td>\n",
       "      <td>2017-10-02 11:07:15</td>\n",
       "      <td>2017-10-10 21:25:13</td>\n",
       "      <td>2017-10-18</td>\n",
       "      <td>7c396fd4830fd04220f754e42b4e5bff</td>\n",
       "      <td>sao paulo</td>\n",
       "      <td>SP</td>\n",
       "      <td>1</td>\n",
       "      <td>87285b34884572647811a353c7ac498a</td>\n",
       "      <td>3504c0cb71d7fa48d967e0e4c94d59d9</td>\n",
       "      <td>29.99</td>\n",
       "      <td>8.72</td>\n",
       "      <td>voucher</td>\n",
       "      <td>1</td>\n",
       "      <td>utilidades_domesticas</td>\n",
       "      <td>4</td>\n",
       "      <td>2017-10-12 03:43:48</td>\n",
       "      <td>38.71</td>\n",
       "      <td>7.0</td>\n",
       "      <td>335</td>\n",
       "      <td>0</td>\n",
       "    </tr>\n",
       "    <tr>\n",
       "      <th>3</th>\n",
       "      <td>53cdb2fc8bc7dce0b6741e2150273451</td>\n",
       "      <td>delivered</td>\n",
       "      <td>2018-07-24 20:41:37</td>\n",
       "      <td>2018-07-26 03:24:27</td>\n",
       "      <td>2018-08-07 15:27:45</td>\n",
       "      <td>2018-08-13</td>\n",
       "      <td>af07308b275d755c9edb36a90c618231</td>\n",
       "      <td>barreiras</td>\n",
       "      <td>BA</td>\n",
       "      <td>1</td>\n",
       "      <td>595fac2a385ac33a80bd5114aec74eb8</td>\n",
       "      <td>289cdb325fb7e7f891c38608bf9e0962</td>\n",
       "      <td>118.70</td>\n",
       "      <td>22.76</td>\n",
       "      <td>boleto</td>\n",
       "      <td>1</td>\n",
       "      <td>perfumaria</td>\n",
       "      <td>4</td>\n",
       "      <td>2018-08-08 18:37:50</td>\n",
       "      <td>141.46</td>\n",
       "      <td>5.0</td>\n",
       "      <td>40</td>\n",
       "      <td>0</td>\n",
       "    </tr>\n",
       "    <tr>\n",
       "      <th>4</th>\n",
       "      <td>47770eb9100c2d0c44946d9cf07ec65d</td>\n",
       "      <td>delivered</td>\n",
       "      <td>2018-08-08 08:38:49</td>\n",
       "      <td>2018-08-08 08:55:23</td>\n",
       "      <td>2018-08-17 18:06:29</td>\n",
       "      <td>2018-09-04</td>\n",
       "      <td>3a653a41f6f9fc3d2a113cf8398680e8</td>\n",
       "      <td>vianopolis</td>\n",
       "      <td>GO</td>\n",
       "      <td>1</td>\n",
       "      <td>aa4383b373c6aca5d8797843e5594415</td>\n",
       "      <td>4869f7a5dfa277a7dca6462dcf3b52b2</td>\n",
       "      <td>159.90</td>\n",
       "      <td>19.22</td>\n",
       "      <td>credit_card</td>\n",
       "      <td>3</td>\n",
       "      <td>automotivo</td>\n",
       "      <td>5</td>\n",
       "      <td>2018-08-22 19:07:58</td>\n",
       "      <td>179.12</td>\n",
       "      <td>17.0</td>\n",
       "      <td>26</td>\n",
       "      <td>0</td>\n",
       "    </tr>\n",
       "  </tbody>\n",
       "</table>\n",
       "</div>"
      ],
      "text/plain": [
       "                           order_id order_status order_purchase_timestamp  \\\n",
       "0  e481f51cbdc54678b7cc49136f2d6af7    delivered      2017-10-02 10:56:33   \n",
       "1  e481f51cbdc54678b7cc49136f2d6af7    delivered      2017-10-02 10:56:33   \n",
       "2  e481f51cbdc54678b7cc49136f2d6af7    delivered      2017-10-02 10:56:33   \n",
       "3  53cdb2fc8bc7dce0b6741e2150273451    delivered      2018-07-24 20:41:37   \n",
       "4  47770eb9100c2d0c44946d9cf07ec65d    delivered      2018-08-08 08:38:49   \n",
       "\n",
       "    order_approved_at order_delivered_customer_date  \\\n",
       "0 2017-10-02 11:07:15           2017-10-10 21:25:13   \n",
       "1 2017-10-02 11:07:15           2017-10-10 21:25:13   \n",
       "2 2017-10-02 11:07:15           2017-10-10 21:25:13   \n",
       "3 2018-07-26 03:24:27           2018-08-07 15:27:45   \n",
       "4 2018-08-08 08:55:23           2018-08-17 18:06:29   \n",
       "\n",
       "  order_estimated_delivery_date                customer_unique_id  \\\n",
       "0                    2017-10-18  7c396fd4830fd04220f754e42b4e5bff   \n",
       "1                    2017-10-18  7c396fd4830fd04220f754e42b4e5bff   \n",
       "2                    2017-10-18  7c396fd4830fd04220f754e42b4e5bff   \n",
       "3                    2018-08-13  af07308b275d755c9edb36a90c618231   \n",
       "4                    2018-09-04  3a653a41f6f9fc3d2a113cf8398680e8   \n",
       "\n",
       "  customer_city customer_state  order_item_id  \\\n",
       "0     sao paulo             SP              1   \n",
       "1     sao paulo             SP              1   \n",
       "2     sao paulo             SP              1   \n",
       "3     barreiras             BA              1   \n",
       "4    vianopolis             GO              1   \n",
       "\n",
       "                         product_id                         seller_id   price  \\\n",
       "0  87285b34884572647811a353c7ac498a  3504c0cb71d7fa48d967e0e4c94d59d9   29.99   \n",
       "1  87285b34884572647811a353c7ac498a  3504c0cb71d7fa48d967e0e4c94d59d9   29.99   \n",
       "2  87285b34884572647811a353c7ac498a  3504c0cb71d7fa48d967e0e4c94d59d9   29.99   \n",
       "3  595fac2a385ac33a80bd5114aec74eb8  289cdb325fb7e7f891c38608bf9e0962  118.70   \n",
       "4  aa4383b373c6aca5d8797843e5594415  4869f7a5dfa277a7dca6462dcf3b52b2  159.90   \n",
       "\n",
       "   freight_value payment_type  payment_installments  product_category_name  \\\n",
       "0           8.72  credit_card                     1  utilidades_domesticas   \n",
       "1           8.72      voucher                     1  utilidades_domesticas   \n",
       "2           8.72      voucher                     1  utilidades_domesticas   \n",
       "3          22.76       boleto                     1             perfumaria   \n",
       "4          19.22  credit_card                     3             automotivo   \n",
       "\n",
       "   review_score review_answer_timestamp   total  \\\n",
       "0             4     2017-10-12 03:43:48   38.71   \n",
       "1             4     2017-10-12 03:43:48   38.71   \n",
       "2             4     2017-10-12 03:43:48   38.71   \n",
       "3             4     2018-08-08 18:37:50  141.46   \n",
       "4             5     2018-08-22 19:07:58  179.12   \n",
       "\n",
       "   difference_between_delivery_and_estimated_date  recency  churn  \n",
       "0                                             7.0      335      0  \n",
       "1                                             7.0      335      0  \n",
       "2                                             7.0      335      0  \n",
       "3                                             5.0       40      0  \n",
       "4                                            17.0       26      0  "
      ]
     },
     "execution_count": 122,
     "metadata": {},
     "output_type": "execute_result"
    }
   ],
   "source": [
    "# Pegando a última data de compra de toda a base de dados\n",
    "data_ultima_compra = pedidos['order_purchase_timestamp'].max()\n",
    "\n",
    "# Criando a coluna de Recência para criar depois a coluna de churn\n",
    "pedidos['recency'] = (data_ultima_compra - pedidos.groupby('customer_unique_id')['order_purchase_timestamp'].transform('max')).dt.days\n",
    "\n",
    "# Definindo o período que vai ser considerado como churn\n",
    "periodo_churn = 365\n",
    "pedidos['churn'] = np.where(pedidos['recency'] > periodo_churn, 1, 0)\n",
    "pedidos.head()"
   ]
  },
  {
   "cell_type": "markdown",
   "id": "5db6846a",
   "metadata": {},
   "source": [
    "<strong>Verificando a distribuição da coluna churn</strong>"
   ]
  },
  {
   "cell_type": "code",
   "execution_count": 123,
   "id": "0cf3f29a",
   "metadata": {},
   "outputs": [
    {
     "data": {
      "text/html": [
       "<div>\n",
       "<style scoped>\n",
       "    .dataframe tbody tr th:only-of-type {\n",
       "        vertical-align: middle;\n",
       "    }\n",
       "\n",
       "    .dataframe tbody tr th {\n",
       "        vertical-align: top;\n",
       "    }\n",
       "\n",
       "    .dataframe thead th {\n",
       "        text-align: right;\n",
       "    }\n",
       "</style>\n",
       "<table border=\"1\" class=\"dataframe\">\n",
       "  <thead>\n",
       "    <tr style=\"text-align: right;\">\n",
       "      <th></th>\n",
       "      <th>churn</th>\n",
       "      <th>Freq Relativa</th>\n",
       "    </tr>\n",
       "  </thead>\n",
       "  <tbody>\n",
       "    <tr>\n",
       "      <th>0</th>\n",
       "      <td>0</td>\n",
       "      <td>0.768983</td>\n",
       "    </tr>\n",
       "    <tr>\n",
       "      <th>1</th>\n",
       "      <td>1</td>\n",
       "      <td>0.231017</td>\n",
       "    </tr>\n",
       "  </tbody>\n",
       "</table>\n",
       "</div>"
      ],
      "text/plain": [
       "   churn  Freq Relativa\n",
       "0      0       0.768983\n",
       "1      1       0.231017"
      ]
     },
     "execution_count": 123,
     "metadata": {},
     "output_type": "execute_result"
    }
   ],
   "source": [
    "pedidos['churn'].value_counts(normalize=True).reset_index(name='Freq Relativa')"
   ]
  },
  {
   "cell_type": "markdown",
   "id": "1236b6bd",
   "metadata": {},
   "source": [
    "- Podemos ver que temos uma classe desbalanceada. Possuimos mais valores que não é churn."
   ]
  },
  {
   "cell_type": "markdown",
   "id": "765d0ff3",
   "metadata": {},
   "source": [
    "<strong>1) Existe alguma relação de um cliente ter dado uma nota ruim e depois ter virado churn?</strong>"
   ]
  },
  {
   "cell_type": "code",
   "execution_count": 124,
   "id": "4afbe6bb",
   "metadata": {},
   "outputs": [
    {
     "data": {
      "text/html": [
       "<div>\n",
       "<style scoped>\n",
       "    .dataframe tbody tr th:only-of-type {\n",
       "        vertical-align: middle;\n",
       "    }\n",
       "\n",
       "    .dataframe tbody tr th {\n",
       "        vertical-align: top;\n",
       "    }\n",
       "\n",
       "    .dataframe thead th {\n",
       "        text-align: right;\n",
       "    }\n",
       "</style>\n",
       "<table border=\"1\" class=\"dataframe\">\n",
       "  <thead>\n",
       "    <tr style=\"text-align: right;\">\n",
       "      <th></th>\n",
       "      <th>Bom</th>\n",
       "      <th>Ruim</th>\n",
       "    </tr>\n",
       "    <tr>\n",
       "      <th>review_score</th>\n",
       "      <th></th>\n",
       "      <th></th>\n",
       "    </tr>\n",
       "  </thead>\n",
       "  <tbody>\n",
       "    <tr>\n",
       "      <th>1</th>\n",
       "      <td>0.132526</td>\n",
       "      <td>0.106881</td>\n",
       "    </tr>\n",
       "    <tr>\n",
       "      <th>2</th>\n",
       "      <td>0.035024</td>\n",
       "      <td>0.034127</td>\n",
       "    </tr>\n",
       "    <tr>\n",
       "      <th>3</th>\n",
       "      <td>0.083215</td>\n",
       "      <td>0.086036</td>\n",
       "    </tr>\n",
       "    <tr>\n",
       "      <th>4</th>\n",
       "      <td>0.188520</td>\n",
       "      <td>0.194687</td>\n",
       "    </tr>\n",
       "    <tr>\n",
       "      <th>5</th>\n",
       "      <td>0.560716</td>\n",
       "      <td>0.578270</td>\n",
       "    </tr>\n",
       "  </tbody>\n",
       "</table>\n",
       "</div>"
      ],
      "text/plain": [
       "                   Bom      Ruim\n",
       "review_score                    \n",
       "1             0.132526  0.106881\n",
       "2             0.035024  0.034127\n",
       "3             0.083215  0.086036\n",
       "4             0.188520  0.194687\n",
       "5             0.560716  0.578270"
      ]
     },
     "execution_count": 124,
     "metadata": {},
     "output_type": "execute_result"
    }
   ],
   "source": [
    "# Verificar a relação de review_score e churn usando uma tabela de contigencia\n",
    "gerar_tabela_contigencia(pedidos, \"review_score\", \"churn\")"
   ]
  },
  {
   "cell_type": "code",
   "execution_count": 125,
   "id": "75dc9036",
   "metadata": {},
   "outputs": [
    {
     "data": {
      "image/png": "[encoded data removed]",
      "text/plain": [
       "<Figure size 640x480 with 1 Axes>"
      ]
     },
     "metadata": {},
     "output_type": "display_data"
    }
   ],
   "source": [
    "# Verificando a distribuição do review score pelo churn\n",
    "sns.boxplot(data=pedidos, x=\"churn\", y=\"review_score\")\n",
    "plt.title(\"Distribuição de Review Score por Churn\")\n",
    "plt.xticks([0, 1], ['Não churn', 'Churn'])\n",
    "plt.xlabel('')\n",
    "plt.show()"
   ]
  },
  {
   "cell_type": "markdown",
   "id": "730d8482",
   "metadata": {},
   "source": [
    "- O gráfico mostra que muitos dos clientes que deram churn deram notas mais altas em relação ao produto.\n",
    "- Mostrou que 57.8% dos clientes que deram churn deram nota máxima que é 5.\n",
    "- Nos clientes que não foram churn teve muitos que deram notas mais baixas em relação a quem deu churn."
   ]
  },
  {
   "cell_type": "code",
   "execution_count": 126,
   "id": "3d5f33bb",
   "metadata": {},
   "outputs": [
    {
     "name": "stdout",
     "output_type": "stream",
     "text": [
      "IV de review_score: 0.01\n",
      "Poder de separação: Muito fraco\n"
     ]
    }
   ],
   "source": [
    "# Calculando o IV\n",
    "calcular_iv(pedidos, \"review_score\", \"churn\")"
   ]
  },
  {
   "cell_type": "markdown",
   "id": "315c4b4b",
   "metadata": {},
   "source": [
    "- Foi calculado o IV e podemos verificar que a variável review_score tem um poder de separação muito fraco, isso quer dizer que a variável não explica bem o churn.\n",
    "- Foi possível ver isso nos gráficos."
   ]
  },
  {
   "cell_type": "markdown",
   "id": "910e18e7",
   "metadata": {},
   "source": [
    "<strong>2) Clientes que compram produtos mais caros tem tendência de virar churn? Ou é o contrário?</strong>"
   ]
  },
  {
   "cell_type": "code",
   "execution_count": 127,
   "id": "5649545d",
   "metadata": {},
   "outputs": [
    {
     "data": {
      "image/png": "[encoded data removed]",
      "text/plain": [
       "<Figure size 640x480 with 1 Axes>"
      ]
     },
     "metadata": {},
     "output_type": "display_data"
    }
   ],
   "source": [
    "# Verificando a distribuição de price pelo churn\n",
    "sns.boxplot(data=pedidos, x=\"churn\", y=\"price\")\n",
    "plt.title(\"Distribuição de Preço do Produto por Churn\")\n",
    "plt.xticks([0, 1], ['Não churn', 'Churn'])\n",
    "plt.ylabel(\"Preço\")\n",
    "plt.xlabel('')\n",
    "plt.show()"
   ]
  },
  {
   "cell_type": "markdown",
   "id": "d28c2e29",
   "metadata": {},
   "source": [
    "- Não dá para ver uma relação direta entre o preço e o churn, as distribuições estão bem parecidas tanto de quem é churn de quem não é churn.\n",
    "- Em alguns produtos muito caros, o cliente se tornou churn.\n",
    "- Não ficou evidente que produtos mais caros ou mais barotos tendem a ser churn ou não."
   ]
  },
  {
   "cell_type": "code",
   "execution_count": 128,
   "id": "a1a46436",
   "metadata": {},
   "outputs": [
    {
     "data": {
      "image/png": "[encoded data removed]",
      "text/plain": [
       "<Figure size 640x480 with 1 Axes>"
      ]
     },
     "metadata": {},
     "output_type": "display_data"
    }
   ],
   "source": [
    "# Vendo a distribuição de preço de acordo se é churn ou não\n",
    "sns.kdeplot(data=pedidos[pedidos['churn'] == 1]['price'], label='Churn', shade=True, color='#FF9999', alpha=0.6)\n",
    "sns.kdeplot(data=pedidos[pedidos['churn'] == 0]['price'], label='Não Churn', shade=True, color='#99CCFF', alpha=0.6)\n",
    "plt.title('Distribuição de Preços por Churn')\n",
    "plt.legend()\n",
    "plt.show()"
   ]
  },
  {
   "cell_type": "markdown",
   "id": "6321e28b",
   "metadata": {},
   "source": [
    "- Pela distribuição podemos ver que o preço tem uma distribuição parecida seja para quem é churn ou não.\n",
    "- Não podemos afirmar que preços mais caros ou mais baratos está atrelado ao churn."
   ]
  },
  {
   "cell_type": "markdown",
   "id": "f2b9f936",
   "metadata": {},
   "source": [
    "<strong>Vamos usar um teste de hipótese não-paramétrico já que não temos uma distribuição normal para verificar se os preços altos estão empactando o churn ou não.</strong>\n",
    "\n",
    "H0: Não há diferença significativa na mediana dos preços entre os clientes churn e não-churn. ``medidana_churn = mediana_nao_churn``\n",
    "\n",
    "H1: Há uma diferença significativa na mediana dos preços entre os clientes churn e não-churn. Isso significa que o preço pode influenciar o churn. ``mediana_churn != mediana_nao_churn``\n",
    "\n",
    "Nível de Significância = 5%"
   ]
  },
  {
   "cell_type": "code",
   "execution_count": 129,
   "id": "69ce1480",
   "metadata": {},
   "outputs": [
    {
     "name": "stdout",
     "output_type": "stream",
     "text": [
      "Mediana de preços de churn: 69.99\n",
      "Mediana de preços de não churn: 75.0\n",
      "\n",
      "Estatística de Mann-Whitney U: 1205283856.0\n",
      "Valor p: 0.0003513540088331815\n"
     ]
    }
   ],
   "source": [
    "# Separando amostras de preços de churn e não churn\n",
    "precos_churn = pedidos[pedidos['churn'] == 1]['price']\n",
    "precos_nao_churn = pedidos[pedidos['churn'] == 0]['price']\n",
    "\n",
    "# Calculando o teste de hipótese\n",
    "statistic, p_value = stats.mannwhitneyu(precos_churn, precos_nao_churn, alternative='two-sided')\n",
    "\n",
    "print(f'Mediana de preços de churn: {precos_churn.median()}')\n",
    "print(f'Mediana de preços de não churn: {precos_nao_churn.median()}\\n')\n",
    "\n",
    "print(f\"Estatística de Mann-Whitney U: {statistic}\")\n",
    "print(f\"Valor p: {p_value}\")"
   ]
  },
  {
   "cell_type": "markdown",
   "id": "3cac8da4",
   "metadata": {},
   "source": [
    "- Como o p-valor foi menor que o nível de confiança, rejeitamos H0. \n",
    "- Isso significa que há evidências estatísticas fortes e suficientes para afirmar que existe uma diferença significativa na distribuição dos preços entre os clientes que viram churn e os que não viram churn.\n",
    "- Ao comparar as medianas de preços para clientes churn (69.99) é menor do que a mediana de preços para clientes não churn (75.00). A tendência é que clientes que compram produtos com preços mais baixos têm uma propensão maior a se tornarem churn."
   ]
  },
  {
   "cell_type": "markdown",
   "id": "3f3eaff7",
   "metadata": {},
   "source": [
    "<strong>Vamos olhar sobre a magnitude da diferença, que chamamos de tamanho do efeito, para isso vamos usar a medida de Correlação Bisseriana por Ranks (r), ela quantifica a força e a direção da relação entre o grupo (churn vs. não-churn) e a classificação (rank) dos preços.</strong>\n",
    "\n",
    "1 - Valores próximos a 0 indicam um efeito pequeno.\n",
    "\n",
    "2 - Valores de 0.1 a 0.3 são considerados um efeito pequeno.\n",
    "\n",
    "3 - Valores de 0.3 a 0.5 são considerados um efeito médio.\n",
    "\n",
    "4 - Valores acima de 0.5 são considerados um efeito grande."
   ]
  },
  {
   "cell_type": "code",
   "execution_count": 130,
   "id": "35efb217",
   "metadata": {},
   "outputs": [
    {
     "name": "stdout",
     "output_type": "stream",
     "text": [
      "Correlação bisseriana por Rank (r): 0.0143\n"
     ]
    }
   ],
   "source": [
    "# Calculando o tamanho do efeito usando o ranks\n",
    "tamanho_amostra_churn = len(precos_churn)\n",
    "tamanho_amostra_nao_churn = len(precos_nao_churn)\n",
    "u_estatistica = statistic\n",
    "\n",
    "r_rank = 1 - (2 * u_estatistica / (tamanho_amostra_churn * tamanho_amostra_nao_churn))\n",
    "\n",
    "print(f'Correlação bisseriana por Rank (r): {r_rank:.4f}')"
   ]
  },
  {
   "cell_type": "markdown",
   "id": "8a67bea1",
   "metadata": {},
   "source": [
    "- Com o tamanho do efeito podemos ver que a diferença nas distribuições de preços entre clientes churn e não-churn é detectável estatisticamente devido ao grande tamanho da amostra, mas essa diferença tem um impacto muito pequeno na prática.\n",
    "- Como o valor da correlação bisseriana por ranks é 0.0143, muito pequeno. Isso significa que a magnitude prática dessa diferença é mínima. Ou seja, o preço é um fator associado ao churn, mas a força dessa associação é muito fraca."
   ]
  },
  {
   "cell_type": "markdown",
   "id": "e42563ef",
   "metadata": {},
   "source": [
    "<strong>3) O tipo de pagamento tem alguma relação se o cliente virou churn ou não?</strong>"
   ]
  },
  {
   "cell_type": "code",
   "execution_count": 131,
   "id": "bd3e77fa",
   "metadata": {},
   "outputs": [
    {
     "data": {
      "text/html": [
       "<div>\n",
       "<style scoped>\n",
       "    .dataframe tbody tr th:only-of-type {\n",
       "        vertical-align: middle;\n",
       "    }\n",
       "\n",
       "    .dataframe tbody tr th {\n",
       "        vertical-align: top;\n",
       "    }\n",
       "\n",
       "    .dataframe thead th {\n",
       "        text-align: right;\n",
       "    }\n",
       "</style>\n",
       "<table border=\"1\" class=\"dataframe\">\n",
       "  <thead>\n",
       "    <tr style=\"text-align: right;\">\n",
       "      <th></th>\n",
       "      <th>Bom</th>\n",
       "      <th>Ruim</th>\n",
       "    </tr>\n",
       "    <tr>\n",
       "      <th>payment_type</th>\n",
       "      <th></th>\n",
       "      <th></th>\n",
       "    </tr>\n",
       "  </thead>\n",
       "  <tbody>\n",
       "    <tr>\n",
       "      <th>boleto</th>\n",
       "      <td>0.191102</td>\n",
       "      <td>0.206346</td>\n",
       "    </tr>\n",
       "    <tr>\n",
       "      <th>credit_card</th>\n",
       "      <td>0.743849</td>\n",
       "      <td>0.715993</td>\n",
       "    </tr>\n",
       "    <tr>\n",
       "      <th>debit_card</th>\n",
       "      <td>0.016293</td>\n",
       "      <td>0.008190</td>\n",
       "    </tr>\n",
       "    <tr>\n",
       "      <th>voucher</th>\n",
       "      <td>0.048756</td>\n",
       "      <td>0.069471</td>\n",
       "    </tr>\n",
       "  </tbody>\n",
       "</table>\n",
       "</div>"
      ],
      "text/plain": [
       "                   Bom      Ruim\n",
       "payment_type                    \n",
       "boleto        0.191102  0.206346\n",
       "credit_card   0.743849  0.715993\n",
       "debit_card    0.016293  0.008190\n",
       "voucher       0.048756  0.069471"
      ]
     },
     "execution_count": 131,
     "metadata": {},
     "output_type": "execute_result"
    }
   ],
   "source": [
    "# Tabela para verificar a quantidade percentual de clientes virou churn de acordo com o tipo de pagamento\n",
    "gerar_tabela_contigencia(pedidos, \"payment_type\", \"churn\")"
   ]
  },
  {
   "cell_type": "code",
   "execution_count": 132,
   "id": "3e20b35b",
   "metadata": {},
   "outputs": [
    {
     "name": "stdout",
     "output_type": "stream",
     "text": [
      "IV de payment_type: 0.02\n",
      "Poder de separação: Muito fraco\n"
     ]
    }
   ],
   "source": [
    "# Verificando através do IV para ver se o tipo de pagamento tem relação com o churn\n",
    "calcular_iv(pedidos, \"payment_type\", \"churn\")"
   ]
  },
  {
   "cell_type": "markdown",
   "id": "57f75019",
   "metadata": {},
   "source": [
    "- De acordo com o IV o tipo de pagamento tem um poder de separação muito fraco, isso significa que o tipo de pagamento quase não tem relação nenhuma, ele não teve interferência na decisão do cliente de se tornar churn.\n",
    "- De acordo com a tabela de contigência, cerca de 71% dos clientes que se tornaram churn pagaram com o cartão de créidito. Logo em seguida vem o tipo de pagamento em boleto com 20%.\n",
    "- Das pessoas que não se tornaram churn, 74% também pagaram com o cartão de crédito e 19% com o boleto."
   ]
  },
  {
   "cell_type": "markdown",
   "id": "305442ee",
   "metadata": {},
   "source": [
    "<strong>Vamos realizar um teste de hipótese chamado Teste Qui-Quadrado de Independência para verificar se há uma relação entre as variáveis tipo de pagamento e churn.</strong>\n",
    "\n",
    "H0: As duas variáveis são independentes (pu seja, não há relação entre o tipo de pagamento e o churn).\n",
    "\n",
    "H1: As duas variáveis não são independentes (ou seja, há uma relação entre o tipo de pagamento e o churn)"
   ]
  },
  {
   "cell_type": "code",
   "execution_count": 133,
   "id": "96eefe8e",
   "metadata": {},
   "outputs": [
    {
     "name": "stdout",
     "output_type": "stream",
     "text": [
      "Estatística Qui-Quadrado: 308.7374\n",
      "Valor p: 0.0000\n",
      "Graus de Liberdade (dof): 3\n"
     ]
    }
   ],
   "source": [
    "# Criando a tabela de contigência em valores absolutos do tipo de pagamento \n",
    "tabela_contigencia_tipo_pagamento = pd.crosstab(pedidos['payment_type'], pedidos['churn'])\n",
    "tabela_contigencia_tipo_pagamento.columns = ['não-churn', 'churn']\n",
    "\n",
    "# Realizar o Teste Qui-Quadrado de Independência\n",
    "# A função chi2_contingency retorna:\n",
    "# - chi2: O valor da estatística qui-quadrado\n",
    "# - p: O valor p do teste\n",
    "# - dof: Graus de liberdade\n",
    "# - expected: As frequências esperadas sob a hipótese nula de independência\n",
    "\n",
    "chi2, p_value, dof, expected = chi2_contingency(tabela_contigencia_tipo_pagamento)\n",
    "\n",
    "print(f\"Estatística Qui-Quadrado: {chi2:.4f}\")\n",
    "print(f\"Valor p: {p_value:.4f}\")\n",
    "print(f\"Graus de Liberdade (dof): {dof}\")"
   ]
  },
  {
   "cell_type": "markdown",
   "id": "9696451c",
   "metadata": {},
   "source": [
    "- Como o resultado do p-valor deu 0% menor que o nível de significância que é 5%, rejeitamos H0.\n",
    "- Isso mostra que não temos evidências significativas de que o tipo de pagamento é independente da variável de churn.\n",
    "- Mostra que temos uma relação significativa entre o tipo de pagamento que o cliente utiliza e se ele se torna um cliente churn ou não."
   ]
  },
  {
   "cell_type": "markdown",
   "id": "6af28951",
   "metadata": {},
   "source": [
    "<strong>Vamos verificar a magnitude da associação utilizando o V de Cramer (Cramer's V), que é indicado quando tem uma tabela de contigência maior que 2 x 2, como nesse caso temos 4 x 2, que significa 4 tipos de pagamento e 2 categorias (churn e não churn), é o método indicado.</strong>\n",
    "\n",
    "Interpretação:\n",
    "\n",
    "0 indica nenhuma associação\n",
    "\n",
    "1 indica uma associação perfeita"
   ]
  },
  {
   "cell_type": "code",
   "execution_count": 134,
   "id": "be7e1205",
   "metadata": {},
   "outputs": [
    {
     "name": "stdout",
     "output_type": "stream",
     "text": [
      "Número total de observações (N): 117329\n",
      "V de Cramer: 0.0513\n"
     ]
    }
   ],
   "source": [
    "# Pegar a quantidade de linhas que o dataset original possui\n",
    "tamanho_df = len(pedidos)\n",
    "\n",
    "# Número de linhas (r) e colunas (k) da tabela de contigência criada para os tipos de pagamentos\n",
    "r, k = 4, 2\n",
    "\n",
    "# Calcula o V de Cramer\n",
    "cramers_v = np.sqrt(chi2 / (tamanho_df * min(k-1, r-1)))\n",
    "\n",
    "print(f\"Número total de observações (N): {tamanho_df}\")\n",
    "print(f\"V de Cramer: {cramers_v:.4f}\")"
   ]
  },
  {
   "cell_type": "markdown",
   "id": "421fdb1a",
   "metadata": {},
   "source": [
    "- O que podemos ver é que há uma relação estatisticamente comprovada, mas a força dessa relação é muito fraca.\n",
    "- O tipo de pagamento não é um fator primário para o churn, mas ela pode ajudar quando estiver em conjunto com outras variáveis."
   ]
  },
  {
   "cell_type": "markdown",
   "id": "7e773b41",
   "metadata": {},
   "source": [
    "<strong>4) A quantidade de parcelas de uma compra interferiu na decisão de ser churn?</strong>"
   ]
  },
  {
   "cell_type": "code",
   "execution_count": 135,
   "id": "38421577",
   "metadata": {},
   "outputs": [
    {
     "data": {
      "image/png": "[encoded data removed]",
      "text/plain": [
       "<Figure size 640x480 with 1 Axes>"
      ]
     },
     "metadata": {},
     "output_type": "display_data"
    }
   ],
   "source": [
    "# Verificando a distribuição de quantidade de parcelas pelo churn\n",
    "sns.boxplot(data=pedidos, x=\"churn\", y=\"payment_installments\")\n",
    "plt.title(\"Distribuição de Quantidade de Parcelas por Churn\")\n",
    "plt.xticks([0, 1], ['Não churn', 'Churn'])\n",
    "plt.xlabel('')\n",
    "plt.ylabel(\"Quantidade de Parcelas\")\n",
    "plt.show()"
   ]
  },
  {
   "cell_type": "markdown",
   "id": "0b881efd",
   "metadata": {},
   "source": [
    "- A quantidade de parcelas está distribuido bem parecido entre clientes que churnaram e não viraram churn.\n",
    "- De acordo com alguns valores outliers percebemos que quantidade maiores de parcelas não se tornaram churn. Mas são poucos os dados."
   ]
  },
  {
   "cell_type": "code",
   "execution_count": null,
   "id": "e9d2edc5",
   "metadata": {},
   "outputs": [
    {
     "data": {
      "image/png": "[encoded data removed]",
      "text/plain": [
       "<Figure size 640x480 with 1 Axes>"
      ]
     },
     "metadata": {},
     "output_type": "display_data"
    }
   ],
   "source": [
    "# Vendo a distribuição da quantidade de parcelas com se o cliente é churn ou não\n",
    "sns.kdeplot(data=pedidos[pedidos['churn'] == 1]['payment_installments'], label='Churn', shade=True, color='#FF9999', alpha=0.6)\n",
    "sns.kdeplot(data=pedidos[pedidos['churn'] == 0]['payment_installments'], label='Não Churn', shade=True, color='#99CCFF', alpha=0.6)\n",
    "plt.title('Distribuição de Quantidade de Parcelas por Churn')\n",
    "plt.xlabel('Quantidade de Parcelas')\n",
    "plt.legend()\n",
    "plt.show()"
   ]
  },
  {
   "cell_type": "markdown",
   "id": "c372d42f",
   "metadata": {},
   "source": [
    "<strong>Vamos usar novamente o teste de hipótese não-paramétrico, Teste U de Mann-Whitney, já que não temos uma distribuição normal para verificar se a quantidade de parcelas está empactando o churn ou não.</strong>\n",
    "\n",
    "H0: Não há diferença significativa na mediana da quantidade de parcelas entre os clientes churn e não-churn. ``medidana_churn = mediana_nao_churn``\n",
    "\n",
    "H1: Há uma diferença significativa na mediana na quantidade de parcelas entre os clientes churn e não-churn. Isso significa que a quantidade de parcelas pode influenciar o churn. ``mediana_churn != mediana_nao_churn``\n",
    "\n",
    "Nível de Significância = 5%"
   ]
  },
  {
   "cell_type": "code",
   "execution_count": 137,
   "id": "1aaaa657",
   "metadata": {},
   "outputs": [
    {
     "name": "stdout",
     "output_type": "stream",
     "text": [
      "Mediana de quantidade de parcelas de churn: 2.0\n",
      "Mediana de quantidade de parcelas de não churn: 1.0\n",
      "\n",
      "Estatística de Mann-Whitney U: 1274333094.5\n",
      "Valor p: 1.467930718930095e-29\n"
     ]
    }
   ],
   "source": [
    "# Separando amostras de quantidade de parcelas de churn e não churn\n",
    "qtd_parcelas_churn = pedidos[pedidos['churn'] == 1]['payment_installments']\n",
    "qtd_parcelas_nao_churn = pedidos[pedidos['churn'] == 0]['payment_installments']\n",
    "\n",
    "# Calculando o teste de hipótese\n",
    "statistic, p_value = stats.mannwhitneyu(qtd_parcelas_churn, qtd_parcelas_nao_churn, alternative='two-sided')\n",
    "\n",
    "print(f'Mediana de quantidade de parcelas de churn: {qtd_parcelas_churn.median()}')\n",
    "print(f'Mediana de quantidade de parcelas de não churn: {qtd_parcelas_nao_churn.median()}\\n')\n",
    "\n",
    "print(f\"Estatística de Mann-Whitney U: {statistic}\")\n",
    "print(f\"Valor p: {p_value}\")"
   ]
  },
  {
   "cell_type": "markdown",
   "id": "729080db",
   "metadata": {},
   "source": [
    "- Como o p-valor foi menor que o nível de confiança, rejeitamos H0. \n",
    "- Isso significa que há evidências estatísticas fortes e suficientes para afirmar que existe uma diferença significativa na distribuição da quantidade de parcelas entre os clientes que viram churn e os que não viram churn."
   ]
  },
  {
   "cell_type": "markdown",
   "id": "59b5207b",
   "metadata": {},
   "source": [
    "<strong>Vamos olhar sobre a magnitude da diferença, que chamamos de tamanho do efeito, para isso vamos usar a medida de Correlação Bisseriana por Ranks (r), ela quantifica a força e a direção da relação entre o grupo (churn vs. não-churn) e a classificação (rank) da quantidade de parcelas.</strong>\n",
    "\n",
    "1 - Valores próximos a 0 indicam um efeito pequeno.\n",
    "\n",
    "2 - Valores de 0.1 a 0.3 são considerados um efeito pequeno.\n",
    "\n",
    "3 - Valores de 0.3 a 0.5 são considerados um efeito médio.\n",
    "\n",
    "4 - Valores acima de 0.5 são considerados um efeito grande."
   ]
  },
  {
   "cell_type": "code",
   "execution_count": 138,
   "id": "8975f5d2",
   "metadata": {},
   "outputs": [
    {
     "name": "stdout",
     "output_type": "stream",
     "text": [
      "Correlação bisseriana por Rank (r): -0.0422\n"
     ]
    }
   ],
   "source": [
    "# Calculando o tamanho do efeito usando o ranks\n",
    "tamanho_amostra_parcelas_churn = len(qtd_parcelas_churn)\n",
    "tamanho_amostra_parcelas_nao_churn = len(qtd_parcelas_nao_churn)\n",
    "u_estatistica = statistic\n",
    "\n",
    "r_rank = 1 - (2 * u_estatistica / (tamanho_amostra_parcelas_churn * tamanho_amostra_parcelas_nao_churn))\n",
    "\n",
    "print(f'Correlação bisseriana por Rank (r): {r_rank:.4f}')"
   ]
  },
  {
   "cell_type": "markdown",
   "id": "90fb6f42",
   "metadata": {},
   "source": [
    "- Com o tamanho do efeito podemos ver que a diferença nas distribuições da quantidade de parcelas entre clientes churn e não-churn é detectável estatisticamente devido ao grande tamanho da amostra, mas essa diferença tem um impacto muito pequeno na prática.\n",
    "- Como o valor da correlação bisseriana por ranks é -0.0422, muito pequeno. Isso significa que a magnitude prática dessa diferença é mínima. Ou seja, quantidade de parcelas é um fator associado ao churn, mas a força dessa associação é muito fraca."
   ]
  },
  {
   "cell_type": "markdown",
   "id": "9443a0f6",
   "metadata": {},
   "source": [
    "<strong>5) Das 10 categorias de produtos mais vendidos, quais que deram mais churn? E das 10 categorias de produtos menos vendidos?</strong>"
   ]
  },
  {
   "cell_type": "code",
   "execution_count": 139,
   "id": "3acdfb2a",
   "metadata": {},
   "outputs": [],
   "source": [
    "# Pegando da tabela de pedidos todos os pedidos das 10 top categorias de produtos\n",
    "pedidos_top_10_categorias = pedidos[pedidos['product_category_name'].isin(top_10_categorias)]"
   ]
  },
  {
   "cell_type": "code",
   "execution_count": 140,
   "id": "21cbb6ff",
   "metadata": {},
   "outputs": [
    {
     "data": {
      "text/html": [
       "<div>\n",
       "<style scoped>\n",
       "    .dataframe tbody tr th:only-of-type {\n",
       "        vertical-align: middle;\n",
       "    }\n",
       "\n",
       "    .dataframe tbody tr th {\n",
       "        vertical-align: top;\n",
       "    }\n",
       "\n",
       "    .dataframe thead th {\n",
       "        text-align: right;\n",
       "    }\n",
       "</style>\n",
       "<table border=\"1\" class=\"dataframe\">\n",
       "  <thead>\n",
       "    <tr style=\"text-align: right;\">\n",
       "      <th></th>\n",
       "      <th>Bom</th>\n",
       "      <th>Ruim</th>\n",
       "    </tr>\n",
       "    <tr>\n",
       "      <th>product_category_name</th>\n",
       "      <th></th>\n",
       "      <th></th>\n",
       "    </tr>\n",
       "  </thead>\n",
       "  <tbody>\n",
       "    <tr>\n",
       "      <th>automotivo</th>\n",
       "      <td>0.060973</td>\n",
       "      <td>0.049337</td>\n",
       "    </tr>\n",
       "    <tr>\n",
       "      <th>beleza_saude</th>\n",
       "      <td>0.138199</td>\n",
       "      <td>0.116004</td>\n",
       "    </tr>\n",
       "    <tr>\n",
       "      <th>cama_mesa_banho</th>\n",
       "      <td>0.155872</td>\n",
       "      <td>0.168052</td>\n",
       "    </tr>\n",
       "    <tr>\n",
       "      <th>esporte_lazer</th>\n",
       "      <td>0.117961</td>\n",
       "      <td>0.125788</td>\n",
       "    </tr>\n",
       "    <tr>\n",
       "      <th>ferramentas_jardim</th>\n",
       "      <td>0.058998</td>\n",
       "      <td>0.067963</td>\n",
       "    </tr>\n",
       "    <tr>\n",
       "      <th>informatica_acessorios</th>\n",
       "      <td>0.110095</td>\n",
       "      <td>0.103212</td>\n",
       "    </tr>\n",
       "    <tr>\n",
       "      <th>moveis_decoracao</th>\n",
       "      <td>0.109505</td>\n",
       "      <td>0.142823</td>\n",
       "    </tr>\n",
       "    <tr>\n",
       "      <th>relogios_presentes</th>\n",
       "      <td>0.091347</td>\n",
       "      <td>0.052402</td>\n",
       "    </tr>\n",
       "    <tr>\n",
       "      <th>telefonia</th>\n",
       "      <td>0.061320</td>\n",
       "      <td>0.067963</td>\n",
       "    </tr>\n",
       "    <tr>\n",
       "      <th>utilidades_domesticas</th>\n",
       "      <td>0.095731</td>\n",
       "      <td>0.106454</td>\n",
       "    </tr>\n",
       "  </tbody>\n",
       "</table>\n",
       "</div>"
      ],
      "text/plain": [
       "                             Bom      Ruim\n",
       "product_category_name                     \n",
       "automotivo              0.060973  0.049337\n",
       "beleza_saude            0.138199  0.116004\n",
       "cama_mesa_banho         0.155872  0.168052\n",
       "esporte_lazer           0.117961  0.125788\n",
       "ferramentas_jardim      0.058998  0.067963\n",
       "informatica_acessorios  0.110095  0.103212\n",
       "moveis_decoracao        0.109505  0.142823\n",
       "relogios_presentes      0.091347  0.052402\n",
       "telefonia               0.061320  0.067963\n",
       "utilidades_domesticas   0.095731  0.106454"
      ]
     },
     "execution_count": 140,
     "metadata": {},
     "output_type": "execute_result"
    }
   ],
   "source": [
    "# Tabela de contigência para ver qual categoria de produto teve mais churn\n",
    "gerar_tabela_contigencia(pedidos_top_10_categorias, \"product_category_name\", \"churn\")"
   ]
  },
  {
   "cell_type": "markdown",
   "id": "dd9d0fc9",
   "metadata": {},
   "source": [
    "- Das duas categorias de produtos que mais tiveram churn foi a categoria de cama_mesa_banho com 16.8% e a categoria de moveis_decoracao com 14.3%."
   ]
  },
  {
   "cell_type": "code",
   "execution_count": 141,
   "id": "1dfdfbaa",
   "metadata": {},
   "outputs": [
    {
     "data": {
      "text/html": [
       "<div>\n",
       "<style scoped>\n",
       "    .dataframe tbody tr th:only-of-type {\n",
       "        vertical-align: middle;\n",
       "    }\n",
       "\n",
       "    .dataframe tbody tr th {\n",
       "        vertical-align: top;\n",
       "    }\n",
       "\n",
       "    .dataframe thead th {\n",
       "        text-align: right;\n",
       "    }\n",
       "</style>\n",
       "<table border=\"1\" class=\"dataframe\">\n",
       "  <thead>\n",
       "    <tr style=\"text-align: right;\">\n",
       "      <th></th>\n",
       "      <th>Bom</th>\n",
       "      <th>Ruim</th>\n",
       "    </tr>\n",
       "    <tr>\n",
       "      <th>product_category_name</th>\n",
       "      <th></th>\n",
       "      <th></th>\n",
       "    </tr>\n",
       "  </thead>\n",
       "  <tbody>\n",
       "    <tr>\n",
       "      <th>artes_e_artesanato</th>\n",
       "      <td>0.186992</td>\n",
       "      <td>0.018182</td>\n",
       "    </tr>\n",
       "    <tr>\n",
       "      <th>casa_conforto_2</th>\n",
       "      <td>0.130081</td>\n",
       "      <td>0.218182</td>\n",
       "    </tr>\n",
       "    <tr>\n",
       "      <th>cds_dvds_musicais</th>\n",
       "      <td>0.048780</td>\n",
       "      <td>0.145455</td>\n",
       "    </tr>\n",
       "    <tr>\n",
       "      <th>fashion_esporte</th>\n",
       "      <td>0.121951</td>\n",
       "      <td>0.290909</td>\n",
       "    </tr>\n",
       "    <tr>\n",
       "      <th>fashion_roupa_infanto_juvenil</th>\n",
       "      <td>0.040650</td>\n",
       "      <td>0.054545</td>\n",
       "    </tr>\n",
       "    <tr>\n",
       "      <th>flores</th>\n",
       "      <td>0.252033</td>\n",
       "      <td>0.000000</td>\n",
       "    </tr>\n",
       "    <tr>\n",
       "      <th>la_cuisine</th>\n",
       "      <td>0.048780</td>\n",
       "      <td>0.163636</td>\n",
       "    </tr>\n",
       "    <tr>\n",
       "      <th>pc_gamer</th>\n",
       "      <td>0.040650</td>\n",
       "      <td>0.090909</td>\n",
       "    </tr>\n",
       "    <tr>\n",
       "      <th>portateis_cozinha_e_preparadores_de_alimentos</th>\n",
       "      <td>0.121951</td>\n",
       "      <td>0.000000</td>\n",
       "    </tr>\n",
       "    <tr>\n",
       "      <th>seguros_e_servicos</th>\n",
       "      <td>0.008130</td>\n",
       "      <td>0.018182</td>\n",
       "    </tr>\n",
       "  </tbody>\n",
       "</table>\n",
       "</div>"
      ],
      "text/plain": [
       "                                                    Bom      Ruim\n",
       "product_category_name                                            \n",
       "artes_e_artesanato                             0.186992  0.018182\n",
       "casa_conforto_2                                0.130081  0.218182\n",
       "cds_dvds_musicais                              0.048780  0.145455\n",
       "fashion_esporte                                0.121951  0.290909\n",
       "fashion_roupa_infanto_juvenil                  0.040650  0.054545\n",
       "flores                                         0.252033  0.000000\n",
       "la_cuisine                                     0.048780  0.163636\n",
       "pc_gamer                                       0.040650  0.090909\n",
       "portateis_cozinha_e_preparadores_de_alimentos  0.121951  0.000000\n",
       "seguros_e_servicos                             0.008130  0.018182"
      ]
     },
     "execution_count": 141,
     "metadata": {},
     "output_type": "execute_result"
    }
   ],
   "source": [
    "# Criando uma tabela de contigência com as cotegorias de produtos menos vendidas e relacionando com o churn\n",
    "categorias_menos_pedidas = pedidos['product_category_name'].value_counts(ascending=True).head(10).index\n",
    "\n",
    "pedidos_down_categorias = pedidos[pedidos['product_category_name'].isin(categorias_menos_pedidas)]\n",
    "\n",
    "gerar_tabela_contigencia(pedidos_down_categorias, \"product_category_name\", \"churn\")"
   ]
  },
  {
   "cell_type": "markdown",
   "id": "09a237ad",
   "metadata": {},
   "source": [
    "- Das 10 categorias de produtos menos vendidas, a que mais deu churn foi a categoria de fashion_esporte com 29.1%, depois vem a categoria de casa_conforto_2 com 21.8%"
   ]
  },
  {
   "cell_type": "markdown",
   "id": "f669dd0d",
   "metadata": {},
   "source": [
    "<strong>Criação de Novas Colunas Relacionado à Períodos</strong>\n",
    "\n",
    "Essas novas colunas de período vão ajudar a analisar como os pedidos se comportaram ao longo do tempo."
   ]
  },
  {
   "cell_type": "code",
   "execution_count": 142,
   "id": "ecbe4e64",
   "metadata": {},
   "outputs": [],
   "source": [
    "# Pegando o mês que foi o pedido\n",
    "pedidos['order_month'] = pedidos['order_purchase_timestamp'].dt.month\n",
    "\n",
    "# Pegando o ano que foi feito o pedido\n",
    "pedidos['order_year'] = pedidos['order_purchase_timestamp'].dt.year\n",
    "\n",
    "# Pegando os dados do dia da semana de cada pedido\n",
    "pedidos['order_day_of_week'] = pedidos['order_purchase_timestamp'].dt.day\n",
    "\n",
    "# Criando uma coluna para lidar com os dias da semana com nome\n",
    "pedidos['order_name_day_of_week'] = pedidos['order_purchase_timestamp'].dt.day_name()\n",
    "\n",
    "# Criando uma coluna que contém o trimestre dos pedidos\n",
    "pedidos['order_quarter'] = pedidos['order_purchase_timestamp'].dt.quarter"
   ]
  },
  {
   "cell_type": "code",
   "execution_count": 143,
   "id": "df31302f",
   "metadata": {},
   "outputs": [
    {
     "data": {
      "text/html": [
       "<div>\n",
       "<style scoped>\n",
       "    .dataframe tbody tr th:only-of-type {\n",
       "        vertical-align: middle;\n",
       "    }\n",
       "\n",
       "    .dataframe tbody tr th {\n",
       "        vertical-align: top;\n",
       "    }\n",
       "\n",
       "    .dataframe thead th {\n",
       "        text-align: right;\n",
       "    }\n",
       "</style>\n",
       "<table border=\"1\" class=\"dataframe\">\n",
       "  <thead>\n",
       "    <tr style=\"text-align: right;\">\n",
       "      <th></th>\n",
       "      <th>order_year</th>\n",
       "      <th>order_month</th>\n",
       "      <th>qtd_pedidos</th>\n",
       "    </tr>\n",
       "  </thead>\n",
       "  <tbody>\n",
       "    <tr>\n",
       "      <th>0</th>\n",
       "      <td>2016</td>\n",
       "      <td>9</td>\n",
       "      <td>3</td>\n",
       "    </tr>\n",
       "    <tr>\n",
       "      <th>1</th>\n",
       "      <td>2016</td>\n",
       "      <td>10</td>\n",
       "      <td>379</td>\n",
       "    </tr>\n",
       "    <tr>\n",
       "      <th>2</th>\n",
       "      <td>2016</td>\n",
       "      <td>12</td>\n",
       "      <td>1</td>\n",
       "    </tr>\n",
       "    <tr>\n",
       "      <th>3</th>\n",
       "      <td>2017</td>\n",
       "      <td>1</td>\n",
       "      <td>1011</td>\n",
       "    </tr>\n",
       "    <tr>\n",
       "      <th>4</th>\n",
       "      <td>2017</td>\n",
       "      <td>2</td>\n",
       "      <td>2058</td>\n",
       "    </tr>\n",
       "    <tr>\n",
       "      <th>5</th>\n",
       "      <td>2017</td>\n",
       "      <td>3</td>\n",
       "      <td>3174</td>\n",
       "    </tr>\n",
       "    <tr>\n",
       "      <th>6</th>\n",
       "      <td>2017</td>\n",
       "      <td>4</td>\n",
       "      <td>2841</td>\n",
       "    </tr>\n",
       "    <tr>\n",
       "      <th>7</th>\n",
       "      <td>2017</td>\n",
       "      <td>5</td>\n",
       "      <td>4404</td>\n",
       "    </tr>\n",
       "    <tr>\n",
       "      <th>8</th>\n",
       "      <td>2017</td>\n",
       "      <td>6</td>\n",
       "      <td>3794</td>\n",
       "    </tr>\n",
       "    <tr>\n",
       "      <th>9</th>\n",
       "      <td>2017</td>\n",
       "      <td>7</td>\n",
       "      <td>4848</td>\n",
       "    </tr>\n",
       "    <tr>\n",
       "      <th>10</th>\n",
       "      <td>2017</td>\n",
       "      <td>8</td>\n",
       "      <td>5163</td>\n",
       "    </tr>\n",
       "    <tr>\n",
       "      <th>11</th>\n",
       "      <td>2017</td>\n",
       "      <td>9</td>\n",
       "      <td>5096</td>\n",
       "    </tr>\n",
       "    <tr>\n",
       "      <th>12</th>\n",
       "      <td>2017</td>\n",
       "      <td>10</td>\n",
       "      <td>5564</td>\n",
       "    </tr>\n",
       "    <tr>\n",
       "      <th>13</th>\n",
       "      <td>2017</td>\n",
       "      <td>11</td>\n",
       "      <td>9014</td>\n",
       "    </tr>\n",
       "    <tr>\n",
       "      <th>14</th>\n",
       "      <td>2017</td>\n",
       "      <td>12</td>\n",
       "      <td>6521</td>\n",
       "    </tr>\n",
       "    <tr>\n",
       "      <th>15</th>\n",
       "      <td>2018</td>\n",
       "      <td>1</td>\n",
       "      <td>8523</td>\n",
       "    </tr>\n",
       "    <tr>\n",
       "      <th>16</th>\n",
       "      <td>2018</td>\n",
       "      <td>2</td>\n",
       "      <td>7944</td>\n",
       "    </tr>\n",
       "    <tr>\n",
       "      <th>17</th>\n",
       "      <td>2018</td>\n",
       "      <td>3</td>\n",
       "      <td>8518</td>\n",
       "    </tr>\n",
       "    <tr>\n",
       "      <th>18</th>\n",
       "      <td>2018</td>\n",
       "      <td>4</td>\n",
       "      <td>8202</td>\n",
       "    </tr>\n",
       "    <tr>\n",
       "      <th>19</th>\n",
       "      <td>2018</td>\n",
       "      <td>5</td>\n",
       "      <td>8181</td>\n",
       "    </tr>\n",
       "    <tr>\n",
       "      <th>20</th>\n",
       "      <td>2018</td>\n",
       "      <td>6</td>\n",
       "      <td>7355</td>\n",
       "    </tr>\n",
       "    <tr>\n",
       "      <th>21</th>\n",
       "      <td>2018</td>\n",
       "      <td>7</td>\n",
       "      <td>7300</td>\n",
       "    </tr>\n",
       "    <tr>\n",
       "      <th>22</th>\n",
       "      <td>2018</td>\n",
       "      <td>8</td>\n",
       "      <td>7434</td>\n",
       "    </tr>\n",
       "    <tr>\n",
       "      <th>23</th>\n",
       "      <td>2018</td>\n",
       "      <td>9</td>\n",
       "      <td>1</td>\n",
       "    </tr>\n",
       "  </tbody>\n",
       "</table>\n",
       "</div>"
      ],
      "text/plain": [
       "    order_year  order_month  qtd_pedidos\n",
       "0         2016            9            3\n",
       "1         2016           10          379\n",
       "2         2016           12            1\n",
       "3         2017            1         1011\n",
       "4         2017            2         2058\n",
       "5         2017            3         3174\n",
       "6         2017            4         2841\n",
       "7         2017            5         4404\n",
       "8         2017            6         3794\n",
       "9         2017            7         4848\n",
       "10        2017            8         5163\n",
       "11        2017            9         5096\n",
       "12        2017           10         5564\n",
       "13        2017           11         9014\n",
       "14        2017           12         6521\n",
       "15        2018            1         8523\n",
       "16        2018            2         7944\n",
       "17        2018            3         8518\n",
       "18        2018            4         8202\n",
       "19        2018            5         8181\n",
       "20        2018            6         7355\n",
       "21        2018            7         7300\n",
       "22        2018            8         7434\n",
       "23        2018            9            1"
      ]
     },
     "execution_count": 143,
     "metadata": {},
     "output_type": "execute_result"
    }
   ],
   "source": [
    "# Agrupando os pedidos por ano e por mês\n",
    "pedidos_mes = pedidos.groupby(['order_year', 'order_month']).size().reset_index(name='qtd_pedidos')\n",
    "pedidos_mes"
   ]
  },
  {
   "cell_type": "markdown",
   "id": "f329a6d5",
   "metadata": {},
   "source": [
    "- Como os meses do ano de 2016 tem poucos registros e o mês 9 de 2018 também tem pouco registro, vou excluir os dados que equivale a esses meses. Esses meses não estão acrescentando na nossa análise."
   ]
  },
  {
   "cell_type": "code",
   "execution_count": 144,
   "id": "cd3c69c1",
   "metadata": {},
   "outputs": [],
   "source": [
    "# Criando um dataframe onde eu vou retirar da base original os meses citados acima\n",
    "pedidos_reduzido = pedidos[pedidos['order_year'] != 2016]\n",
    "pedidos_reduzido = pedidos_reduzido[(pedidos_reduzido['order_year'] != 2018) | ((pedidos_reduzido['order_year'] == 2018) & (pedidos_reduzido['order_month'] != 9))]\n",
    "\n",
    "pedidos_mes_reduzido = pedidos_reduzido.groupby(['order_year', 'order_month']).size().reset_index(name='qtd_pedidos')"
   ]
  },
  {
   "cell_type": "code",
   "execution_count": 145,
   "id": "933dd324",
   "metadata": {},
   "outputs": [
    {
     "data": {
      "image/png": "[encoded data removed]",
      "text/plain": [
       "<Figure size 1000x600 with 1 Axes>"
      ]
     },
     "metadata": {},
     "output_type": "display_data"
    }
   ],
   "source": [
    "# Criando um gráfico de linhas para entender como se comporta os pedidos ao longo dos meses em cada ano\n",
    "x_posicoes = [1, 2, 3, 4, 5, 6, 7, 8, 9, 10, 11, 12]\n",
    "nome_meses = ['Jan', 'Fev', 'Mar', 'Abr', 'Mai', 'Jun', 'Jul', 'Ago', 'Set', 'Out', 'Nov', 'Dez']\n",
    "\n",
    "plt.figure(figsize=(10, 6))\n",
    "sns.lineplot(data=pedidos_mes_reduzido, x='order_month', y='qtd_pedidos', hue='order_year', markers='0')\n",
    "plt.xticks(x_posicoes, nome_meses)\n",
    "plt.title(\"Pedidos por Mês\")\n",
    "plt.show()"
   ]
  },
  {
   "cell_type": "markdown",
   "id": "a4b4a7f8",
   "metadata": {},
   "source": [
    "- Apesar de só ter dados do ano de 2018 até o mês de Agosto, podemos ver que tiveram um crescimento muito superior em relação ao mesmo período do ano anterior.\n",
    "- No ano de 2017 podemos ver um pico de pedidos no mês de Novembro, e isso pode está relacionado com a Black Friday. Como não temos esse mês no ano de 2018, não podemos ver de novo esse padrão.\n",
    "- Apesar de os pedidos terem aumentado de um ano por outro, é possível ver uma queda de janeiro até agosto do ano de 2018."
   ]
  },
  {
   "cell_type": "code",
   "execution_count": 146,
   "id": "2a2e9cec",
   "metadata": {},
   "outputs": [
    {
     "data": {
      "image/png": "[encoded data removed]",
      "text/plain": [
       "<Figure size 800x500 with 1 Axes>"
      ]
     },
     "metadata": {},
     "output_type": "display_data"
    }
   ],
   "source": [
    "# Criando um gráfico de barras em relação a quantidade de pedidos em dias de semana\n",
    "x_posicao_semana = [0, 1, 2, 3, 4, 5, 6]\n",
    "nomes_dia_semana = ['Seg', 'Ter', 'Qua', 'Qui', 'Sex', 'Sab', 'Dom']\n",
    "\n",
    "ordem_dias = ['Monday', 'Tuesday', 'Wednesday', 'Thursday', 'Friday', 'Saturday', 'Sunday']\n",
    "pedidos_reduzido['order_name_day_of_week'] = pd.Categorical(pedidos_reduzido['order_name_day_of_week'], categories=ordem_dias, ordered=True)\n",
    "\n",
    "plt.figure(figsize=(8, 5))\n",
    "sns.countplot(data=pedidos_reduzido, x='order_name_day_of_week')\n",
    "plt.title(\"Distribuição de Pedidos por Dia da Semana\")\n",
    "plt.ylabel(\"Qtd de Pedidos\")\n",
    "plt.xlabel(\"Dias da Semana\")\n",
    "plt.xticks(x_posicao_semana, nomes_dia_semana)\n",
    "plt.show()"
   ]
  },
  {
   "cell_type": "markdown",
   "id": "0c9da12b",
   "metadata": {},
   "source": [
    "- Quando comparamos os pedidos em relação ao dia da semana, vemos que Segunda e Terça são os dias da semana com maior número de pedidos.\n",
    "- Apartir de Quarta os pedidos começam a cair, apesar de Quarda ainda ter muitos pedidos.\n",
    "- E no final de semana vemos que os pedidos caem muito, ficando o sábado com o menor número de pedidos."
   ]
  },
  {
   "cell_type": "code",
   "execution_count": 147,
   "id": "d6cd26fe",
   "metadata": {},
   "outputs": [
    {
     "data": {
      "image/png": "[encoded data removed]",
      "text/plain": [
       "<Figure size 1000x600 with 1 Axes>"
      ]
     },
     "metadata": {},
     "output_type": "display_data"
    }
   ],
   "source": [
    "# Criando um gráfico de linhas para entender como se comporta os pedidos ao longo do trimestre de cada ano \n",
    "pedidos_por_trimestre = pedidos_reduzido.groupby(['order_year', 'order_quarter']).size().reset_index(name='qtd_pedidos')\n",
    "x_posicoes_trimestre = [1, 2, 3, 4]\n",
    "nome_trimestre = ['1º tri', '2º tri', '3º tri', '4º tri']\n",
    "\n",
    "plt.figure(figsize=(10, 6))\n",
    "sns.lineplot(data=pedidos_por_trimestre, x='order_quarter', y='qtd_pedidos', hue='order_year', markers='0')\n",
    "plt.xticks(x_posicoes_trimestre, nome_trimestre)\n",
    "plt.title(\"Pedidos por Trimestre\")\n",
    "plt.show()"
   ]
  },
  {
   "cell_type": "markdown",
   "id": "b728892d",
   "metadata": {},
   "source": [
    "- Comparando os 3 primeiros trimestre de cada ano, podemos ver que enquanto o ano de 2017 tem um crescimento no ano de 2018 é possível ver uma queda ao longo dos trimestres.\n",
    "- No 3° trimestre é possível ver que eles se igualam na quantidade de pedidos nos dois anos.\n",
    "- Existe uma queda brusca de acordo com o ano de 2018."
   ]
  },
  {
   "cell_type": "markdown",
   "id": "ce4785c6",
   "metadata": {},
   "source": [
    "#### Conclusões\n",
    "\n",
    "- Não conseguimos ver relações fortes entre algumas variáveis como o review_score, o preço, a quantidade de parcelas, o tipo de pagamento, com o churn. Vamos usar agora modelos de machine learning para buscar essa relação, descobrir quais são as variáveis que estão impactando mais no churn.\n",
    "\n",
    "- Podemos ver de acordo com a base que os pedidos aumentaram muito de um ano para o outro. Mas é possível ver uma queda de pedidos no último ano de janeiro até agosto."
   ]
  },
  {
   "cell_type": "code",
   "execution_count": null,
   "id": "1f1d542d",
   "metadata": {},
   "outputs": [],
   "source": [
    "# Salvando a base de dados de pedidos que foi alterada em outro arquivo\n",
    "pedidos.to_csv(\"../data/data_processed/olist_orders_processed.csv\", index=False)"
   ]
  }
 ],
 "metadata": {
  "kernelspec": {
   "display_name": "venv",
   "language": "python",
   "name": "python3"
  },
  "language_info": {
   "codemirror_mode": {
    "name": "ipython",
    "version": 3
   },
   "file_extension": ".py",
   "mimetype": "text/x-python",
   "name": "python",
   "nbconvert_exporter": "python",
   "pygments_lexer": "ipython3",
   "version": "3.11.1"
  }
 },
 "nbformat": 4,
 "nbformat_minor": 5
}
